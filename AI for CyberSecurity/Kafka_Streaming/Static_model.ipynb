{
  "nbformat": 4,
  "nbformat_minor": 0,
  "metadata": {
    "colab": {
      "provenance": []
    },
    "kernelspec": {
      "name": "python3",
      "display_name": "Python 3"
    },
    "language_info": {
      "name": "python"
    },
    "gpuClass": "standard"
  },
  "cells": [
    {
      "cell_type": "markdown",
      "source": [
        "#<font color='#ff5748'>***Static_model***</font>\n",
        "---"
      ],
      "metadata": {
        "id": "ujklZQFP5_of"
      }
    },
    {
      "cell_type": "markdown",
      "source": [
        "####<font color='#18A558'>***Libraries***</font>\n",
        "---"
      ],
      "metadata": {
        "id": "2UM6pqOH6qEc"
      }
    },
    {
      "cell_type": "code",
      "source": [
        "import time\n",
        "import math\n",
        "import random\n",
        "import hashlib\n",
        "import warnings\n",
        "import seaborn as sns\n",
        "from tqdm import tqdm\n",
        "import lightgbm as ltb\n",
        "from scipy import stats\n",
        "import missingno as msno\n",
        "from sklearn import metrics\n",
        "from sklearn.svm import SVC\n",
        "import plotly.express as px\n",
        "from google.colab import files\n",
        "from google.colab import drive\n",
        "import matplotlib.pyplot as plt\n",
        "from sklearn.manifold import TSNE\n",
        "import pandas as pd, numpy as np ,re\n",
        "from sklearn.decomposition import PCA\n",
        "from sklearn.decomposition import FastICA\n",
        "from sklearn.metrics import accuracy_score\n",
        "from sklearn.metrics import confusion_matrix\n",
        "from sklearn.preprocessing import MinMaxScaler\n",
        "from sklearn.feature_selection import f_classif\n",
        "from sklearn.model_selection import GridSearchCV\n",
        "from sklearn.feature_selection import SelectKBest\n",
        "from sklearn.metrics import classification_report\n",
        "from sklearn.model_selection import cross_val_score\n",
        "from sklearn.ensemble import RandomForestClassifier\n",
        "from sklearn.model_selection import train_test_split\n",
        "from sklearn.feature_selection import mutual_info_classif\n",
        "from sklearn.model_selection import RepeatedStratifiedKFold"
      ],
      "metadata": {
        "id": "yRqOrmkR7PYy"
      },
      "execution_count": null,
      "outputs": []
    },
    {
      "cell_type": "code",
      "source": [
        "warnings.filterwarnings(\"ignore\")"
      ],
      "metadata": {
        "id": "GtpNSG-8u1QB"
      },
      "execution_count": null,
      "outputs": []
    },
    {
      "cell_type": "markdown",
      "source": [
        "####<font color='#18A558'>***Functions***</font>\n",
        "---"
      ],
      "metadata": {
        "id": "_NoNE0ru69kt"
      }
    },
    {
      "cell_type": "code",
      "source": [
        "# to read the data set\n",
        "def readDataSet(DataSet_name, Sheet_Name):    # to read the of these files (csv, xls, xlsx) as a dataframe.\n",
        "    Extension = re.findall('((.csv)|(.xls)|(.xlsx))', DataSet_name)\n",
        "    Extension = str(Extension)\n",
        "    if '.csv' in Extension:\n",
        "        Extension = '.csv'\n",
        "    elif '.xls' in Extension:\n",
        "        Extension = '.xls'\n",
        "    elif '.xlsx' in Extension:\n",
        "        Extension = '.xlsx'\n",
        "    if Extension == ('.xls' or '.xlsx'):\n",
        "        DataFrame = pd.read_excel(DataSet_name, sheet_name = Sheet_Name)\n",
        "    elif Extension == '.csv':\n",
        "        DataFrame = pd.read_csv(DataSet_name)\n",
        "    return DataFrame\n",
        "\n",
        "# to plot lines\n",
        "def Plot(X,Y,Label,Color, Marker , S , Xlabel , Ylabel , Title):\n",
        "    plt.plot(X, Y, label = Label, c = Color)\n",
        "    plt.scatter(X,Y, c=Color, marker = Marker , s=S)\n",
        "    plt.xlabel(Xlabel)\n",
        "    plt.ylabel(Ylabel)\n",
        "    plt.title(Title)\n",
        "    plt.legend()\n",
        "    return plt\n",
        "\n",
        "# cm\n",
        "def ConfusionMatrix(Y_Actual, Y_Pred):\n",
        "    CF = confusion_matrix(Y_Actual, Y_Pred)\n",
        "    return CF\n",
        "\n",
        "# Plot confusion matrix\n",
        "def PLOT_ConfusionMatrix(CF,Title):\n",
        "    sns.heatmap(CF, annot=True, fmt='d')\n",
        "    plt.title(Title, fontsize = 15)\n",
        "    plt.xlabel('Predicted', fontsize = 15)\n",
        "    plt.ylabel('Actual', fontsize = 15)\n",
        "    return plt.show()\n",
        "\n",
        "# get the each class records in list of lists\n",
        "def GetListOfClasses(numberOfClasses, DataSet, TargetColumn):\n",
        "        ls = [None] * numberOfClasses\n",
        "        for i in range(0,numberOfClasses):\n",
        "            ls[i] = DataSet.loc[DataSet[TargetColumn] == i]\n",
        "        return ls\n",
        "\n",
        "# Plot Data Points\n",
        "def PlotDataPoints(numberOfClasses,colorsOpt ,ListOFClasses, XLabel, Ylabel ,labels ,S, Title):\n",
        "    MarkersOptions = ['o']\n",
        "    \n",
        "    for i in range(numberOfClasses):\n",
        "        plt.scatter(x = ListOFClasses[i].iloc[:, 0:1], y = ListOFClasses[i].iloc[:, 1:2], c=colorsOpt[i], marker = MarkersOptions[0], s=S, label = labels[i])\n",
        "\n",
        "    plt.xlabel(XLabel, fontsize = 15)\n",
        "    plt.ylabel(Ylabel, fontsize = 15)\n",
        "    plt.title(Title)\n",
        "    #plt.legend()\n",
        "    return plt"
      ],
      "metadata": {
        "id": "2gJ5MIaR7eMB"
      },
      "execution_count": null,
      "outputs": []
    },
    {
      "cell_type": "markdown",
      "source": [
        "####<font color='#18A558'>***Read: static_dataset.csv***</font>\n",
        "---"
      ],
      "metadata": {
        "id": "XJGNiQzi9aNF"
      }
    },
    {
      "cell_type": "code",
      "source": [
        "# Upload DataSet to colab\n",
        "# data = files.upload()"
      ],
      "metadata": {
        "id": "wrY_xU8n9tsf"
      },
      "execution_count": null,
      "outputs": []
    },
    {
      "cell_type": "code",
      "source": [
        "# or also i can get the data from my drive\n",
        "from google.colab import drive\n",
        "drive.mount('/content/drive')"
      ],
      "metadata": {
        "id": "t9CkE7AgKkgV",
        "colab": {
          "base_uri": "https://localhost:8080/"
        },
        "outputId": "4118b8fc-3611-497c-a07a-961e029d9f57"
      },
      "execution_count": null,
      "outputs": [
        {
          "output_type": "stream",
          "name": "stdout",
          "text": [
            "Mounted at /content/drive\n"
          ]
        }
      ]
    },
    {
      "cell_type": "code",
      "source": [
        "%cd /content/drive/MyDrive/ELG7186[EG]/"
      ],
      "metadata": {
        "colab": {
          "base_uri": "https://localhost:8080/"
        },
        "id": "lT6mZ3zPWTML",
        "outputId": "d556a1f0-70ea-4769-a998-c5fcabead9a7"
      },
      "execution_count": null,
      "outputs": [
        {
          "output_type": "stream",
          "name": "stdout",
          "text": [
            "/content/drive/MyDrive/ELG7186[EG]\n"
          ]
        }
      ]
    },
    {
      "cell_type": "code",
      "source": [
        "# read the dataset\n",
        "data = readDataSet('Static_dataset.csv', 'Static_dataset')"
      ],
      "metadata": {
        "id": "ocqZ6iFu_uri"
      },
      "execution_count": null,
      "outputs": []
    },
    {
      "cell_type": "markdown",
      "source": [
        "#<font color='#71fff1'>***Data Analysis***</font>\n",
        "---"
      ],
      "metadata": {
        "id": "zRrKHeWz69pK"
      }
    },
    {
      "cell_type": "code",
      "source": [
        "# show sample from the data\n",
        "data.head(5)"
      ],
      "metadata": {
        "colab": {
          "base_uri": "https://localhost:8080/",
          "height": 287
        },
        "id": "ijTifmhEAsNg",
        "outputId": "5b575e49-d04f-4272-9cee-9938740f3334"
      },
      "execution_count": null,
      "outputs": [
        {
          "output_type": "execute_result",
          "data": {
            "text/plain": [
              "  timestamp  FQDN_count  subdomain_length  upper  lower  numeric   entropy  \\\n",
              "0   56:19.8          27                10      0     10       11  2.570417   \n",
              "1   07:23.9          27                10      0     10       11  2.767195   \n",
              "2   23:15.1          26                 9      0     10       10  2.742338   \n",
              "3   04:51.9          27                10      0     10       11  2.570417   \n",
              "4   12:44.0          15                 9      0     11        0  2.929439   \n",
              "\n",
              "   special  labels  labels_max  labels_average longest_word    sld  len  \\\n",
              "0        6       6           7        3.666667            2    192   14   \n",
              "1        6       6           7        3.666667            2    192   14   \n",
              "2        6       6           7        3.500000            2    192   13   \n",
              "3        6       6           7        3.666667            2    192   14   \n",
              "4        4       3           5        4.333333        local  local   15   \n",
              "\n",
              "   subdomain  Target Attack  \n",
              "0          1              1  \n",
              "1          1              1  \n",
              "2          1              0  \n",
              "3          1              1  \n",
              "4          1              1  "
            ],
            "text/html": [
              "\n",
              "  <div id=\"df-72cd8595-9453-4a1d-8b96-e47fd222531f\">\n",
              "    <div class=\"colab-df-container\">\n",
              "      <div>\n",
              "<style scoped>\n",
              "    .dataframe tbody tr th:only-of-type {\n",
              "        vertical-align: middle;\n",
              "    }\n",
              "\n",
              "    .dataframe tbody tr th {\n",
              "        vertical-align: top;\n",
              "    }\n",
              "\n",
              "    .dataframe thead th {\n",
              "        text-align: right;\n",
              "    }\n",
              "</style>\n",
              "<table border=\"1\" class=\"dataframe\">\n",
              "  <thead>\n",
              "    <tr style=\"text-align: right;\">\n",
              "      <th></th>\n",
              "      <th>timestamp</th>\n",
              "      <th>FQDN_count</th>\n",
              "      <th>subdomain_length</th>\n",
              "      <th>upper</th>\n",
              "      <th>lower</th>\n",
              "      <th>numeric</th>\n",
              "      <th>entropy</th>\n",
              "      <th>special</th>\n",
              "      <th>labels</th>\n",
              "      <th>labels_max</th>\n",
              "      <th>labels_average</th>\n",
              "      <th>longest_word</th>\n",
              "      <th>sld</th>\n",
              "      <th>len</th>\n",
              "      <th>subdomain</th>\n",
              "      <th>Target Attack</th>\n",
              "    </tr>\n",
              "  </thead>\n",
              "  <tbody>\n",
              "    <tr>\n",
              "      <th>0</th>\n",
              "      <td>56:19.8</td>\n",
              "      <td>27</td>\n",
              "      <td>10</td>\n",
              "      <td>0</td>\n",
              "      <td>10</td>\n",
              "      <td>11</td>\n",
              "      <td>2.570417</td>\n",
              "      <td>6</td>\n",
              "      <td>6</td>\n",
              "      <td>7</td>\n",
              "      <td>3.666667</td>\n",
              "      <td>2</td>\n",
              "      <td>192</td>\n",
              "      <td>14</td>\n",
              "      <td>1</td>\n",
              "      <td>1</td>\n",
              "    </tr>\n",
              "    <tr>\n",
              "      <th>1</th>\n",
              "      <td>07:23.9</td>\n",
              "      <td>27</td>\n",
              "      <td>10</td>\n",
              "      <td>0</td>\n",
              "      <td>10</td>\n",
              "      <td>11</td>\n",
              "      <td>2.767195</td>\n",
              "      <td>6</td>\n",
              "      <td>6</td>\n",
              "      <td>7</td>\n",
              "      <td>3.666667</td>\n",
              "      <td>2</td>\n",
              "      <td>192</td>\n",
              "      <td>14</td>\n",
              "      <td>1</td>\n",
              "      <td>1</td>\n",
              "    </tr>\n",
              "    <tr>\n",
              "      <th>2</th>\n",
              "      <td>23:15.1</td>\n",
              "      <td>26</td>\n",
              "      <td>9</td>\n",
              "      <td>0</td>\n",
              "      <td>10</td>\n",
              "      <td>10</td>\n",
              "      <td>2.742338</td>\n",
              "      <td>6</td>\n",
              "      <td>6</td>\n",
              "      <td>7</td>\n",
              "      <td>3.500000</td>\n",
              "      <td>2</td>\n",
              "      <td>192</td>\n",
              "      <td>13</td>\n",
              "      <td>1</td>\n",
              "      <td>0</td>\n",
              "    </tr>\n",
              "    <tr>\n",
              "      <th>3</th>\n",
              "      <td>04:51.9</td>\n",
              "      <td>27</td>\n",
              "      <td>10</td>\n",
              "      <td>0</td>\n",
              "      <td>10</td>\n",
              "      <td>11</td>\n",
              "      <td>2.570417</td>\n",
              "      <td>6</td>\n",
              "      <td>6</td>\n",
              "      <td>7</td>\n",
              "      <td>3.666667</td>\n",
              "      <td>2</td>\n",
              "      <td>192</td>\n",
              "      <td>14</td>\n",
              "      <td>1</td>\n",
              "      <td>1</td>\n",
              "    </tr>\n",
              "    <tr>\n",
              "      <th>4</th>\n",
              "      <td>12:44.0</td>\n",
              "      <td>15</td>\n",
              "      <td>9</td>\n",
              "      <td>0</td>\n",
              "      <td>11</td>\n",
              "      <td>0</td>\n",
              "      <td>2.929439</td>\n",
              "      <td>4</td>\n",
              "      <td>3</td>\n",
              "      <td>5</td>\n",
              "      <td>4.333333</td>\n",
              "      <td>local</td>\n",
              "      <td>local</td>\n",
              "      <td>15</td>\n",
              "      <td>1</td>\n",
              "      <td>1</td>\n",
              "    </tr>\n",
              "  </tbody>\n",
              "</table>\n",
              "</div>\n",
              "      <button class=\"colab-df-convert\" onclick=\"convertToInteractive('df-72cd8595-9453-4a1d-8b96-e47fd222531f')\"\n",
              "              title=\"Convert this dataframe to an interactive table.\"\n",
              "              style=\"display:none;\">\n",
              "        \n",
              "  <svg xmlns=\"http://www.w3.org/2000/svg\" height=\"24px\"viewBox=\"0 0 24 24\"\n",
              "       width=\"24px\">\n",
              "    <path d=\"M0 0h24v24H0V0z\" fill=\"none\"/>\n",
              "    <path d=\"M18.56 5.44l.94 2.06.94-2.06 2.06-.94-2.06-.94-.94-2.06-.94 2.06-2.06.94zm-11 1L8.5 8.5l.94-2.06 2.06-.94-2.06-.94L8.5 2.5l-.94 2.06-2.06.94zm10 10l.94 2.06.94-2.06 2.06-.94-2.06-.94-.94-2.06-.94 2.06-2.06.94z\"/><path d=\"M17.41 7.96l-1.37-1.37c-.4-.4-.92-.59-1.43-.59-.52 0-1.04.2-1.43.59L10.3 9.45l-7.72 7.72c-.78.78-.78 2.05 0 2.83L4 21.41c.39.39.9.59 1.41.59.51 0 1.02-.2 1.41-.59l7.78-7.78 2.81-2.81c.8-.78.8-2.07 0-2.86zM5.41 20L4 18.59l7.72-7.72 1.47 1.35L5.41 20z\"/>\n",
              "  </svg>\n",
              "      </button>\n",
              "      \n",
              "  <style>\n",
              "    .colab-df-container {\n",
              "      display:flex;\n",
              "      flex-wrap:wrap;\n",
              "      gap: 12px;\n",
              "    }\n",
              "\n",
              "    .colab-df-convert {\n",
              "      background-color: #E8F0FE;\n",
              "      border: none;\n",
              "      border-radius: 50%;\n",
              "      cursor: pointer;\n",
              "      display: none;\n",
              "      fill: #1967D2;\n",
              "      height: 32px;\n",
              "      padding: 0 0 0 0;\n",
              "      width: 32px;\n",
              "    }\n",
              "\n",
              "    .colab-df-convert:hover {\n",
              "      background-color: #E2EBFA;\n",
              "      box-shadow: 0px 1px 2px rgba(60, 64, 67, 0.3), 0px 1px 3px 1px rgba(60, 64, 67, 0.15);\n",
              "      fill: #174EA6;\n",
              "    }\n",
              "\n",
              "    [theme=dark] .colab-df-convert {\n",
              "      background-color: #3B4455;\n",
              "      fill: #D2E3FC;\n",
              "    }\n",
              "\n",
              "    [theme=dark] .colab-df-convert:hover {\n",
              "      background-color: #434B5C;\n",
              "      box-shadow: 0px 1px 3px 1px rgba(0, 0, 0, 0.15);\n",
              "      filter: drop-shadow(0px 1px 2px rgba(0, 0, 0, 0.3));\n",
              "      fill: #FFFFFF;\n",
              "    }\n",
              "  </style>\n",
              "\n",
              "      <script>\n",
              "        const buttonEl =\n",
              "          document.querySelector('#df-72cd8595-9453-4a1d-8b96-e47fd222531f button.colab-df-convert');\n",
              "        buttonEl.style.display =\n",
              "          google.colab.kernel.accessAllowed ? 'block' : 'none';\n",
              "\n",
              "        async function convertToInteractive(key) {\n",
              "          const element = document.querySelector('#df-72cd8595-9453-4a1d-8b96-e47fd222531f');\n",
              "          const dataTable =\n",
              "            await google.colab.kernel.invokeFunction('convertToInteractive',\n",
              "                                                     [key], {});\n",
              "          if (!dataTable) return;\n",
              "\n",
              "          const docLinkHtml = 'Like what you see? Visit the ' +\n",
              "            '<a target=\"_blank\" href=https://colab.research.google.com/notebooks/data_table.ipynb>data table notebook</a>'\n",
              "            + ' to learn more about interactive tables.';\n",
              "          element.innerHTML = '';\n",
              "          dataTable['output_type'] = 'display_data';\n",
              "          await google.colab.output.renderOutput(dataTable, element);\n",
              "          const docLink = document.createElement('div');\n",
              "          docLink.innerHTML = docLinkHtml;\n",
              "          element.appendChild(docLink);\n",
              "        }\n",
              "      </script>\n",
              "    </div>\n",
              "  </div>\n",
              "  "
            ]
          },
          "metadata": {},
          "execution_count": 8
        }
      ]
    },
    {
      "cell_type": "code",
      "source": [
        "# basic information about the data\n",
        "print(\"the number of the rows is : \", len(data))\n",
        "print(\"the number of the columns is : \", len(data.columns))\n",
        "print(\"the data type of each column is : \",\"\\n\\n\", data.dtypes)"
      ],
      "metadata": {
        "colab": {
          "base_uri": "https://localhost:8080/"
        },
        "id": "tSVcF6dLOSNl",
        "outputId": "739e5b58-d49b-458a-b06c-d63be1ee72e9"
      },
      "execution_count": null,
      "outputs": [
        {
          "output_type": "stream",
          "name": "stdout",
          "text": [
            "the number of the rows is :  268074\n",
            "the number of the columns is :  16\n",
            "the data type of each column is :  \n",
            "\n",
            " timestamp            object\n",
            "FQDN_count            int64\n",
            "subdomain_length      int64\n",
            "upper                 int64\n",
            "lower                 int64\n",
            "numeric               int64\n",
            "entropy             float64\n",
            "special               int64\n",
            "labels                int64\n",
            "labels_max            int64\n",
            "labels_average      float64\n",
            "longest_word         object\n",
            "sld                  object\n",
            "len                   int64\n",
            "subdomain             int64\n",
            "Target Attack         int64\n",
            "dtype: object\n"
          ]
        }
      ]
    },
    {
      "cell_type": "markdown",
      "source": [
        "##<font color='#18A558'>***Data Distribution***</font>\n",
        "---"
      ],
      "metadata": {
        "id": "HRxBBpq569tD"
      }
    },
    {
      "cell_type": "code",
      "source": [
        "# Data Distribution\n",
        "number_of_colors = len(data.columns)\n",
        "colors = [\"#\"+''.join([random.choice('0123456789ABCDEF') for j in range(6)])\n",
        "             for i in range(number_of_colors)]\n",
        "count = 0\n",
        "Figure, Axis = plt.subplots(8,2,figsize=(35,35))\n",
        "\n",
        "for i in tqdm(range(8)):\n",
        "  for j in tqdm(range(2)):\n",
        "      sns.histplot(ax = Axis[i,j],x = data.iloc[:,count], color = colors[count], bins=20)\n",
        "      count = count + 1\n",
        "      if count>16:\n",
        "        break\n",
        "Figure.show()"
      ],
      "metadata": {
        "colab": {
          "base_uri": "https://localhost:8080/",
          "height": 1000
        },
        "id": "TTcbBT5sOSQU",
        "outputId": "4c8e673a-74b5-4421-ef65-9f3e525c1486"
      },
      "execution_count": null,
      "outputs": [
        {
          "output_type": "stream",
          "name": "stderr",
          "text": [
            "  0%|          | 0/8 [00:00<?, ?it/s]\n",
            "  0%|          | 0/2 [00:00<?, ?it/s]\u001b[A\n",
            "100%|██████████| 2/2 [00:50<00:00, 25.05s/it]\n",
            " 12%|█▎        | 1/8 [00:50<05:50, 50.12s/it]\n",
            "  0%|          | 0/2 [00:00<?, ?it/s]\u001b[A\n",
            "100%|██████████| 2/2 [00:00<00:00, 15.08it/s]\n",
            " 25%|██▌       | 2/8 [00:50<02:04, 20.72s/it]\n",
            "  0%|          | 0/2 [00:00<?, ?it/s]\u001b[A\n",
            "100%|██████████| 2/2 [00:00<00:00, 13.26it/s]\n",
            " 38%|███▊      | 3/8 [00:50<00:56, 11.34s/it]\n",
            "  0%|          | 0/2 [00:00<?, ?it/s]\u001b[A\n",
            "100%|██████████| 2/2 [00:00<00:00, 13.99it/s]\n",
            " 50%|█████     | 4/8 [00:50<00:27,  6.92s/it]\n",
            "  0%|          | 0/2 [00:00<?, ?it/s]\u001b[A\n",
            "100%|██████████| 2/2 [00:00<00:00, 13.75it/s]\n",
            " 62%|██████▎   | 5/8 [00:50<00:13,  4.48s/it]\n",
            "  0%|          | 0/2 [00:00<?, ?it/s]\u001b[A\n",
            "100%|██████████| 2/2 [00:09<00:00,  4.85s/it]\n",
            " 75%|███████▌  | 6/8 [01:00<00:12,  6.26s/it]\n",
            "  0%|          | 0/2 [00:00<?, ?it/s]\u001b[A\n",
            "100%|██████████| 2/2 [00:14<00:00,  7.37s/it]\n",
            " 88%|████████▊ | 7/8 [01:15<00:09,  9.04s/it]\n",
            "  0%|          | 0/2 [00:00<?, ?it/s]\u001b[A\n",
            "100%|██████████| 2/2 [00:00<00:00, 15.16it/s]\n",
            "100%|██████████| 8/8 [01:15<00:00,  9.42s/it]\n"
          ]
        },
        {
          "output_type": "display_data",
          "data": {
            "text/plain": [
              "<Figure size 2520x2520 with 16 Axes>"
            ],
            "image/png": "[encoded data removed]"
          },
          "metadata": {
            "needs_background": "light"
          }
        }
      ]
    },
    {
      "cell_type": "markdown",
      "source": [
        "##<font color='#18A558'>***imbalanced or not***</font>\n",
        "---"
      ],
      "metadata": {
        "id": "zO1Sqzjq5oy9"
      }
    },
    {
      "cell_type": "code",
      "source": [
        "data[\"Target Attack\"].unique()"
      ],
      "metadata": {
        "colab": {
          "base_uri": "https://localhost:8080/"
        },
        "id": "iJqEyhjz6Kaa",
        "outputId": "b128e139-9cb0-4332-a202-84ca8ab34a1f"
      },
      "execution_count": null,
      "outputs": [
        {
          "output_type": "execute_result",
          "data": {
            "text/plain": [
              "array([1, 0])"
            ]
          },
          "metadata": {},
          "execution_count": 10
        }
      ]
    },
    {
      "cell_type": "code",
      "source": [
        "fig = px.pie(values=data[\"Target Attack\"].value_counts(),names=[\"class 0\", \"class 1\"],title=\"Category of customer\")\n",
        "fig.show()"
      ],
      "metadata": {
        "id": "reDWQjH9OSTU",
        "colab": {
          "base_uri": "https://localhost:8080/",
          "height": 542
        },
        "outputId": "544c35c3-b984-4d60-ef6d-e1841cc2e5a1"
      },
      "execution_count": null,
      "outputs": [
        {
          "output_type": "display_data",
          "data": {
            "text/html": [
              "<html>\n",
              "<head><meta charset=\"utf-8\" /></head>\n",
              "<body>\n",
              "    <div>            <script src=\"https://cdnjs.cloudflare.com/ajax/libs/mathjax/2.7.5/MathJax.js?config=TeX-AMS-MML_SVG\"></script><script type=\"text/javascript\">if (window.MathJax) {MathJax.Hub.Config({SVG: {font: \"STIX-Web\"}});}</script>                <script type=\"text/javascript\">window.PlotlyConfig = {MathJaxConfig: 'local'};</script>\n",
              "        <script src=\"https://cdn.plot.ly/plotly-2.8.3.min.js\"></script>                <div id=\"8e03fe64-7b5b-4bfa-9215-4a882963272f\" class=\"plotly-graph-div\" style=\"height:525px; width:100%;\"></div>            <script type=\"text/javascript\">                                    window.PLOTLYENV=window.PLOTLYENV || {};                                    if (document.getElementById(\"8e03fe64-7b5b-4bfa-9215-4a882963272f\")) {                    Plotly.newPlot(                        \"8e03fe64-7b5b-4bfa-9215-4a882963272f\",                        [{\"domain\":{\"x\":[0.0,1.0],\"y\":[0.0,1.0]},\"hovertemplate\":\"label=%{label}<br>value=%{value}<extra></extra>\",\"labels\":[\"class 0\",\"class 1\"],\"legendgroup\":\"\",\"name\":\"\",\"showlegend\":true,\"values\":[147179,120895],\"type\":\"pie\"}],                        {\"template\":{\"data\":{\"bar\":[{\"error_x\":{\"color\":\"#2a3f5f\"},\"error_y\":{\"color\":\"#2a3f5f\"},\"marker\":{\"line\":{\"color\":\"#E5ECF6\",\"width\":0.5},\"pattern\":{\"fillmode\":\"overlay\",\"size\":10,\"solidity\":0.2}},\"type\":\"bar\"}],\"barpolar\":[{\"marker\":{\"line\":{\"color\":\"#E5ECF6\",\"width\":0.5},\"pattern\":{\"fillmode\":\"overlay\",\"size\":10,\"solidity\":0.2}},\"type\":\"barpolar\"}],\"carpet\":[{\"aaxis\":{\"endlinecolor\":\"#2a3f5f\",\"gridcolor\":\"white\",\"linecolor\":\"white\",\"minorgridcolor\":\"white\",\"startlinecolor\":\"#2a3f5f\"},\"baxis\":{\"endlinecolor\":\"#2a3f5f\",\"gridcolor\":\"white\",\"linecolor\":\"white\",\"minorgridcolor\":\"white\",\"startlinecolor\":\"#2a3f5f\"},\"type\":\"carpet\"}],\"choropleth\":[{\"colorbar\":{\"outlinewidth\":0,\"ticks\":\"\"},\"type\":\"choropleth\"}],\"contour\":[{\"colorbar\":{\"outlinewidth\":0,\"ticks\":\"\"},\"colorscale\":[[0.0,\"#0d0887\"],[0.1111111111111111,\"#46039f\"],[0.2222222222222222,\"#7201a8\"],[0.3333333333333333,\"#9c179e\"],[0.4444444444444444,\"#bd3786\"],[0.5555555555555556,\"#d8576b\"],[0.6666666666666666,\"#ed7953\"],[0.7777777777777778,\"#fb9f3a\"],[0.8888888888888888,\"#fdca26\"],[1.0,\"#f0f921\"]],\"type\":\"contour\"}],\"contourcarpet\":[{\"colorbar\":{\"outlinewidth\":0,\"ticks\":\"\"},\"type\":\"contourcarpet\"}],\"heatmap\":[{\"colorbar\":{\"outlinewidth\":0,\"ticks\":\"\"},\"colorscale\":[[0.0,\"#0d0887\"],[0.1111111111111111,\"#46039f\"],[0.2222222222222222,\"#7201a8\"],[0.3333333333333333,\"#9c179e\"],[0.4444444444444444,\"#bd3786\"],[0.5555555555555556,\"#d8576b\"],[0.6666666666666666,\"#ed7953\"],[0.7777777777777778,\"#fb9f3a\"],[0.8888888888888888,\"#fdca26\"],[1.0,\"#f0f921\"]],\"type\":\"heatmap\"}],\"heatmapgl\":[{\"colorbar\":{\"outlinewidth\":0,\"ticks\":\"\"},\"colorscale\":[[0.0,\"#0d0887\"],[0.1111111111111111,\"#46039f\"],[0.2222222222222222,\"#7201a8\"],[0.3333333333333333,\"#9c179e\"],[0.4444444444444444,\"#bd3786\"],[0.5555555555555556,\"#d8576b\"],[0.6666666666666666,\"#ed7953\"],[0.7777777777777778,\"#fb9f3a\"],[0.8888888888888888,\"#fdca26\"],[1.0,\"#f0f921\"]],\"type\":\"heatmapgl\"}],\"histogram\":[{\"marker\":{\"pattern\":{\"fillmode\":\"overlay\",\"size\":10,\"solidity\":0.2}},\"type\":\"histogram\"}],\"histogram2d\":[{\"colorbar\":{\"outlinewidth\":0,\"ticks\":\"\"},\"colorscale\":[[0.0,\"#0d0887\"],[0.1111111111111111,\"#46039f\"],[0.2222222222222222,\"#7201a8\"],[0.3333333333333333,\"#9c179e\"],[0.4444444444444444,\"#bd3786\"],[0.5555555555555556,\"#d8576b\"],[0.6666666666666666,\"#ed7953\"],[0.7777777777777778,\"#fb9f3a\"],[0.8888888888888888,\"#fdca26\"],[1.0,\"#f0f921\"]],\"type\":\"histogram2d\"}],\"histogram2dcontour\":[{\"colorbar\":{\"outlinewidth\":0,\"ticks\":\"\"},\"colorscale\":[[0.0,\"#0d0887\"],[0.1111111111111111,\"#46039f\"],[0.2222222222222222,\"#7201a8\"],[0.3333333333333333,\"#9c179e\"],[0.4444444444444444,\"#bd3786\"],[0.5555555555555556,\"#d8576b\"],[0.6666666666666666,\"#ed7953\"],[0.7777777777777778,\"#fb9f3a\"],[0.8888888888888888,\"#fdca26\"],[1.0,\"#f0f921\"]],\"type\":\"histogram2dcontour\"}],\"mesh3d\":[{\"colorbar\":{\"outlinewidth\":0,\"ticks\":\"\"},\"type\":\"mesh3d\"}],\"parcoords\":[{\"line\":{\"colorbar\":{\"outlinewidth\":0,\"ticks\":\"\"}},\"type\":\"parcoords\"}],\"pie\":[{\"automargin\":true,\"type\":\"pie\"}],\"scatter\":[{\"marker\":{\"colorbar\":{\"outlinewidth\":0,\"ticks\":\"\"}},\"type\":\"scatter\"}],\"scatter3d\":[{\"line\":{\"colorbar\":{\"outlinewidth\":0,\"ticks\":\"\"}},\"marker\":{\"colorbar\":{\"outlinewidth\":0,\"ticks\":\"\"}},\"type\":\"scatter3d\"}],\"scattercarpet\":[{\"marker\":{\"colorbar\":{\"outlinewidth\":0,\"ticks\":\"\"}},\"type\":\"scattercarpet\"}],\"scattergeo\":[{\"marker\":{\"colorbar\":{\"outlinewidth\":0,\"ticks\":\"\"}},\"type\":\"scattergeo\"}],\"scattergl\":[{\"marker\":{\"colorbar\":{\"outlinewidth\":0,\"ticks\":\"\"}},\"type\":\"scattergl\"}],\"scattermapbox\":[{\"marker\":{\"colorbar\":{\"outlinewidth\":0,\"ticks\":\"\"}},\"type\":\"scattermapbox\"}],\"scatterpolar\":[{\"marker\":{\"colorbar\":{\"outlinewidth\":0,\"ticks\":\"\"}},\"type\":\"scatterpolar\"}],\"scatterpolargl\":[{\"marker\":{\"colorbar\":{\"outlinewidth\":0,\"ticks\":\"\"}},\"type\":\"scatterpolargl\"}],\"scatterternary\":[{\"marker\":{\"colorbar\":{\"outlinewidth\":0,\"ticks\":\"\"}},\"type\":\"scatterternary\"}],\"surface\":[{\"colorbar\":{\"outlinewidth\":0,\"ticks\":\"\"},\"colorscale\":[[0.0,\"#0d0887\"],[0.1111111111111111,\"#46039f\"],[0.2222222222222222,\"#7201a8\"],[0.3333333333333333,\"#9c179e\"],[0.4444444444444444,\"#bd3786\"],[0.5555555555555556,\"#d8576b\"],[0.6666666666666666,\"#ed7953\"],[0.7777777777777778,\"#fb9f3a\"],[0.8888888888888888,\"#fdca26\"],[1.0,\"#f0f921\"]],\"type\":\"surface\"}],\"table\":[{\"cells\":{\"fill\":{\"color\":\"#EBF0F8\"},\"line\":{\"color\":\"white\"}},\"header\":{\"fill\":{\"color\":\"#C8D4E3\"},\"line\":{\"color\":\"white\"}},\"type\":\"table\"}]},\"layout\":{\"annotationdefaults\":{\"arrowcolor\":\"#2a3f5f\",\"arrowhead\":0,\"arrowwidth\":1},\"autotypenumbers\":\"strict\",\"coloraxis\":{\"colorbar\":{\"outlinewidth\":0,\"ticks\":\"\"}},\"colorscale\":{\"diverging\":[[0,\"#8e0152\"],[0.1,\"#c51b7d\"],[0.2,\"#de77ae\"],[0.3,\"#f1b6da\"],[0.4,\"#fde0ef\"],[0.5,\"#f7f7f7\"],[0.6,\"#e6f5d0\"],[0.7,\"#b8e186\"],[0.8,\"#7fbc41\"],[0.9,\"#4d9221\"],[1,\"#276419\"]],\"sequential\":[[0.0,\"#0d0887\"],[0.1111111111111111,\"#46039f\"],[0.2222222222222222,\"#7201a8\"],[0.3333333333333333,\"#9c179e\"],[0.4444444444444444,\"#bd3786\"],[0.5555555555555556,\"#d8576b\"],[0.6666666666666666,\"#ed7953\"],[0.7777777777777778,\"#fb9f3a\"],[0.8888888888888888,\"#fdca26\"],[1.0,\"#f0f921\"]],\"sequentialminus\":[[0.0,\"#0d0887\"],[0.1111111111111111,\"#46039f\"],[0.2222222222222222,\"#7201a8\"],[0.3333333333333333,\"#9c179e\"],[0.4444444444444444,\"#bd3786\"],[0.5555555555555556,\"#d8576b\"],[0.6666666666666666,\"#ed7953\"],[0.7777777777777778,\"#fb9f3a\"],[0.8888888888888888,\"#fdca26\"],[1.0,\"#f0f921\"]]},\"colorway\":[\"#636efa\",\"#EF553B\",\"#00cc96\",\"#ab63fa\",\"#FFA15A\",\"#19d3f3\",\"#FF6692\",\"#B6E880\",\"#FF97FF\",\"#FECB52\"],\"font\":{\"color\":\"#2a3f5f\"},\"geo\":{\"bgcolor\":\"white\",\"lakecolor\":\"white\",\"landcolor\":\"#E5ECF6\",\"showlakes\":true,\"showland\":true,\"subunitcolor\":\"white\"},\"hoverlabel\":{\"align\":\"left\"},\"hovermode\":\"closest\",\"mapbox\":{\"style\":\"light\"},\"paper_bgcolor\":\"white\",\"plot_bgcolor\":\"#E5ECF6\",\"polar\":{\"angularaxis\":{\"gridcolor\":\"white\",\"linecolor\":\"white\",\"ticks\":\"\"},\"bgcolor\":\"#E5ECF6\",\"radialaxis\":{\"gridcolor\":\"white\",\"linecolor\":\"white\",\"ticks\":\"\"}},\"scene\":{\"xaxis\":{\"backgroundcolor\":\"#E5ECF6\",\"gridcolor\":\"white\",\"gridwidth\":2,\"linecolor\":\"white\",\"showbackground\":true,\"ticks\":\"\",\"zerolinecolor\":\"white\"},\"yaxis\":{\"backgroundcolor\":\"#E5ECF6\",\"gridcolor\":\"white\",\"gridwidth\":2,\"linecolor\":\"white\",\"showbackground\":true,\"ticks\":\"\",\"zerolinecolor\":\"white\"},\"zaxis\":{\"backgroundcolor\":\"#E5ECF6\",\"gridcolor\":\"white\",\"gridwidth\":2,\"linecolor\":\"white\",\"showbackground\":true,\"ticks\":\"\",\"zerolinecolor\":\"white\"}},\"shapedefaults\":{\"line\":{\"color\":\"#2a3f5f\"}},\"ternary\":{\"aaxis\":{\"gridcolor\":\"white\",\"linecolor\":\"white\",\"ticks\":\"\"},\"baxis\":{\"gridcolor\":\"white\",\"linecolor\":\"white\",\"ticks\":\"\"},\"bgcolor\":\"#E5ECF6\",\"caxis\":{\"gridcolor\":\"white\",\"linecolor\":\"white\",\"ticks\":\"\"}},\"title\":{\"x\":0.05},\"xaxis\":{\"automargin\":true,\"gridcolor\":\"white\",\"linecolor\":\"white\",\"ticks\":\"\",\"title\":{\"standoff\":15},\"zerolinecolor\":\"white\",\"zerolinewidth\":2},\"yaxis\":{\"automargin\":true,\"gridcolor\":\"white\",\"linecolor\":\"white\",\"ticks\":\"\",\"title\":{\"standoff\":15},\"zerolinecolor\":\"white\",\"zerolinewidth\":2}}},\"legend\":{\"tracegroupgap\":0},\"title\":{\"text\":\"Category of customer\"}},                        {\"responsive\": true}                    ).then(function(){\n",
              "                            \n",
              "var gd = document.getElementById('8e03fe64-7b5b-4bfa-9215-4a882963272f');\n",
              "var x = new MutationObserver(function (mutations, observer) {{\n",
              "        var display = window.getComputedStyle(gd).display;\n",
              "        if (!display || display === 'none') {{\n",
              "            console.log([gd, 'removed!']);\n",
              "            Plotly.purge(gd);\n",
              "            observer.disconnect();\n",
              "        }}\n",
              "}});\n",
              "\n",
              "// Listen for the removal of the full notebook cells\n",
              "var notebookContainer = gd.closest('#notebook-container');\n",
              "if (notebookContainer) {{\n",
              "    x.observe(notebookContainer, {childList: true});\n",
              "}}\n",
              "\n",
              "// Listen for the clearing of the current output cell\n",
              "var outputEl = gd.closest('.output');\n",
              "if (outputEl) {{\n",
              "    x.observe(outputEl, {childList: true});\n",
              "}}\n",
              "\n",
              "                        })                };                            </script>        </div>\n",
              "</body>\n",
              "</html>"
            ]
          },
          "metadata": {}
        }
      ]
    },
    {
      "cell_type": "markdown",
      "source": [
        "##<font color='#18A558'>***Statistical analysis***</font>\n",
        "---"
      ],
      "metadata": {
        "id": "9B6NenCSJpTK"
      }
    },
    {
      "cell_type": "code",
      "source": [
        "data.describe()"
      ],
      "metadata": {
        "colab": {
          "base_uri": "https://localhost:8080/",
          "height": 381
        },
        "id": "lPluJlFJJtyZ",
        "outputId": "fd9e964d-0eaa-4d15-8fb5-0c1a1428deac"
      },
      "execution_count": null,
      "outputs": [
        {
          "output_type": "execute_result",
          "data": {
            "text/plain": [
              "          FQDN_count  subdomain_length          upper          lower  \\\n",
              "count  268074.000000     268074.000000  268074.000000  268074.000000   \n",
              "mean       22.286596          6.059021       0.845420      10.410014   \n",
              "std         6.001205          3.899505       4.941929       3.207725   \n",
              "min         2.000000          0.000000       0.000000       0.000000   \n",
              "25%        18.000000          3.000000       0.000000      10.000000   \n",
              "50%        24.000000          7.000000       0.000000      10.000000   \n",
              "75%        27.000000         10.000000       0.000000      10.000000   \n",
              "max        36.000000         23.000000      32.000000      34.000000   \n",
              "\n",
              "             numeric        entropy        special         labels  \\\n",
              "count  268074.000000  268074.000000  268074.000000  268074.000000   \n",
              "mean        6.497586       2.485735       4.533577       4.788823   \n",
              "std         4.499866       0.407709       2.187683       1.803256   \n",
              "min         0.000000       0.219195       0.000000       1.000000   \n",
              "25%         0.000000       2.054029       2.000000       3.000000   \n",
              "50%         8.000000       2.570417       6.000000       6.000000   \n",
              "75%        10.000000       2.767195       6.000000       6.000000   \n",
              "max        12.000000       4.216847       7.000000       7.000000   \n",
              "\n",
              "          labels_max  labels_average            len      subdomain  \\\n",
              "count  268074.000000   268074.000000  268074.000000  268074.000000   \n",
              "mean        8.252233        4.802239      12.576714       0.753497   \n",
              "std         4.415355        4.573066       4.177828       0.430975   \n",
              "min         2.000000        2.000000       2.000000       0.000000   \n",
              "25%         7.000000        3.166667      11.000000       1.000000   \n",
              "50%         7.000000        3.666667      12.000000       1.000000   \n",
              "75%         7.000000        4.000000      14.000000       1.000000   \n",
              "max        32.000000       32.000000      33.000000       1.000000   \n",
              "\n",
              "       Target Attack  \n",
              "count  268074.000000  \n",
              "mean        0.549024  \n",
              "std         0.497592  \n",
              "min         0.000000  \n",
              "25%         0.000000  \n",
              "50%         1.000000  \n",
              "75%         1.000000  \n",
              "max         1.000000  "
            ],
            "text/html": [
              "\n",
              "  <div id=\"df-6932f51b-6887-48ce-82a8-67973a4e39d2\">\n",
              "    <div class=\"colab-df-container\">\n",
              "      <div>\n",
              "<style scoped>\n",
              "    .dataframe tbody tr th:only-of-type {\n",
              "        vertical-align: middle;\n",
              "    }\n",
              "\n",
              "    .dataframe tbody tr th {\n",
              "        vertical-align: top;\n",
              "    }\n",
              "\n",
              "    .dataframe thead th {\n",
              "        text-align: right;\n",
              "    }\n",
              "</style>\n",
              "<table border=\"1\" class=\"dataframe\">\n",
              "  <thead>\n",
              "    <tr style=\"text-align: right;\">\n",
              "      <th></th>\n",
              "      <th>FQDN_count</th>\n",
              "      <th>subdomain_length</th>\n",
              "      <th>upper</th>\n",
              "      <th>lower</th>\n",
              "      <th>numeric</th>\n",
              "      <th>entropy</th>\n",
              "      <th>special</th>\n",
              "      <th>labels</th>\n",
              "      <th>labels_max</th>\n",
              "      <th>labels_average</th>\n",
              "      <th>len</th>\n",
              "      <th>subdomain</th>\n",
              "      <th>Target Attack</th>\n",
              "    </tr>\n",
              "  </thead>\n",
              "  <tbody>\n",
              "    <tr>\n",
              "      <th>count</th>\n",
              "      <td>268074.000000</td>\n",
              "      <td>268074.000000</td>\n",
              "      <td>268074.000000</td>\n",
              "      <td>268074.000000</td>\n",
              "      <td>268074.000000</td>\n",
              "      <td>268074.000000</td>\n",
              "      <td>268074.000000</td>\n",
              "      <td>268074.000000</td>\n",
              "      <td>268074.000000</td>\n",
              "      <td>268074.000000</td>\n",
              "      <td>268074.000000</td>\n",
              "      <td>268074.000000</td>\n",
              "      <td>268074.000000</td>\n",
              "    </tr>\n",
              "    <tr>\n",
              "      <th>mean</th>\n",
              "      <td>22.286596</td>\n",
              "      <td>6.059021</td>\n",
              "      <td>0.845420</td>\n",
              "      <td>10.410014</td>\n",
              "      <td>6.497586</td>\n",
              "      <td>2.485735</td>\n",
              "      <td>4.533577</td>\n",
              "      <td>4.788823</td>\n",
              "      <td>8.252233</td>\n",
              "      <td>4.802239</td>\n",
              "      <td>12.576714</td>\n",
              "      <td>0.753497</td>\n",
              "      <td>0.549024</td>\n",
              "    </tr>\n",
              "    <tr>\n",
              "      <th>std</th>\n",
              "      <td>6.001205</td>\n",
              "      <td>3.899505</td>\n",
              "      <td>4.941929</td>\n",
              "      <td>3.207725</td>\n",
              "      <td>4.499866</td>\n",
              "      <td>0.407709</td>\n",
              "      <td>2.187683</td>\n",
              "      <td>1.803256</td>\n",
              "      <td>4.415355</td>\n",
              "      <td>4.573066</td>\n",
              "      <td>4.177828</td>\n",
              "      <td>0.430975</td>\n",
              "      <td>0.497592</td>\n",
              "    </tr>\n",
              "    <tr>\n",
              "      <th>min</th>\n",
              "      <td>2.000000</td>\n",
              "      <td>0.000000</td>\n",
              "      <td>0.000000</td>\n",
              "      <td>0.000000</td>\n",
              "      <td>0.000000</td>\n",
              "      <td>0.219195</td>\n",
              "      <td>0.000000</td>\n",
              "      <td>1.000000</td>\n",
              "      <td>2.000000</td>\n",
              "      <td>2.000000</td>\n",
              "      <td>2.000000</td>\n",
              "      <td>0.000000</td>\n",
              "      <td>0.000000</td>\n",
              "    </tr>\n",
              "    <tr>\n",
              "      <th>25%</th>\n",
              "      <td>18.000000</td>\n",
              "      <td>3.000000</td>\n",
              "      <td>0.000000</td>\n",
              "      <td>10.000000</td>\n",
              "      <td>0.000000</td>\n",
              "      <td>2.054029</td>\n",
              "      <td>2.000000</td>\n",
              "      <td>3.000000</td>\n",
              "      <td>7.000000</td>\n",
              "      <td>3.166667</td>\n",
              "      <td>11.000000</td>\n",
              "      <td>1.000000</td>\n",
              "      <td>0.000000</td>\n",
              "    </tr>\n",
              "    <tr>\n",
              "      <th>50%</th>\n",
              "      <td>24.000000</td>\n",
              "      <td>7.000000</td>\n",
              "      <td>0.000000</td>\n",
              "      <td>10.000000</td>\n",
              "      <td>8.000000</td>\n",
              "      <td>2.570417</td>\n",
              "      <td>6.000000</td>\n",
              "      <td>6.000000</td>\n",
              "      <td>7.000000</td>\n",
              "      <td>3.666667</td>\n",
              "      <td>12.000000</td>\n",
              "      <td>1.000000</td>\n",
              "      <td>1.000000</td>\n",
              "    </tr>\n",
              "    <tr>\n",
              "      <th>75%</th>\n",
              "      <td>27.000000</td>\n",
              "      <td>10.000000</td>\n",
              "      <td>0.000000</td>\n",
              "      <td>10.000000</td>\n",
              "      <td>10.000000</td>\n",
              "      <td>2.767195</td>\n",
              "      <td>6.000000</td>\n",
              "      <td>6.000000</td>\n",
              "      <td>7.000000</td>\n",
              "      <td>4.000000</td>\n",
              "      <td>14.000000</td>\n",
              "      <td>1.000000</td>\n",
              "      <td>1.000000</td>\n",
              "    </tr>\n",
              "    <tr>\n",
              "      <th>max</th>\n",
              "      <td>36.000000</td>\n",
              "      <td>23.000000</td>\n",
              "      <td>32.000000</td>\n",
              "      <td>34.000000</td>\n",
              "      <td>12.000000</td>\n",
              "      <td>4.216847</td>\n",
              "      <td>7.000000</td>\n",
              "      <td>7.000000</td>\n",
              "      <td>32.000000</td>\n",
              "      <td>32.000000</td>\n",
              "      <td>33.000000</td>\n",
              "      <td>1.000000</td>\n",
              "      <td>1.000000</td>\n",
              "    </tr>\n",
              "  </tbody>\n",
              "</table>\n",
              "</div>\n",
              "      <button class=\"colab-df-convert\" onclick=\"convertToInteractive('df-6932f51b-6887-48ce-82a8-67973a4e39d2')\"\n",
              "              title=\"Convert this dataframe to an interactive table.\"\n",
              "              style=\"display:none;\">\n",
              "        \n",
              "  <svg xmlns=\"http://www.w3.org/2000/svg\" height=\"24px\"viewBox=\"0 0 24 24\"\n",
              "       width=\"24px\">\n",
              "    <path d=\"M0 0h24v24H0V0z\" fill=\"none\"/>\n",
              "    <path d=\"M18.56 5.44l.94 2.06.94-2.06 2.06-.94-2.06-.94-.94-2.06-.94 2.06-2.06.94zm-11 1L8.5 8.5l.94-2.06 2.06-.94-2.06-.94L8.5 2.5l-.94 2.06-2.06.94zm10 10l.94 2.06.94-2.06 2.06-.94-2.06-.94-.94-2.06-.94 2.06-2.06.94z\"/><path d=\"M17.41 7.96l-1.37-1.37c-.4-.4-.92-.59-1.43-.59-.52 0-1.04.2-1.43.59L10.3 9.45l-7.72 7.72c-.78.78-.78 2.05 0 2.83L4 21.41c.39.39.9.59 1.41.59.51 0 1.02-.2 1.41-.59l7.78-7.78 2.81-2.81c.8-.78.8-2.07 0-2.86zM5.41 20L4 18.59l7.72-7.72 1.47 1.35L5.41 20z\"/>\n",
              "  </svg>\n",
              "      </button>\n",
              "      \n",
              "  <style>\n",
              "    .colab-df-container {\n",
              "      display:flex;\n",
              "      flex-wrap:wrap;\n",
              "      gap: 12px;\n",
              "    }\n",
              "\n",
              "    .colab-df-convert {\n",
              "      background-color: #E8F0FE;\n",
              "      border: none;\n",
              "      border-radius: 50%;\n",
              "      cursor: pointer;\n",
              "      display: none;\n",
              "      fill: #1967D2;\n",
              "      height: 32px;\n",
              "      padding: 0 0 0 0;\n",
              "      width: 32px;\n",
              "    }\n",
              "\n",
              "    .colab-df-convert:hover {\n",
              "      background-color: #E2EBFA;\n",
              "      box-shadow: 0px 1px 2px rgba(60, 64, 67, 0.3), 0px 1px 3px 1px rgba(60, 64, 67, 0.15);\n",
              "      fill: #174EA6;\n",
              "    }\n",
              "\n",
              "    [theme=dark] .colab-df-convert {\n",
              "      background-color: #3B4455;\n",
              "      fill: #D2E3FC;\n",
              "    }\n",
              "\n",
              "    [theme=dark] .colab-df-convert:hover {\n",
              "      background-color: #434B5C;\n",
              "      box-shadow: 0px 1px 3px 1px rgba(0, 0, 0, 0.15);\n",
              "      filter: drop-shadow(0px 1px 2px rgba(0, 0, 0, 0.3));\n",
              "      fill: #FFFFFF;\n",
              "    }\n",
              "  </style>\n",
              "\n",
              "      <script>\n",
              "        const buttonEl =\n",
              "          document.querySelector('#df-6932f51b-6887-48ce-82a8-67973a4e39d2 button.colab-df-convert');\n",
              "        buttonEl.style.display =\n",
              "          google.colab.kernel.accessAllowed ? 'block' : 'none';\n",
              "\n",
              "        async function convertToInteractive(key) {\n",
              "          const element = document.querySelector('#df-6932f51b-6887-48ce-82a8-67973a4e39d2');\n",
              "          const dataTable =\n",
              "            await google.colab.kernel.invokeFunction('convertToInteractive',\n",
              "                                                     [key], {});\n",
              "          if (!dataTable) return;\n",
              "\n",
              "          const docLinkHtml = 'Like what you see? Visit the ' +\n",
              "            '<a target=\"_blank\" href=https://colab.research.google.com/notebooks/data_table.ipynb>data table notebook</a>'\n",
              "            + ' to learn more about interactive tables.';\n",
              "          element.innerHTML = '';\n",
              "          dataTable['output_type'] = 'display_data';\n",
              "          await google.colab.output.renderOutput(dataTable, element);\n",
              "          const docLink = document.createElement('div');\n",
              "          docLink.innerHTML = docLinkHtml;\n",
              "          element.appendChild(docLink);\n",
              "        }\n",
              "      </script>\n",
              "    </div>\n",
              "  </div>\n",
              "  "
            ]
          },
          "metadata": {},
          "execution_count": 12
        }
      ]
    },
    {
      "cell_type": "markdown",
      "source": [
        "##<font color='#18A558'>***Outliers***</font>\n",
        "---"
      ],
      "metadata": {
        "id": "B9bZ_JXGJ9pX"
      }
    },
    {
      "cell_type": "code",
      "source": [
        "# Detecting outliers (Box Plot)\n",
        "count = 0\n",
        "Figure, Axis = plt.subplots(6,2,figsize=(35,35))\n",
        "Numeric_Features = data.iloc[:, [1,2,3,4,5,6,7,8,9,10,13,14]]\n",
        "names = list(Numeric_Features.columns)\n",
        "for i in tqdm(range(6)):\n",
        "  for j in tqdm(range(2)):\n",
        "      sns.boxplot(ax = Axis[i,j],x = Numeric_Features.iloc[:,count].to_numpy(), color = colors[count]).set(title=names[count])\n",
        "      count = count + 1\n",
        "      if count>12:\n",
        "        break\n",
        "Figure.show()"
      ],
      "metadata": {
        "colab": {
          "base_uri": "https://localhost:8080/",
          "height": 1000
        },
        "id": "30oYvgT8KKkK",
        "outputId": "8e8116d0-1c11-4d2b-8eb3-a5fa4acf9e97"
      },
      "execution_count": null,
      "outputs": [
        {
          "output_type": "stream",
          "name": "stderr",
          "text": [
            "  0%|          | 0/6 [00:00<?, ?it/s]\n",
            "100%|██████████| 2/2 [00:00<00:00, 54.54it/s]\n",
            "\n",
            "100%|██████████| 2/2 [00:00<00:00, 42.90it/s]\n",
            " 33%|███▎      | 2/6 [00:00<00:00, 18.51it/s]\n",
            "100%|██████████| 2/2 [00:00<00:00, 58.34it/s]\n",
            "\n",
            "100%|██████████| 2/2 [00:00<00:00, 43.64it/s]\n",
            " 67%|██████▋   | 4/6 [00:00<00:00, 18.17it/s]\n",
            "100%|██████████| 2/2 [00:00<00:00, 42.90it/s]\n",
            "\n",
            "100%|██████████| 2/2 [00:00<00:00, 46.92it/s]\n",
            "100%|██████████| 6/6 [00:00<00:00, 17.51it/s]\n"
          ]
        },
        {
          "output_type": "display_data",
          "data": {
            "text/plain": [
              "<Figure size 2520x2520 with 12 Axes>"
            ],
            "image/png": "[encoded data removed]"
          },
          "metadata": {
            "needs_background": "light"
          }
        }
      ]
    },
    {
      "cell_type": "markdown",
      "source": [
        "#<font color='#71fff1'>***Feature engineering and data cleaning***</font>\n",
        "---"
      ],
      "metadata": {
        "id": "ldHuMJd3JYuc"
      }
    },
    {
      "cell_type": "markdown",
      "source": [
        "##<font color='#18A558'>***Data analyzing***</font>\n",
        "---"
      ],
      "metadata": {
        "id": "GWqiKxYpJoaS"
      }
    },
    {
      "cell_type": "code",
      "source": [
        "print(\"the number of rows is : \", len(data),\"\\n\\n\")\n",
        "for i in range(len(data.columns)):\n",
        "  print(\"############################################ \", data.columns[i], \" ############################################\")\n",
        "  print(\"the length of the unique values is :\", len(data.iloc[:, i].unique()))\n",
        "  print(\"unique values is :\", data.iloc[:, i].unique(),\"\\n\\n\")"
      ],
      "metadata": {
        "id": "EaTtMSgqOSXU",
        "colab": {
          "base_uri": "https://localhost:8080/"
        },
        "outputId": "46aa7f0e-fd12-41b2-eaff-943839b03034"
      },
      "execution_count": null,
      "outputs": [
        {
          "output_type": "stream",
          "name": "stdout",
          "text": [
            "the number of rows is :  268074 \n",
            "\n",
            "\n",
            "############################################  timestamp  ############################################\n",
            "the length of the unique values is : 35924\n",
            "unique values is : ['56:19.8' '07:23.9' '23:15.1' ... '31:45.8' '51:38.3' '00:40.7'] \n",
            "\n",
            "\n",
            "############################################  FQDN_count  ############################################\n",
            "the length of the unique values is : 34\n",
            "unique values is : [27 26 15 23 24 14 18 21 10  9 25 28 20 32 17 19 12 13 16 11 22 30  4  8\n",
            "  7  2 31  6 29  5 34 36 33 35] \n",
            "\n",
            "\n",
            "############################################  subdomain_length  ############################################\n",
            "the length of the unique values is : 24\n",
            "unique values is : [10  9  3  7  0  8 11 17  2 15  4  6  5 12 22 20  1 13 14 16 18 23 21 19] \n",
            "\n",
            "\n",
            "############################################  upper  ############################################\n",
            "the length of the unique values is : 5\n",
            "unique values is : [ 0 32 11  2  8] \n",
            "\n",
            "\n",
            "############################################  lower  ############################################\n",
            "the length of the unique values is : 34\n",
            "unique values is : [10 11 20 12 17 19  9  8 18  0 14 13 24 15 16 21 23 22 28  4  7  6  5 27\n",
            " 25 29  2 32 26  3 30 31 34 33] \n",
            "\n",
            "\n",
            "############################################  numeric  ############################################\n",
            "the length of the unique values is : 13\n",
            "unique values is : [11 10  0  8  9 12  3  1  2  4  5  6  7] \n",
            "\n",
            "\n",
            "############################################  entropy  ############################################\n",
            "the length of the unique values is : 630\n",
            "unique values is : [2.57041707 2.76719475 2.74233762 2.92943872 3.56808732 2.05402874\n",
            " 2.51424653 2.87911289 3.45187986 2.625      1.82080208 2.55664167\n",
            " 2.61244622 3.16997826 2.73513189 3.11954896 2.89618378 2.60845859\n",
            " 2.28939028 2.71267534 3.36992223 2.15413542 3.38270695 2.37326667\n",
            " 2.91005189 2.31424654 2.98973529 3.0523312  3.33203047 2.67452583\n",
            " 2.34903897 1.72703458 2.535401   1.85754248 2.78621563 2.95288229\n",
            " 2.59548889 3.00743542 2.78130147 3.05290903 2.53085715 3.625\n",
            " 2.95425205 2.59948329 3.31331159 3.48054576 2.03063906 2.40630422\n",
            " 2.58973529 2.875      2.06716806 2.12058993 2.96397243 2.78973528\n",
            " 3.16808732 3.46808732 3.26194435 2.96311965 3.24643122 3.34460514\n",
            " 3.69764001 3.46083132 2.375      2.80040589 3.10682957 2.78063906\n",
            " 3.25       3.03034294 3.15888445 2.67825814 2.64655974 2.74577956\n",
            " 2.20578852 3.07660833 3.07781953 3.36808731 3.34076875 1.05664167\n",
            " 2.48148046 2.389975   2.125      3.56299097 3.         0.90656497\n",
            " 3.13034294 3.39254386 3.28621563 3.37976456 1.625      2.62433761\n",
            " 2.28621563 2.81771111 3.20281953 3.375      3.32781953 2.85613136\n",
            " 2.82111528 3.25412254 3.21438341 2.28041283 3.29883056 1.875\n",
            " 3.14493783 3.38530766 2.889975   2.27626816 3.70804815 1.5\n",
            " 3.1080982  3.02349444 1.91845478 3.42449894 2.72330833 1.98973529\n",
            " 3.19610539 3.80220707 3.3133262  1.48746875 2.61954896 2.39254386\n",
            " 2.97976456 2.38973528 2.58849147 2.97908929 4.18045139 2.11954896\n",
            " 1.36165417 3.06277206 3.20804843 3.48751544 3.01244622 1.45754248\n",
            " 2.85845859 2.15104445 3.44967753 3.22965764 3.34936064 2.49373437\n",
            " 2.33862332 3.09259856 1.83487565 3.24968671 3.125      2.52439747\n",
            " 3.41579051 3.33034294 3.73600695 3.49408267 3.04059893 3.11309789\n",
            " 3.03467014 2.18973528 2.96549722 2.66277206 3.11854653 2.57586853\n",
            " 2.477217   2.32706771 3.03725304 2.73912186 3.1425162  3.44459874\n",
            " 2.23584693 1.76106944 1.78063906 3.24777936 1.         2.45288229\n",
            " 3.10278528 2.11424653 3.16048472 2.84643122 3.18771945 3.05002993\n",
            " 2.41766511 3.49381806 3.32943872 2.79610539 2.81703709 3.09673635\n",
            " 2.57976456 3.05485419 2.82672672 2.71309789 3.23034294 3.16831751\n",
            " 3.43255117 1.92882222 3.25673018 2.90584738 3.03063906 3.45830567\n",
            " 3.31341362 0.389975   2.15207892 3.53450549 2.82715139 2.60578852\n",
            " 2.96840826 2.5304232  3.40423529 3.19576618 2.86144223 1.44132029\n",
            " 3.71604028 2.70281953 2.16722079 3.35144115 3.15563906 3.78790644\n",
            " 3.59841198 2.43464532 3.2458299  3.55174041 3.05779828 2.41969076\n",
            " 2.95281953 2.22330833 3.1411415  2.09859465 3.19483147 2.85252804\n",
            " 3.61173088 3.55018028 3.77232502 3.60583169 2.68426936 2.90563906\n",
            " 2.75       3.86246875 1.7066     3.12293743 3.39167774 2.63216389\n",
            " 3.67696257 1.26344708 3.47863426 3.45281953 2.03875779 3.51649278\n",
            " 3.71120934 3.43854836 2.82781953 1.83875779 3.18224712 3.51309789\n",
            " 1.05754248 3.43034294 2.71327421 0.82080208 3.5        3.35304251\n",
            " 2.890279   3.64643122 2.80689984 1.84494583 2.93468414 2.92355903\n",
            " 3.87666091 3.46622813 3.50583169 2.49271359 3.61172973 3.11818193\n",
            " 3.62790644 3.25878856 3.30472122 3.32751544 3.71127564 3.32601659\n",
            " 3.37643562 3.4833543  3.53276959 3.44581307 3.39277343 3.79831175\n",
            " 2.74379517 2.99752212 3.56559078 3.7181897  3.72937679 1.48437778\n",
            " 2.602217   2.56212039 3.68085081 2.52943872 3.29006957 2.42042668\n",
            " 1.53063906 3.30583169 3.35885655 3.21342002 2.36889509 2.73345859\n",
            " 3.26808731 3.63123318 2.89225896 2.67055326 2.95994914 2.28079916\n",
            " 1.51424654 3.06808732 3.06305435 3.35562809 3.56003957 0.97773279\n",
            " 3.19259856 3.3878976  3.74768177 2.89939747 3.49803659 3.61418414\n",
            " 3.40865171 3.21817552 3.43771094 3.57585328 2.56328382 2.37657705\n",
            " 2.69578872 3.38289479 3.28762532 3.54790644 2.51649653 3.09959338\n",
            " 3.04937361 3.29259857 3.53034294 2.46610642 2.96365276 1.43627812\n",
            " 3.50892432 2.13471239 3.18477448 2.77439747 4.21684695 3.60329975\n",
            " 2.69545372 3.27159583 3.52945745 2.37363939 2.70614096 3.40583169\n",
            " 3.69235454 2.89632431 0.31127812 3.56751544 3.49768177 2.7852132\n",
            " 3.6439224  3.80583169 3.24768177 3.63714795 3.56356883 2.9288097\n",
            " 3.67102195 3.65254731 3.5346674  3.32534967 2.18502128 3.95567385\n",
            " 2.7667575  1.91424653 3.32685404 3.72460028 3.06288189 2.83246764\n",
            " 2.72658854 2.69939003 3.24967088 3.69580208 2.39939747 2.91801095\n",
            " 3.10583169 1.98540261 3.41857475 3.06364635 3.35771094 3.42651825\n",
            " 3.39259857 2.34644885 3.70856291 2.7420088  1.54916136 3.27806147\n",
            " 3.13080817 1.375      3.40994167 3.55478287 2.44643122 3.57578386\n",
            " 2.93034294 3.27901314 3.54427665 1.87221056 3.61246875 3.07698396\n",
            " 3.58101511 3.92137796 3.53850838 3.49514439 3.18810405 2.08951597\n",
            " 3.23473685 2.85438611 1.04776493 3.12534967 2.16466262 1.82877124\n",
            " 3.08760529 2.81116265 3.12873373 3.76787166 2.31850878 2.84727196\n",
            " 2.09749375 3.41434844 3.33560916 3.60492917 3.70583169 1.90769779\n",
            " 3.58605348 1.71424654 3.30865812 2.65385053 3.70696897 3.64751544\n",
            " 0.21919534 3.54956146 3.6426495  3.66434844 3.82730898 2.85598329\n",
            " 1.17379494 2.79259857 3.15379098 2.95253512 3.38466223 2.57781953\n",
            " 2.77263194 3.21622813 2.80754104 3.50947425 3.58639733 3.61543146\n",
            " 2.32500603 3.57810194 3.28751028 3.38790644 3.81382607 2.95485419\n",
            " 2.48705823 1.52775106 3.63289479 2.39610539 2.05664167 2.78820032\n",
            " 2.33886743 2.89259857 2.56299097 1.02832083 3.1822285  3.1849435\n",
            " 2.64939747 3.44580208 3.29956146 2.86645764 2.19576618 2.67410208\n",
            " 2.58174297 1.78973528 3.45732013 3.66808732 1.65725347 3.46158531\n",
            " 3.0191352  3.49280653 3.53983683 3.5599     3.98483133 3.63027536\n",
            " 3.23665417 3.00792606 3.69300174 3.25058589 2.72152848 3.16362937\n",
            " 2.31874559 3.0869904  2.65563906 3.21731994 3.75966841 2.86312982\n",
            " 3.5642351  3.66711312 3.51742734 2.24968671 3.535401   3.30773915\n",
            " 3.11493857 3.76626005 2.47911289 3.34994939 3.19771094 3.6633204\n",
            " 3.13332532 3.49626827 2.30503653 3.30601373 2.91537677 3.86790644\n",
            " 3.67067975 3.56732459 3.33101511 3.02534967 3.60117216 3.58439078\n",
            " 2.57437217 3.55185924 3.42943376 3.52913542 3.13150802 2.9577912\n",
            " 3.76927761 3.33810194 3.50028369 3.20279236 3.35451457 3.01359577\n",
            " 2.9717208  3.56058906 3.4399588  2.49700764 2.03117512 2.88440456\n",
            " 3.62036654 2.93198988 3.60392044 3.810817   3.78212222 3.04499742\n",
            " 3.51771094 3.37399074 3.47945008 3.18760529 2.72146357 3.23907883\n",
            " 3.2177647  3.6853685  2.90217792 3.40751544 2.37846122 3.68008935\n",
            " 3.32603535 2.64911044 3.89744517 3.99168294 3.27870502 3.59925118\n",
            " 3.48352082 3.30790644 2.743275   3.27436274 3.27325465 3.99583877\n",
            " 3.38496546 2.81244792 3.19580208 4.14332758 3.34763927 3.45731994\n",
            " 4.09375    3.60870341 3.13289479 3.51145546 3.36246875 3.73450549\n",
            " 3.38009434 3.32169337 3.30129609 4.16503594 3.49061944 3.75042281\n",
            " 3.33754241 2.16040104 3.30971898 3.24470007 3.85375191 2.73772692\n",
            " 3.83934706 3.50934257 1.40050139 3.210387   3.53194121 3.02332343\n",
            " 2.96743346 3.2307785  3.2954004  1.78621563 3.95822917 3.27190002\n",
            " 3.17549756 2.89175871 2.80789823 2.21504893 3.47429229 3.69891656\n",
            " 3.41175185 3.02402948 2.87245519 3.51965357 3.04385165 0.5\n",
            " 2.34577956 3.47659913 3.37332532 3.29731994 3.64446559 2.72822679\n",
            " 3.67349973 3.92312377 3.00435528 2.69351559 1.889975   2.98971641\n",
            " 3.51133716 3.51816466 2.83767196 3.57600924 3.83771094 3.38139884] \n",
            "\n",
            "\n",
            "############################################  special  ############################################\n",
            "the length of the unique values is : 8\n",
            "unique values is : [6 4 3 2 1 0 5 7] \n",
            "\n",
            "\n",
            "############################################  labels  ############################################\n",
            "the length of the unique values is : 7\n",
            "unique values is : [6 3 2 1 4 5 7] \n",
            "\n",
            "\n",
            "############################################  labels_max  ############################################\n",
            "the length of the unique values is : 31\n",
            "unique values is : [ 7  5 16  6 14 17 32 11  9 15 10 21  8 13  4 19 12 20 27  3  2 18 26 23\n",
            " 22 25 24 29 30 28 31] \n",
            "\n",
            "\n",
            "############################################  labels_average  ############################################\n",
            "the length of the unique values is : 73\n",
            "unique values is : [ 3.66666667  3.5         4.33333333  7.          3.16666667  4.\n",
            "  8.5        10.          4.5         3.33333333  3.83333333  9.5\n",
            " 32.          6.5         5.          9.         12.          5.5\n",
            "  3.75        4.66666667  8.          3.          7.5        11.\n",
            " 15.          6.          5.33333333  6.66666667  7.66666667  5.66666667\n",
            "  7.33333333 11.5        14.5         2.75        5.75        2.33333333\n",
            "  2.          6.33333333  2.5         2.66666667  8.33333333 10.5\n",
            "  4.75        9.66666667  4.25        3.25       10.66666667 13.5\n",
            " 17.5         8.66666667 13.          5.25       16.         12.5\n",
            "  7.75        2.25        6.25        9.33333333 10.33333333 17.\n",
            "  2.8        16.5         3.8        14.          4.8         6.75\n",
            "  5.8        11.33333333 15.5         3.6         4.2         5.4\n",
            "  3.71428571] \n",
            "\n",
            "\n",
            "############################################  longest_word  ############################################\n",
            "the length of the unique values is : 6225\n",
            "unique values is : ['2' 'local' 'pforzheim' ... 'match' 'pantheon' 'sizer'] \n",
            "\n",
            "\n",
            "############################################  sld  ############################################\n",
            "the length of the unique values is : 11112\n",
            "unique values is : ['192' 'local' 'pforzheim-bisons' ... 'telia' 'boomstream' 'e2ma'] \n",
            "\n",
            "\n",
            "############################################  len  ############################################\n",
            "the length of the unique values is : 32\n",
            "unique values is : [14 13 15 20 11 10 18  8  6 12 17 33 16  9 22  7  5 19 21 28  3 27  4 23\n",
            " 25 26 30 24 31 29 32  2] \n",
            "\n",
            "\n",
            "############################################  subdomain  ############################################\n",
            "the length of the unique values is : 2\n",
            "unique values is : [1 0] \n",
            "\n",
            "\n",
            "############################################  Target Attack  ############################################\n",
            "the length of the unique values is : 2\n",
            "unique values is : [1 0] \n",
            "\n",
            "\n"
          ]
        }
      ]
    },
    {
      "cell_type": "markdown",
      "source": [
        "##<font color='#18A558'>***Missing values***</font>\n",
        "---"
      ],
      "metadata": {
        "id": "_CYmYaQnXnkS"
      }
    },
    {
      "cell_type": "code",
      "source": [
        "# Check if there a missing values\n",
        "data.isnull().sum()"
      ],
      "metadata": {
        "colab": {
          "base_uri": "https://localhost:8080/"
        },
        "id": "LbeibloyXx1M",
        "outputId": "af086fdb-d0eb-4bbe-f0c8-30cf3cd47cf3"
      },
      "execution_count": null,
      "outputs": [
        {
          "output_type": "execute_result",
          "data": {
            "text/plain": [
              "timestamp           0\n",
              "FQDN_count          0\n",
              "subdomain_length    0\n",
              "upper               0\n",
              "lower               0\n",
              "numeric             0\n",
              "entropy             0\n",
              "special             0\n",
              "labels              0\n",
              "labels_max          0\n",
              "labels_average      0\n",
              "longest_word        8\n",
              "sld                 0\n",
              "len                 0\n",
              "subdomain           0\n",
              "Target Attack       0\n",
              "dtype: int64"
            ]
          },
          "metadata": {},
          "execution_count": 14
        }
      ]
    },
    {
      "cell_type": "code",
      "source": [
        "msno.bar(data)"
      ],
      "metadata": {
        "id": "nfh6qJbtOSZr",
        "colab": {
          "base_uri": "https://localhost:8080/",
          "height": 518
        },
        "outputId": "8871f37a-90a9-4967-fb96-1ef30cd3a034"
      },
      "execution_count": null,
      "outputs": [
        {
          "output_type": "execute_result",
          "data": {
            "text/plain": [
              "<matplotlib.axes._subplots.AxesSubplot at 0x7fa03ed03390>"
            ]
          },
          "metadata": {},
          "execution_count": 15
        },
        {
          "output_type": "display_data",
          "data": {
            "text/plain": [
              "<Figure size 1800x720 with 3 Axes>"
            ],
            "image/png": "[encoded data removed]"
          },
          "metadata": {
            "needs_background": "light"
          }
        }
      ]
    },
    {
      "cell_type": "code",
      "source": [
        "# before removing the null values\n",
        "len(data)"
      ],
      "metadata": {
        "id": "3PIZb6IvOSd0",
        "colab": {
          "base_uri": "https://localhost:8080/"
        },
        "outputId": "fe7c1a8c-7625-41e1-d6c1-cd7d3d19b84b"
      },
      "execution_count": null,
      "outputs": [
        {
          "output_type": "execute_result",
          "data": {
            "text/plain": [
              "268074"
            ]
          },
          "metadata": {},
          "execution_count": 15
        }
      ]
    },
    {
      "cell_type": "code",
      "source": [
        "# after removing the null values\n",
        "data = data.dropna()\n",
        "print(len(data))\n",
        "data = data.reset_index(drop=True)"
      ],
      "metadata": {
        "colab": {
          "base_uri": "https://localhost:8080/"
        },
        "id": "ClhWLPMwYL45",
        "outputId": "38bc644a-28b7-457d-d243-bfc0d94db114"
      },
      "execution_count": null,
      "outputs": [
        {
          "output_type": "stream",
          "name": "stdout",
          "text": [
            "268066\n"
          ]
        }
      ]
    },
    {
      "cell_type": "markdown",
      "source": [
        "##<font color='#18A558'>***Columns that contain string values***</font>\n",
        "---"
      ],
      "metadata": {
        "id": "mut0mIpAZLmw"
      }
    },
    {
      "cell_type": "code",
      "source": [
        "print(\"the data type of each column is : \",\"\\n\\n\", data.dtypes)"
      ],
      "metadata": {
        "colab": {
          "base_uri": "https://localhost:8080/"
        },
        "id": "NYnSmV9aYL9p",
        "outputId": "8d5920bb-292e-48c7-a188-4934c676e64d"
      },
      "execution_count": null,
      "outputs": [
        {
          "output_type": "stream",
          "name": "stdout",
          "text": [
            "the data type of each column is :  \n",
            "\n",
            " timestamp            object\n",
            "FQDN_count            int64\n",
            "subdomain_length      int64\n",
            "upper                 int64\n",
            "lower                 int64\n",
            "numeric               int64\n",
            "entropy             float64\n",
            "special               int64\n",
            "labels                int64\n",
            "labels_max            int64\n",
            "labels_average      float64\n",
            "longest_word         object\n",
            "sld                  object\n",
            "len                   int64\n",
            "subdomain             int64\n",
            "Target Attack         int64\n",
            "dtype: object\n"
          ]
        }
      ]
    },
    {
      "cell_type": "code",
      "source": [
        "print(\"############################################ \", data.columns[0], \" ############################################\")\n",
        "print(\"unique values is :\", data.iloc[:, 0].unique(),\"\\n\\n\")\n",
        "\n",
        "print(\"############################################ \", data.columns[11], \" ############################################\")\n",
        "print(\"unique values is :\", data.iloc[:, 11].unique(),\"\\n\\n\")\n",
        "\n",
        "print(\"############################################ \", data.columns[12], \" ############################################\")\n",
        "print(\"unique values is :\", data.iloc[:, 12].unique(),\"\\n\\n\")"
      ],
      "metadata": {
        "colab": {
          "base_uri": "https://localhost:8080/"
        },
        "id": "cgjajM33YMAQ",
        "outputId": "a5a8e3c8-6e65-4420-9186-4d339b20cc21"
      },
      "execution_count": null,
      "outputs": [
        {
          "output_type": "stream",
          "name": "stdout",
          "text": [
            "############################################  timestamp  ############################################\n",
            "unique values is : ['56:19.8' '07:23.9' '23:15.1' ... '31:45.8' '51:38.3' '00:40.7'] \n",
            "\n",
            "\n",
            "############################################  longest_word  ############################################\n",
            "unique values is : ['2' 'local' 'pforzheim' ... 'match' 'pantheon' 'sizer'] \n",
            "\n",
            "\n",
            "############################################  sld  ############################################\n",
            "unique values is : ['192' 'local' 'pforzheim-bisons' ... 'telia' 'boomstream' 'e2ma'] \n",
            "\n",
            "\n"
          ]
        }
      ]
    },
    {
      "cell_type": "code",
      "source": [
        "# since i will not use time series model i will drop the timestamp column\n",
        "data = data.iloc[:, 1:]"
      ],
      "metadata": {
        "id": "HZUvFJxLSRs_"
      },
      "execution_count": null,
      "outputs": []
    },
    {
      "cell_type": "code",
      "source": [
        "data.head(5)"
      ],
      "metadata": {
        "colab": {
          "base_uri": "https://localhost:8080/",
          "height": 287
        },
        "id": "YlEIO3x3SzF2",
        "outputId": "3e7e7224-4210-4d4c-8d51-f89bf67257ae"
      },
      "execution_count": null,
      "outputs": [
        {
          "output_type": "execute_result",
          "data": {
            "text/plain": [
              "   FQDN_count  subdomain_length  upper  lower  numeric   entropy  special  \\\n",
              "0          27                10      0     10       11  2.570417        6   \n",
              "1          27                10      0     10       11  2.767195        6   \n",
              "2          26                 9      0     10       10  2.742338        6   \n",
              "3          27                10      0     10       11  2.570417        6   \n",
              "4          15                 9      0     11        0  2.929439        4   \n",
              "\n",
              "   labels  labels_max  labels_average longest_word    sld  len  subdomain  \\\n",
              "0       6           7        3.666667            2    192   14          1   \n",
              "1       6           7        3.666667            2    192   14          1   \n",
              "2       6           7        3.500000            2    192   13          1   \n",
              "3       6           7        3.666667            2    192   14          1   \n",
              "4       3           5        4.333333        local  local   15          1   \n",
              "\n",
              "   Target Attack  \n",
              "0              1  \n",
              "1              1  \n",
              "2              0  \n",
              "3              1  \n",
              "4              1  "
            ],
            "text/html": [
              "\n",
              "  <div id=\"df-6a50fd89-711e-4c3b-b196-553389f40ed8\">\n",
              "    <div class=\"colab-df-container\">\n",
              "      <div>\n",
              "<style scoped>\n",
              "    .dataframe tbody tr th:only-of-type {\n",
              "        vertical-align: middle;\n",
              "    }\n",
              "\n",
              "    .dataframe tbody tr th {\n",
              "        vertical-align: top;\n",
              "    }\n",
              "\n",
              "    .dataframe thead th {\n",
              "        text-align: right;\n",
              "    }\n",
              "</style>\n",
              "<table border=\"1\" class=\"dataframe\">\n",
              "  <thead>\n",
              "    <tr style=\"text-align: right;\">\n",
              "      <th></th>\n",
              "      <th>FQDN_count</th>\n",
              "      <th>subdomain_length</th>\n",
              "      <th>upper</th>\n",
              "      <th>lower</th>\n",
              "      <th>numeric</th>\n",
              "      <th>entropy</th>\n",
              "      <th>special</th>\n",
              "      <th>labels</th>\n",
              "      <th>labels_max</th>\n",
              "      <th>labels_average</th>\n",
              "      <th>longest_word</th>\n",
              "      <th>sld</th>\n",
              "      <th>len</th>\n",
              "      <th>subdomain</th>\n",
              "      <th>Target Attack</th>\n",
              "    </tr>\n",
              "  </thead>\n",
              "  <tbody>\n",
              "    <tr>\n",
              "      <th>0</th>\n",
              "      <td>27</td>\n",
              "      <td>10</td>\n",
              "      <td>0</td>\n",
              "      <td>10</td>\n",
              "      <td>11</td>\n",
              "      <td>2.570417</td>\n",
              "      <td>6</td>\n",
              "      <td>6</td>\n",
              "      <td>7</td>\n",
              "      <td>3.666667</td>\n",
              "      <td>2</td>\n",
              "      <td>192</td>\n",
              "      <td>14</td>\n",
              "      <td>1</td>\n",
              "      <td>1</td>\n",
              "    </tr>\n",
              "    <tr>\n",
              "      <th>1</th>\n",
              "      <td>27</td>\n",
              "      <td>10</td>\n",
              "      <td>0</td>\n",
              "      <td>10</td>\n",
              "      <td>11</td>\n",
              "      <td>2.767195</td>\n",
              "      <td>6</td>\n",
              "      <td>6</td>\n",
              "      <td>7</td>\n",
              "      <td>3.666667</td>\n",
              "      <td>2</td>\n",
              "      <td>192</td>\n",
              "      <td>14</td>\n",
              "      <td>1</td>\n",
              "      <td>1</td>\n",
              "    </tr>\n",
              "    <tr>\n",
              "      <th>2</th>\n",
              "      <td>26</td>\n",
              "      <td>9</td>\n",
              "      <td>0</td>\n",
              "      <td>10</td>\n",
              "      <td>10</td>\n",
              "      <td>2.742338</td>\n",
              "      <td>6</td>\n",
              "      <td>6</td>\n",
              "      <td>7</td>\n",
              "      <td>3.500000</td>\n",
              "      <td>2</td>\n",
              "      <td>192</td>\n",
              "      <td>13</td>\n",
              "      <td>1</td>\n",
              "      <td>0</td>\n",
              "    </tr>\n",
              "    <tr>\n",
              "      <th>3</th>\n",
              "      <td>27</td>\n",
              "      <td>10</td>\n",
              "      <td>0</td>\n",
              "      <td>10</td>\n",
              "      <td>11</td>\n",
              "      <td>2.570417</td>\n",
              "      <td>6</td>\n",
              "      <td>6</td>\n",
              "      <td>7</td>\n",
              "      <td>3.666667</td>\n",
              "      <td>2</td>\n",
              "      <td>192</td>\n",
              "      <td>14</td>\n",
              "      <td>1</td>\n",
              "      <td>1</td>\n",
              "    </tr>\n",
              "    <tr>\n",
              "      <th>4</th>\n",
              "      <td>15</td>\n",
              "      <td>9</td>\n",
              "      <td>0</td>\n",
              "      <td>11</td>\n",
              "      <td>0</td>\n",
              "      <td>2.929439</td>\n",
              "      <td>4</td>\n",
              "      <td>3</td>\n",
              "      <td>5</td>\n",
              "      <td>4.333333</td>\n",
              "      <td>local</td>\n",
              "      <td>local</td>\n",
              "      <td>15</td>\n",
              "      <td>1</td>\n",
              "      <td>1</td>\n",
              "    </tr>\n",
              "  </tbody>\n",
              "</table>\n",
              "</div>\n",
              "      <button class=\"colab-df-convert\" onclick=\"convertToInteractive('df-6a50fd89-711e-4c3b-b196-553389f40ed8')\"\n",
              "              title=\"Convert this dataframe to an interactive table.\"\n",
              "              style=\"display:none;\">\n",
              "        \n",
              "  <svg xmlns=\"http://www.w3.org/2000/svg\" height=\"24px\"viewBox=\"0 0 24 24\"\n",
              "       width=\"24px\">\n",
              "    <path d=\"M0 0h24v24H0V0z\" fill=\"none\"/>\n",
              "    <path d=\"M18.56 5.44l.94 2.06.94-2.06 2.06-.94-2.06-.94-.94-2.06-.94 2.06-2.06.94zm-11 1L8.5 8.5l.94-2.06 2.06-.94-2.06-.94L8.5 2.5l-.94 2.06-2.06.94zm10 10l.94 2.06.94-2.06 2.06-.94-2.06-.94-.94-2.06-.94 2.06-2.06.94z\"/><path d=\"M17.41 7.96l-1.37-1.37c-.4-.4-.92-.59-1.43-.59-.52 0-1.04.2-1.43.59L10.3 9.45l-7.72 7.72c-.78.78-.78 2.05 0 2.83L4 21.41c.39.39.9.59 1.41.59.51 0 1.02-.2 1.41-.59l7.78-7.78 2.81-2.81c.8-.78.8-2.07 0-2.86zM5.41 20L4 18.59l7.72-7.72 1.47 1.35L5.41 20z\"/>\n",
              "  </svg>\n",
              "      </button>\n",
              "      \n",
              "  <style>\n",
              "    .colab-df-container {\n",
              "      display:flex;\n",
              "      flex-wrap:wrap;\n",
              "      gap: 12px;\n",
              "    }\n",
              "\n",
              "    .colab-df-convert {\n",
              "      background-color: #E8F0FE;\n",
              "      border: none;\n",
              "      border-radius: 50%;\n",
              "      cursor: pointer;\n",
              "      display: none;\n",
              "      fill: #1967D2;\n",
              "      height: 32px;\n",
              "      padding: 0 0 0 0;\n",
              "      width: 32px;\n",
              "    }\n",
              "\n",
              "    .colab-df-convert:hover {\n",
              "      background-color: #E2EBFA;\n",
              "      box-shadow: 0px 1px 2px rgba(60, 64, 67, 0.3), 0px 1px 3px 1px rgba(60, 64, 67, 0.15);\n",
              "      fill: #174EA6;\n",
              "    }\n",
              "\n",
              "    [theme=dark] .colab-df-convert {\n",
              "      background-color: #3B4455;\n",
              "      fill: #D2E3FC;\n",
              "    }\n",
              "\n",
              "    [theme=dark] .colab-df-convert:hover {\n",
              "      background-color: #434B5C;\n",
              "      box-shadow: 0px 1px 3px 1px rgba(0, 0, 0, 0.15);\n",
              "      filter: drop-shadow(0px 1px 2px rgba(0, 0, 0, 0.3));\n",
              "      fill: #FFFFFF;\n",
              "    }\n",
              "  </style>\n",
              "\n",
              "      <script>\n",
              "        const buttonEl =\n",
              "          document.querySelector('#df-6a50fd89-711e-4c3b-b196-553389f40ed8 button.colab-df-convert');\n",
              "        buttonEl.style.display =\n",
              "          google.colab.kernel.accessAllowed ? 'block' : 'none';\n",
              "\n",
              "        async function convertToInteractive(key) {\n",
              "          const element = document.querySelector('#df-6a50fd89-711e-4c3b-b196-553389f40ed8');\n",
              "          const dataTable =\n",
              "            await google.colab.kernel.invokeFunction('convertToInteractive',\n",
              "                                                     [key], {});\n",
              "          if (!dataTable) return;\n",
              "\n",
              "          const docLinkHtml = 'Like what you see? Visit the ' +\n",
              "            '<a target=\"_blank\" href=https://colab.research.google.com/notebooks/data_table.ipynb>data table notebook</a>'\n",
              "            + ' to learn more about interactive tables.';\n",
              "          element.innerHTML = '';\n",
              "          dataTable['output_type'] = 'display_data';\n",
              "          await google.colab.output.renderOutput(dataTable, element);\n",
              "          const docLink = document.createElement('div');\n",
              "          docLink.innerHTML = docLinkHtml;\n",
              "          element.appendChild(docLink);\n",
              "        }\n",
              "      </script>\n",
              "    </div>\n",
              "  </div>\n",
              "  "
            ]
          },
          "metadata": {},
          "execution_count": 20
        }
      ]
    },
    {
      "cell_type": "markdown",
      "source": [
        "##<font color='#18A558'>***Hashing string columns***</font>\n",
        "---"
      ],
      "metadata": {
        "id": "aN9gXgSONq1O"
      }
    },
    {
      "cell_type": "code",
      "source": [
        "data['longest_word'] = data['longest_word'].astype(str)\n",
        "data['sld'] = data['sld'].astype(str)"
      ],
      "metadata": {
        "id": "ThkLUvQyYMCk"
      },
      "execution_count": null,
      "outputs": []
    },
    {
      "cell_type": "code",
      "source": [
        "print(\"the length of unique elements in\", data.columns[10],\"column is :\",len(data['longest_word'].unique()))\n",
        "print(data['longest_word'].unique())"
      ],
      "metadata": {
        "colab": {
          "base_uri": "https://localhost:8080/"
        },
        "id": "udoYVu12YMEx",
        "outputId": "07da3b2d-9f90-489b-f485-a6319168279a"
      },
      "execution_count": null,
      "outputs": [
        {
          "output_type": "stream",
          "name": "stdout",
          "text": [
            "the length of unique elements in longest_word column is : 6224\n",
            "['2' 'local' 'pforzheim' ... 'match' 'pantheon' 'sizer']\n"
          ]
        }
      ]
    },
    {
      "cell_type": "code",
      "source": [
        "print(\"the length of unique elements in\", data.columns[11],\"column is :\",len(data['sld'].unique()))\n",
        "print(data['sld'].unique())"
      ],
      "metadata": {
        "colab": {
          "base_uri": "https://localhost:8080/"
        },
        "id": "Uw7_T9ZcaKWt",
        "outputId": "5d49f100-5423-4e9d-dce4-49f45c9299d2"
      },
      "execution_count": null,
      "outputs": [
        {
          "output_type": "stream",
          "name": "stdout",
          "text": [
            "the length of unique elements in sld column is : 11110\n",
            "['192' 'local' 'pforzheim-bisons' ... 'telia' 'boomstream' 'e2ma']\n"
          ]
        }
      ]
    },
    {
      "cell_type": "code",
      "source": [
        "data['longest_word_hash'] = data['longest_word'].apply(\n",
        "    lambda variable: \n",
        "        hashlib.md5(variable.encode()).hexdigest()\n",
        ")\n",
        "\n",
        "data['sld_hash'] = data['sld'].apply(\n",
        "    lambda variable:\n",
        "        hashlib.md5(variable.encode()).hexdigest()\n",
        ")"
      ],
      "metadata": {
        "id": "RhiFoHfCYMHE"
      },
      "execution_count": null,
      "outputs": []
    },
    {
      "cell_type": "code",
      "source": [
        "data['longest_word_hash'] = data['longest_word_hash'].apply(\n",
        "    lambda variable: \n",
        "        int(variable, base=16)\n",
        ")\n",
        "\n",
        "data['sld_hash'] = data['sld_hash'].apply(\n",
        "    lambda variable: \n",
        "        int(variable, base=16)\n",
        ")\n",
        "\n",
        "data['longest_word_hash'] = data['longest_word_hash'].astype(float)\n",
        "data['sld_hash'] = data['sld_hash'].astype(float)\n",
        "\n",
        "data = data.drop(['longest_word', 'sld'], axis=1)"
      ],
      "metadata": {
        "id": "83lEq-nghiYS"
      },
      "execution_count": null,
      "outputs": []
    },
    {
      "cell_type": "code",
      "source": [
        "data.dtypes"
      ],
      "metadata": {
        "colab": {
          "base_uri": "https://localhost:8080/"
        },
        "id": "X3nfw4Qf5QOv",
        "outputId": "a10d0d59-cf9a-49ea-f0ea-5a0cb911008b"
      },
      "execution_count": null,
      "outputs": [
        {
          "output_type": "execute_result",
          "data": {
            "text/plain": [
              "FQDN_count             int64\n",
              "subdomain_length       int64\n",
              "upper                  int64\n",
              "lower                  int64\n",
              "numeric                int64\n",
              "entropy              float64\n",
              "special                int64\n",
              "labels                 int64\n",
              "labels_max             int64\n",
              "labels_average       float64\n",
              "len                    int64\n",
              "subdomain              int64\n",
              "Target Attack          int64\n",
              "longest_word_hash    float64\n",
              "sld_hash             float64\n",
              "dtype: object"
            ]
          },
          "metadata": {},
          "execution_count": 26
        }
      ]
    },
    {
      "cell_type": "code",
      "source": [
        "print(data['longest_word_hash'][0])\n",
        "print(data['sld_hash'][0])"
      ],
      "metadata": {
        "colab": {
          "base_uri": "https://localhost:8080/"
        },
        "id": "J5haEqEL5QQ4",
        "outputId": "9ffc3842-a443-47ef-d806-e2cc5c8806ff"
      },
      "execution_count": null,
      "outputs": [
        {
          "output_type": "stream",
          "name": "stdout",
          "text": [
            "2.660036914772862e+38\n",
            "1.1781833566796777e+38\n"
          ]
        }
      ]
    },
    {
      "cell_type": "markdown",
      "source": [
        "#<font color='#71fff1'>***Feature Filtering/Selection***</font>\n",
        "---"
      ],
      "metadata": {
        "id": "HGtqp2dVHUil"
      }
    },
    {
      "cell_type": "markdown",
      "source": [
        "##<font color='#18A558'>***X and Y***</font>\n",
        "---"
      ],
      "metadata": {
        "id": "TVwq8VuXHgwR"
      }
    },
    {
      "cell_type": "code",
      "source": [
        "y = data.iloc[:, [12]]\n",
        "x = data.drop(['Target Attack'], axis=1)\n",
        "\n",
        "y = y.to_numpy().ravel()\n",
        "x = x.to_numpy()"
      ],
      "metadata": {
        "id": "UqQeRkt6Wqnd"
      },
      "execution_count": null,
      "outputs": []
    },
    {
      "cell_type": "code",
      "source": [
        "x.shape"
      ],
      "metadata": {
        "colab": {
          "base_uri": "https://localhost:8080/"
        },
        "id": "NvlFidI95MK6",
        "outputId": "a6bf7465-2be0-4b90-8e04-922e1b9f840c"
      },
      "execution_count": null,
      "outputs": [
        {
          "output_type": "execute_result",
          "data": {
            "text/plain": [
              "(268066, 14)"
            ]
          },
          "metadata": {},
          "execution_count": 29
        }
      ]
    },
    {
      "cell_type": "code",
      "source": [
        "y.shape"
      ],
      "metadata": {
        "colab": {
          "base_uri": "https://localhost:8080/"
        },
        "id": "iNhS6raG5N7z",
        "outputId": "e7ec5158-6213-41d9-a075-5e14c0c75c3d"
      },
      "execution_count": null,
      "outputs": [
        {
          "output_type": "execute_result",
          "data": {
            "text/plain": [
              "(268066,)"
            ]
          },
          "metadata": {},
          "execution_count": 30
        }
      ]
    },
    {
      "cell_type": "code",
      "source": [
        "all_methods = []"
      ],
      "metadata": {
        "id": "YYonQ0IrAt2i"
      },
      "execution_count": null,
      "outputs": []
    },
    {
      "cell_type": "markdown",
      "source": [
        "##<font color='#18A558'>***First method: Fast ICA***</font>\n",
        "---"
      ],
      "metadata": {
        "id": "5m0UPeTSXnXu"
      }
    },
    {
      "cell_type": "code",
      "source": [
        "accuraciesICA = []\n",
        "cv = RepeatedStratifiedKFold(n_splits=10, n_repeats=1, random_state=42)\n",
        "\n",
        "for i in range(2,14):\n",
        "  ICA_obj = FastICA(n_components=i)\n",
        "  x_ICA = ICA_obj.fit_transform(x)\n",
        "  model = ltb.LGBMClassifier()\n",
        "  scores = cross_val_score(model, x_ICA, y, scoring='accuracy', cv=cv)\n",
        "  accuraciesICA.append(max(scores))\n",
        "  print(max(scores))\n",
        "\n",
        "all_methods.append(accuraciesICA)"
      ],
      "metadata": {
        "colab": {
          "base_uri": "https://localhost:8080/"
        },
        "id": "RxnPFRxWWqpa",
        "outputId": "f21ab599-a5f2-4465-e2ae-943626a80998"
      },
      "execution_count": null,
      "outputs": [
        {
          "output_type": "stream",
          "name": "stdout",
          "text": [
            "0.8291491028462715\n",
            "0.8291864065356064\n",
            "0.8291864065356064\n",
            "0.8290371917782668\n",
            "0.8292237102249412\n",
            "0.829298317603611\n",
            "0.8291491028462715\n",
            "0.829298317603611\n",
            "0.829298317603611\n",
            "0.829298317603611\n",
            "0.829298317603611\n",
            "0.829298317603611\n"
          ]
        }
      ]
    },
    {
      "cell_type": "code",
      "source": [
        "Plot([2,3,4,5,6,7,8,9,10,11,12,13],accuraciesICA,\"num of components\", \"#8b24f1\", \"o\", 50, \"num of components\", \"accuracies\", \"Fast ICA\")"
      ],
      "metadata": {
        "colab": {
          "base_uri": "https://localhost:8080/",
          "height": 313
        },
        "id": "8y-dohuOWquY",
        "outputId": "7411bc6a-b73f-4b62-86b4-a1672602b569"
      },
      "execution_count": null,
      "outputs": [
        {
          "output_type": "execute_result",
          "data": {
            "text/plain": [
              "<module 'matplotlib.pyplot' from '/usr/local/lib/python3.7/dist-packages/matplotlib/pyplot.py'>"
            ]
          },
          "metadata": {},
          "execution_count": 36
        },
        {
          "output_type": "display_data",
          "data": {
            "text/plain": [
              "<Figure size 432x288 with 1 Axes>"
            ],
            "image/png": "[encoded data removed]"
          },
          "metadata": {
            "needs_background": "light"
          }
        }
      ]
    },
    {
      "cell_type": "markdown",
      "source": [
        "##<font color='#18A558'>***Second method: PCA***</font>\n",
        "---"
      ],
      "metadata": {
        "id": "z9GJ6Ge3etk5"
      }
    },
    {
      "cell_type": "code",
      "source": [
        "accuraciesPCA = []\n",
        "cv = RepeatedStratifiedKFold(n_splits=10, n_repeats=1, random_state=42)\n",
        "\n",
        "for i in range(2,14):\n",
        "  PCA_obj = PCA(n_components=i)\n",
        "  x_PCA = PCA_obj.fit_transform(x)\n",
        "  model = ltb.LGBMClassifier()\n",
        "  scores = cross_val_score(model, x_PCA, y, scoring='accuracy', cv=cv)\n",
        "  accuraciesPCA.append(max(scores))\n",
        "  print(max(scores))\n",
        "\n",
        "all_methods.append(accuraciesPCA)"
      ],
      "metadata": {
        "colab": {
          "base_uri": "https://localhost:8080/"
        },
        "id": "ZVYp5iw5Wq2q",
        "outputId": "b30c8c53-8780-4b60-b3fc-7342ecccef14"
      },
      "execution_count": null,
      "outputs": [
        {
          "output_type": "stream",
          "name": "stdout",
          "text": [
            "0.8290744954676017\n",
            "0.829298317603611\n",
            "0.829298317603611\n",
            "0.8292610139142761\n",
            "0.829298317603611\n",
            "0.8292610139142761\n",
            "0.8293356212929459\n",
            "0.829298317603611\n",
            "0.829298317603611\n",
            "0.829298317603611\n",
            "0.8292610139142761\n",
            "0.8292610139142761\n"
          ]
        }
      ]
    },
    {
      "cell_type": "code",
      "source": [
        "Plot([2,3,4,5,6,7,8,9,10,11,12,13],accuraciesPCA,\"num of components\", \"#228C22\", \"o\", 50, \"num of components\", \"accuracies\", \"PCA\")"
      ],
      "metadata": {
        "colab": {
          "base_uri": "https://localhost:8080/",
          "height": 313
        },
        "id": "dfQhx8R4Wq5D",
        "outputId": "49e6813c-6e76-4271-d9be-e0a8254b742d"
      },
      "execution_count": null,
      "outputs": [
        {
          "output_type": "execute_result",
          "data": {
            "text/plain": [
              "<module 'matplotlib.pyplot' from '/usr/local/lib/python3.7/dist-packages/matplotlib/pyplot.py'>"
            ]
          },
          "metadata": {},
          "execution_count": 38
        },
        {
          "output_type": "display_data",
          "data": {
            "text/plain": [
              "<Figure size 432x288 with 1 Axes>"
            ],
            "image/png": "[encoded data removed]"
          },
          "metadata": {
            "needs_background": "light"
          }
        }
      ]
    },
    {
      "cell_type": "markdown",
      "source": [
        "##<font color='#18A558'>***Third method: ANOVA***</font>\n",
        "---"
      ],
      "metadata": {
        "id": "af5V19AWzhcs"
      }
    },
    {
      "cell_type": "code",
      "source": [
        "accuraciesANOVA = []\n",
        "cv = RepeatedStratifiedKFold(n_splits=10, n_repeats=1, random_state=42)\n",
        "\n",
        "for i in range(2,14):\n",
        "  ANOVA_obj = SelectKBest(f_classif, k=i)\n",
        "  x_ANOVA = ANOVA_obj.fit_transform(x,y)\n",
        "  model = ltb.LGBMClassifier()\n",
        "  scores = cross_val_score(model, x_ANOVA, y, scoring='accuracy', cv=cv)\n",
        "  accuraciesANOVA.append(max(scores))\n",
        "  print(max(scores))\n",
        "\n",
        "all_methods.append(accuraciesANOVA)"
      ],
      "metadata": {
        "colab": {
          "base_uri": "https://localhost:8080/"
        },
        "id": "XsPR8UT93Tz0",
        "outputId": "d94fdbee-81ef-440c-c587-2249b8ebcae5"
      },
      "execution_count": null,
      "outputs": [
        {
          "output_type": "stream",
          "name": "stdout",
          "text": [
            "0.8251949117767747\n",
            "0.827209311000858\n",
            "0.8288133696422576\n",
            "0.8290371917782668\n",
            "0.8290371917782668\n",
            "0.8292610139142761\n",
            "0.829298317603611\n",
            "0.8292610139142761\n",
            "0.8292610139142761\n",
            "0.8292610139142761\n",
            "0.8292610139142761\n",
            "0.8292610139142761\n"
          ]
        }
      ]
    },
    {
      "cell_type": "code",
      "source": [
        "Plot([2,3,4,5,6,7,8,9,10,11,12,13],accuraciesANOVA,\"num of components\", \"#0092D1\", \"o\", 50, \"num of components\", \"accuracies\", \"ANOVA\")"
      ],
      "metadata": {
        "colab": {
          "base_uri": "https://localhost:8080/",
          "height": 313
        },
        "id": "btkViVHk43VD",
        "outputId": "5f43b557-d960-4007-8ed9-9faadb53d04f"
      },
      "execution_count": null,
      "outputs": [
        {
          "output_type": "execute_result",
          "data": {
            "text/plain": [
              "<module 'matplotlib.pyplot' from '/usr/local/lib/python3.7/dist-packages/matplotlib/pyplot.py'>"
            ]
          },
          "metadata": {},
          "execution_count": 40
        },
        {
          "output_type": "display_data",
          "data": {
            "text/plain": [
              "<Figure size 432x288 with 1 Axes>"
            ],
            "image/png": "[encoded data removed]"
          },
          "metadata": {
            "needs_background": "light"
          }
        }
      ]
    },
    {
      "cell_type": "markdown",
      "source": [
        "##<font color='#18A558'>***Fourth method: Matual Information***</font>\n",
        "---"
      ],
      "metadata": {
        "id": "ngorXqCRzhrX"
      }
    },
    {
      "cell_type": "code",
      "source": [
        "features_info = mutual_info_classif(x, y)\n",
        "features_info = pd.Series(features_info)\n",
        "features_info.index = data.drop(['Target Attack'], axis=1).columns\n",
        "features_info = features_info.sort_values(ascending=False)\n",
        "features_info"
      ],
      "metadata": {
        "colab": {
          "base_uri": "https://localhost:8080/"
        },
        "id": "-MPtYbIR3UgG",
        "outputId": "ebccd26f-02d9-4d89-b28b-ff5fef4124dc"
      },
      "execution_count": null,
      "outputs": [
        {
          "output_type": "execute_result",
          "data": {
            "text/plain": [
              "longest_word_hash    0.299034\n",
              "sld_hash             0.296607\n",
              "labels               0.292498\n",
              "special              0.286805\n",
              "entropy              0.267049\n",
              "FQDN_count           0.260953\n",
              "lower                0.254751\n",
              "labels_average       0.244861\n",
              "labels_max           0.236449\n",
              "subdomain_length     0.228113\n",
              "numeric              0.222209\n",
              "len                  0.160965\n",
              "subdomain            0.158543\n",
              "upper                0.003048\n",
              "dtype: float64"
            ]
          },
          "metadata": {},
          "execution_count": 41
        }
      ]
    },
    {
      "cell_type": "code",
      "source": [
        "plt.figure(figsize=(20,8))\n",
        "plt.xticks(rotation = 60)\n",
        "plt.bar(features_info.index, features_info , width=0.5, color = \"#EA3C74\")\n",
        "plt.show()"
      ],
      "metadata": {
        "colab": {
          "base_uri": "https://localhost:8080/",
          "height": 478
        },
        "id": "ZAOPIcgQ8QoS",
        "outputId": "0a814708-7484-4fa8-bd38-716264a221a3"
      },
      "execution_count": null,
      "outputs": [
        {
          "output_type": "display_data",
          "data": {
            "text/plain": [
              "<Figure size 1440x576 with 1 Axes>"
            ],
            "image/png": "[encoded data removed]"
          },
          "metadata": {
            "needs_background": "light"
          }
        }
      ]
    },
    {
      "cell_type": "code",
      "source": [
        "accuraciesINFO = []\n",
        "cv = RepeatedStratifiedKFold(n_splits=10, n_repeats=1, random_state=42)\n",
        "\n",
        "for i in range(2,14):\n",
        "  INFO_obj = SelectKBest(mutual_info_classif, k=i)\n",
        "  x_INFO = INFO_obj.fit_transform(x,y)\n",
        "  model = ltb.LGBMClassifier()\n",
        "  scores = cross_val_score(model, x_INFO, y, scoring='accuracy', cv=cv)\n",
        "  accuraciesINFO.append(max(scores))\n",
        "  print(max(scores))\n",
        "\n",
        "all_methods.append(accuraciesINFO)"
      ],
      "metadata": {
        "colab": {
          "base_uri": "https://localhost:8080/"
        },
        "id": "gAMRNUn3-tdM",
        "outputId": "67739f60-30bd-445d-f4b0-412604014634"
      },
      "execution_count": null,
      "outputs": [
        {
          "output_type": "stream",
          "name": "stdout",
          "text": [
            "0.8292610139142761\n",
            "0.8292610139142761\n",
            "0.829298317603611\n",
            "0.8293356212929459\n",
            "0.8292610139142761\n",
            "0.8293356212929459\n",
            "0.829298317603611\n",
            "0.829298317603611\n",
            "0.829298317603611\n",
            "0.829298317603611\n",
            "0.8292610139142761\n",
            "0.8292610139142761\n"
          ]
        }
      ]
    },
    {
      "cell_type": "code",
      "source": [
        "Plot([2,3,4,5,6,7,8,9,10,11,12,13],accuraciesINFO,\"num of components\", \"#DD6400\", \"o\", 50, \"num of components\", \"accuracies\", \"Matual Information\")"
      ],
      "metadata": {
        "colab": {
          "base_uri": "https://localhost:8080/",
          "height": 313
        },
        "id": "NLEn7IK53UlT",
        "outputId": "dbf69545-ef67-4d43-d529-bb9ee77c49ba"
      },
      "execution_count": null,
      "outputs": [
        {
          "output_type": "execute_result",
          "data": {
            "text/plain": [
              "<module 'matplotlib.pyplot' from '/usr/local/lib/python3.7/dist-packages/matplotlib/pyplot.py'>"
            ]
          },
          "metadata": {},
          "execution_count": 44
        },
        {
          "output_type": "display_data",
          "data": {
            "text/plain": [
              "<Figure size 432x288 with 1 Axes>"
            ],
            "image/png": "[encoded data removed]"
          },
          "metadata": {
            "needs_background": "light"
          }
        }
      ]
    },
    {
      "cell_type": "markdown",
      "source": [
        "##<font color='#18A558'>***Comparison between the four methods***</font>\n",
        "---"
      ],
      "metadata": {
        "id": "jw7_b4fh_m18"
      }
    },
    {
      "cell_type": "code",
      "source": [
        "max_accuracies = []\n",
        "num_of_components = []\n",
        "\n",
        "for i in range(4):\n",
        "  max_accuracies.append(max(all_methods[i]))\n",
        "  num_of_components.append(all_methods[i].index(max(all_methods[i]))+2)\n",
        "\n",
        "ICA = \"ICA componentes = \" + str(num_of_components[0])\n",
        "PCA = \"PCA componentes = \" + str(num_of_components[1])\n",
        "ANOVA = \"ANOVA componentes = \" + str(num_of_components[2])\n",
        "INFO = \"INFO componentes = \" + str(num_of_components[3])\n",
        "\n",
        "methods = [ICA,PCA,ANOVA,INFO]\n",
        "\n",
        "plt.figure(figsize=(10,5))\n",
        "plt.xticks(rotation = 60)\n",
        "plt.bar(methods, max_accuracies ,width=0.5, color = \"#5900BE\")\n",
        "plt.bar(methods[3], max(max_accuracies) ,width=0.5, color = \"#00B271\")\n",
        "plt.show()\n",
        "print(\"the highest accuracy is \", max(max_accuracies))"
      ],
      "metadata": {
        "colab": {
          "base_uri": "https://localhost:8080/",
          "height": 442
        },
        "id": "9Xkwj_Cd_u-S",
        "outputId": "9c4d36b3-1e90-4c41-d51b-83d36e37a5e8"
      },
      "execution_count": null,
      "outputs": [
        {
          "output_type": "display_data",
          "data": {
            "text/plain": [
              "<Figure size 720x360 with 1 Axes>"
            ],
            "image/png": "[encoded data removed]"
          },
          "metadata": {
            "needs_background": "light"
          }
        },
        {
          "output_type": "stream",
          "name": "stdout",
          "text": [
            "the highest accuracy is  0.8293356212929459\n"
          ]
        }
      ]
    },
    {
      "cell_type": "markdown",
      "source": [
        "##<font color='#18A558'>***Apply the best method from feature selection***</font>\n",
        "---"
      ],
      "metadata": {
        "id": "uFmsH8LyD-5j"
      }
    },
    {
      "cell_type": "code",
      "source": [
        "INFO_obj = SelectKBest(mutual_info_classif, k=5)\n",
        "new_x = INFO_obj.fit_transform(x,y)"
      ],
      "metadata": {
        "id": "2_HL0mLGEKw8"
      },
      "execution_count": null,
      "outputs": []
    },
    {
      "cell_type": "markdown",
      "source": [
        "#<font color='#71fff1'>***Model Training***</font>\n",
        "---"
      ],
      "metadata": {
        "id": "TGApLv7E8TX3"
      }
    },
    {
      "cell_type": "markdown",
      "source": [
        "##<font color='#18A558'>***Spliting the data***</font>\n",
        "---"
      ],
      "metadata": {
        "id": "aZL5glLHvqqB"
      }
    },
    {
      "cell_type": "code",
      "source": [
        "x_train, x_test, y_train, y_test = train_test_split(new_x, y, test_size=0.20, random_state=42)\n",
        "x_train, x_val, y_train, y_val = train_test_split(x_train, y_train, test_size=0.1, random_state=42)"
      ],
      "metadata": {
        "id": "2x96CUmpvwpA"
      },
      "execution_count": null,
      "outputs": []
    },
    {
      "cell_type": "markdown",
      "source": [
        "##<font color='#18A558'>***Transformation***</font>\n",
        "---"
      ],
      "metadata": {
        "id": "SdD3727czaG-"
      }
    },
    {
      "cell_type": "code",
      "source": [
        "# type(x_val)"
      ],
      "metadata": {
        "colab": {
          "base_uri": "https://localhost:8080/"
        },
        "id": "Cm_vTUkq0LSr",
        "outputId": "4c933d0a-ae4f-4347-c7bb-3262ee8ae00e"
      },
      "execution_count": null,
      "outputs": [
        {
          "output_type": "execute_result",
          "data": {
            "text/plain": [
              "numpy.ndarray"
            ]
          },
          "metadata": {},
          "execution_count": 40
        }
      ]
    },
    {
      "cell_type": "code",
      "source": [
        "# x_val"
      ],
      "metadata": {
        "colab": {
          "base_uri": "https://localhost:8080/"
        },
        "id": "98nfZ-JQ13ZJ",
        "outputId": "c1b08f5e-78bd-4db0-9bb9-b1e4fa7a1692"
      },
      "execution_count": null,
      "outputs": [
        {
          "output_type": "execute_result",
          "data": {
            "text/plain": [
              "array([[2.74233762e+00, 6.00000000e+00, 6.00000000e+00, 2.66003691e+38,\n",
              "        1.17818336e+38],\n",
              "       [1.85754248e+00, 1.00000000e+00, 2.00000000e+00, 3.15252170e+38,\n",
              "        3.00223709e+38],\n",
              "       [2.55664167e+00, 6.00000000e+00, 6.00000000e+00, 2.66003691e+38,\n",
              "        1.17818336e+38],\n",
              "       ...,\n",
              "       [2.06716806e+00, 2.00000000e+00, 3.00000000e+00, 2.33988593e+38,\n",
              "        2.33988593e+38],\n",
              "       [2.62500000e+00, 1.00000000e+00, 2.00000000e+00, 3.14694040e+38,\n",
              "        2.58274925e+38],\n",
              "       [3.62500000e+00, 1.00000000e+00, 1.00000000e+00, 1.77886511e+37,\n",
              "        2.45881073e+38]])"
            ]
          },
          "metadata": {},
          "execution_count": 41
        }
      ]
    },
    {
      "cell_type": "code",
      "source": [
        "# x_train = pd.DataFrame(x_train)\n",
        "# x_val = pd.DataFrame(x_val)\n",
        "\n",
        "# for column in x_val:\n",
        "#   x_train[column] = np.sqrt(x_train[column])\n",
        "#   x_val[column] = np.sqrt(x_val[column])\n",
        "\n",
        "# x_train = x_train.to_numpy()\n",
        "# x_val = x_val.to_numpy()\n",
        "\n",
        "# x_val"
      ],
      "metadata": {
        "colab": {
          "base_uri": "https://localhost:8080/"
        },
        "id": "PhVVEfp9zYJ0",
        "outputId": "55ff5416-edb6-46ee-e779-750624865511"
      },
      "execution_count": null,
      "outputs": [
        {
          "output_type": "execute_result",
          "data": {
            "text/plain": [
              "array([[1.65600049e+00, 2.44948974e+00, 2.44948974e+00, 1.63096196e+19,\n",
              "        1.08544155e+19],\n",
              "       [1.36291690e+00, 1.00000000e+00, 1.41421356e+00, 1.77553420e+19,\n",
              "        1.73269648e+19],\n",
              "       [1.59895018e+00, 2.44948974e+00, 2.44948974e+00, 1.63096196e+19,\n",
              "        1.08544155e+19],\n",
              "       ...,\n",
              "       [1.43776495e+00, 1.41421356e+00, 1.73205081e+00, 1.52966857e+19,\n",
              "        1.52966857e+19],\n",
              "       [1.62018517e+00, 1.00000000e+00, 1.41421356e+00, 1.77396178e+19,\n",
              "        1.60709342e+19],\n",
              "       [1.90394328e+00, 1.00000000e+00, 1.00000000e+00, 4.21765944e+18,\n",
              "        1.56805954e+19]])"
            ]
          },
          "metadata": {},
          "execution_count": 42
        }
      ]
    },
    {
      "cell_type": "code",
      "source": [
        "# np.all(np.isfinite(x_train))"
      ],
      "metadata": {
        "colab": {
          "base_uri": "https://localhost:8080/"
        },
        "id": "7ulIS5cc4E1o",
        "outputId": "f22312b9-2ccd-48a3-dab2-93ea37375e04"
      },
      "execution_count": null,
      "outputs": [
        {
          "output_type": "execute_result",
          "data": {
            "text/plain": [
              "True"
            ]
          },
          "metadata": {},
          "execution_count": 43
        }
      ]
    },
    {
      "cell_type": "markdown",
      "source": [
        "##<font color='#18A558'>***Normalizing the data***</font>\n",
        "---"
      ],
      "metadata": {
        "id": "SMDfdssLxxkL"
      }
    },
    {
      "cell_type": "code",
      "source": [
        "normalizer = MinMaxScaler()\n",
        "x_train = normalizer.fit_transform(x_train)\n",
        "x_val = normalizer.transform(x_val)\n",
        "x_test = normalizer.transform(x_test)"
      ],
      "metadata": {
        "id": "H7s0IAx3x5i-"
      },
      "execution_count": null,
      "outputs": []
    },
    {
      "cell_type": "markdown",
      "source": [
        "##<font color='#18A558'>***T-SNE***</font>\n",
        "---"
      ],
      "metadata": {
        "id": "LKefj8hpjd1J"
      }
    },
    {
      "cell_type": "code",
      "source": [
        "colorsOptions = []\n",
        "Labels = []\n",
        "letters = [\"0\",\"1\",\"2\",\"3\",\"4\",\"5\",\"6\",\"7\",\"8\",\"9\",\"a\",\"b\",\"c\",\"d\",\"e\",\"f\"]\n",
        "for j in range(2):\n",
        "    Labels.append(j)\n",
        "    colorsOptions.append(''.join(random.choice(letters) for i in range(6)))\n",
        "    colorsOptions[j] = '#' + colorsOptions[j]\n",
        "\n",
        "tsne1 = TSNE(n_components=2).fit_transform(x_val)\n",
        "\n",
        "tsne_features = pd.concat([pd.DataFrame(tsne1), pd.DataFrame(y_val)],axis=1 , ignore_index = True).astype(float)\n",
        "listOfclasses1 = GetListOfClasses(2, tsne_features , pd.DataFrame(tsne_features).columns[2])\n",
        "\n",
        "PlotDataPoints(2, colorsOptions, listOfclasses1, 'Component 0', 'Component 1' ,[0,1] ,8, 'T-sne for x_val').show()"
      ],
      "metadata": {
        "colab": {
          "base_uri": "https://localhost:8080/",
          "height": 300
        },
        "id": "Vxz01OX6jbqB",
        "outputId": "fa01f4b1-e607-4c7c-daf0-3c324b123f4c"
      },
      "execution_count": null,
      "outputs": [
        {
          "output_type": "display_data",
          "data": {
            "text/plain": [
              "<Figure size 432x288 with 1 Axes>"
            ],
            "image/png": "[encoded data removed]"
          },
          "metadata": {
            "needs_background": "light"
          }
        }
      ]
    },
    {
      "cell_type": "markdown",
      "source": [
        "##<font color='#18A558'>***First Model: Random Forest Classifier***</font>\n",
        "---"
      ],
      "metadata": {
        "id": "DXvobAKYNVX9"
      }
    },
    {
      "cell_type": "code",
      "source": [
        "param_grid1 = {\n",
        "    'bootstrap': [True],\n",
        "    'max_depth': [80, 90, 100],\n",
        "    'max_features': [2, 3],\n",
        "    'min_samples_leaf': [3, 4, 5],\n",
        "    'min_samples_split': [8, 10, 12],\n",
        "    'n_estimators': [100, 200, 300]\n",
        "}\n",
        "\n",
        "model1 = RandomForestClassifier()\n",
        "grid_search = GridSearchCV(estimator = model1, param_grid = param_grid1, cv = 3, scoring = \"f1_macro\", verbose = 1)\n",
        "grid_search.fit(x_train, y_train)\n",
        "print(grid_search.best_params_)\n",
        "grid_search.best_params_"
      ],
      "metadata": {
        "colab": {
          "base_uri": "https://localhost:8080/"
        },
        "id": "yJmoUu2jNk13",
        "outputId": "84852a9a-f543-4a41-dfd0-783e5fd65ccc"
      },
      "execution_count": null,
      "outputs": [
        {
          "output_type": "stream",
          "name": "stdout",
          "text": [
            "Fitting 3 folds for each of 162 candidates, totalling 486 fits\n",
            "{'bootstrap': True, 'max_depth': 100, 'max_features': 3, 'min_samples_leaf': 3, 'min_samples_split': 8, 'n_estimators': 200}\n"
          ]
        },
        {
          "output_type": "execute_result",
          "data": {
            "text/plain": [
              "{'bootstrap': True,\n",
              " 'max_depth': 100,\n",
              " 'max_features': 3,\n",
              " 'min_samples_leaf': 3,\n",
              " 'min_samples_split': 8,\n",
              " 'n_estimators': 200}"
            ]
          },
          "metadata": {},
          "execution_count": 42
        }
      ]
    },
    {
      "cell_type": "code",
      "source": [
        "model1 = RandomForestClassifier(bootstrap = True, max_depth= 100, max_features= 3, min_samples_leaf= 3, min_samples_split= 8, n_estimators= 200)\n",
        "model1.fit(x_train, y_train)\n",
        "\n",
        "y_pred1 = model1.predict(x_test)\n",
        "cm1 = ConfusionMatrix(y_test, y_pred1)\n",
        "PLOT_ConfusionMatrix(cm1,\"Random Forest\")\n",
        "model1_report = classification_report(y_test, y_pred1)\n",
        "print(model1_report)"
      ],
      "metadata": {
        "colab": {
          "base_uri": "https://localhost:8080/",
          "height": 466
        },
        "id": "3vGSUrlxMgpf",
        "outputId": "3b8750e0-62f1-4d61-ea24-b670845746d5"
      },
      "execution_count": null,
      "outputs": [
        {
          "output_type": "display_data",
          "data": {
            "text/plain": [
              "<Figure size 432x288 with 2 Axes>"
            ],
            "image/png": "[encoded data removed]"
          },
          "metadata": {
            "needs_background": "light"
          }
        },
        {
          "output_type": "stream",
          "name": "stdout",
          "text": [
            "              precision    recall  f1-score   support\n",
            "\n",
            "           0       1.00      0.61      0.76     24152\n",
            "           1       0.76      1.00      0.86     29462\n",
            "\n",
            "    accuracy                           0.83     53614\n",
            "   macro avg       0.88      0.81      0.81     53614\n",
            "weighted avg       0.87      0.83      0.82     53614\n",
            "\n"
          ]
        }
      ]
    },
    {
      "cell_type": "markdown",
      "source": [
        "##<font color='#18A558'>***Second Model: LightGbm***</font>\n",
        "---"
      ],
      "metadata": {
        "id": "pYX4oNXRNVpI"
      }
    },
    {
      "cell_type": "code",
      "source": [
        "param_grid2 = {'learning_rate': [0.01,0.1,1,0.001],\n",
        "               'n_estimators': [8, 24],\n",
        "               'num_leaves': [6, 8, 12, 16],\n",
        "               'boosting_type': ['gbdt'], \n",
        "               'objective': ['binary'],\n",
        "               'seed': [42],\n",
        "               'colsample_bytree': [0.65, 0.75, 0.8], \n",
        "               'subsample': [0.7, 0.75],\n",
        "               'reg_alpha': [1, 2, 6],\n",
        "               'reg_lambda': [1, 2, 6]}\n",
        "\n",
        "model2 = ltb.LGBMClassifier()\n",
        "grid_search = GridSearchCV(estimator = model2, param_grid = param_grid2, cv = 3, scoring = \"f1_macro\", verbose = 1)\n",
        "grid_search.fit(x_train, y_train)\n",
        "print(grid_search.best_params_)\n",
        "grid_search.best_params_"
      ],
      "metadata": {
        "colab": {
          "base_uri": "https://localhost:8080/"
        },
        "id": "yYY0uU97Nlso",
        "outputId": "fb512f56-abdb-42de-ca23-06de6c23a3c3"
      },
      "execution_count": null,
      "outputs": [
        {
          "output_type": "stream",
          "name": "stdout",
          "text": [
            "Fitting 3 folds for each of 1728 candidates, totalling 5184 fits\n",
            "{'boosting_type': 'gbdt', 'colsample_bytree': 0.8, 'learning_rate': 1, 'n_estimators': 24, 'num_leaves': 16, 'objective': 'binary', 'reg_alpha': 1, 'reg_lambda': 1, 'seed': 42, 'subsample': 0.7}\n"
          ]
        },
        {
          "output_type": "execute_result",
          "data": {
            "text/plain": [
              "{'boosting_type': 'gbdt',\n",
              " 'colsample_bytree': 0.8,\n",
              " 'learning_rate': 1,\n",
              " 'n_estimators': 24,\n",
              " 'num_leaves': 16,\n",
              " 'objective': 'binary',\n",
              " 'reg_alpha': 1,\n",
              " 'reg_lambda': 1,\n",
              " 'seed': 42,\n",
              " 'subsample': 0.7}"
            ]
          },
          "metadata": {},
          "execution_count": 43
        }
      ]
    },
    {
      "cell_type": "code",
      "source": [
        "model2 = ltb.LGBMClassifier(boosting_type = \"gbdt\", colsample_bytree = 0.8, learning_rate= 1, n_estimators = 24, num_leaves = 16, objective = 'binary',\n",
        "                            reg_alpha= 1, reg_lambda = 1, seed = 42, subsample = 0.7)\n",
        "model2.fit(x_train, y_train)\n",
        "\n",
        "y_pred2 = model2.predict(x_test)\n",
        "proba = model2.predict_proba(x_test)\n",
        "cm2 = ConfusionMatrix(y_test, y_pred2)\n",
        "PLOT_ConfusionMatrix(cm2,\"LightGBM\")\n",
        "model2_report = classification_report(y_test, y_pred2)\n",
        "print(model2_report)"
      ],
      "metadata": {
        "colab": {
          "base_uri": "https://localhost:8080/",
          "height": 466
        },
        "id": "77P5RT_DceXb",
        "outputId": "c63bd7c0-07fe-479b-c74d-26eb71c3dc91"
      },
      "execution_count": null,
      "outputs": [
        {
          "output_type": "display_data",
          "data": {
            "text/plain": [
              "<Figure size 432x288 with 2 Axes>"
            ],
            "image/png": "[encoded data removed]"
          },
          "metadata": {
            "needs_background": "light"
          }
        },
        {
          "output_type": "stream",
          "name": "stdout",
          "text": [
            "              precision    recall  f1-score   support\n",
            "\n",
            "           0       1.00      0.61      0.76     24152\n",
            "           1       0.76      1.00      0.86     29462\n",
            "\n",
            "    accuracy                           0.83     53614\n",
            "   macro avg       0.88      0.81      0.81     53614\n",
            "weighted avg       0.87      0.83      0.82     53614\n",
            "\n"
          ]
        }
      ]
    },
    {
      "cell_type": "markdown",
      "source": [
        "##<font color='#18A558'>***LightGbm Thresholding***</font>\n",
        "---"
      ],
      "metadata": {
        "id": "6dU48ieJ1UEw"
      }
    },
    {
      "cell_type": "code",
      "source": [
        "# proba = pd.DataFrame(proba)\n",
        "# proba"
      ],
      "metadata": {
        "colab": {
          "base_uri": "https://localhost:8080/",
          "height": 423
        },
        "id": "rTonEpwNlHWR",
        "outputId": "8cb2cb28-9b98-4530-9eee-defa76453210"
      },
      "execution_count": null,
      "outputs": [
        {
          "output_type": "execute_result",
          "data": {
            "text/plain": [
              "              0         1\n",
              "0      0.236783  0.763217\n",
              "1      0.999987  0.000013\n",
              "2      0.223684  0.776316\n",
              "3      0.236783  0.763217\n",
              "4      0.215113  0.784887\n",
              "...         ...       ...\n",
              "53609  0.999984  0.000016\n",
              "53610  0.215113  0.784887\n",
              "53611  0.240112  0.759888\n",
              "53612  0.999990  0.000010\n",
              "53613  0.241248  0.758752\n",
              "\n",
              "[53614 rows x 2 columns]"
            ],
            "text/html": [
              "\n",
              "  <div id=\"df-8ae49f5d-b407-4dc8-98e4-8e74f10349c3\">\n",
              "    <div class=\"colab-df-container\">\n",
              "      <div>\n",
              "<style scoped>\n",
              "    .dataframe tbody tr th:only-of-type {\n",
              "        vertical-align: middle;\n",
              "    }\n",
              "\n",
              "    .dataframe tbody tr th {\n",
              "        vertical-align: top;\n",
              "    }\n",
              "\n",
              "    .dataframe thead th {\n",
              "        text-align: right;\n",
              "    }\n",
              "</style>\n",
              "<table border=\"1\" class=\"dataframe\">\n",
              "  <thead>\n",
              "    <tr style=\"text-align: right;\">\n",
              "      <th></th>\n",
              "      <th>0</th>\n",
              "      <th>1</th>\n",
              "    </tr>\n",
              "  </thead>\n",
              "  <tbody>\n",
              "    <tr>\n",
              "      <th>0</th>\n",
              "      <td>0.236783</td>\n",
              "      <td>0.763217</td>\n",
              "    </tr>\n",
              "    <tr>\n",
              "      <th>1</th>\n",
              "      <td>0.999987</td>\n",
              "      <td>0.000013</td>\n",
              "    </tr>\n",
              "    <tr>\n",
              "      <th>2</th>\n",
              "      <td>0.223684</td>\n",
              "      <td>0.776316</td>\n",
              "    </tr>\n",
              "    <tr>\n",
              "      <th>3</th>\n",
              "      <td>0.236783</td>\n",
              "      <td>0.763217</td>\n",
              "    </tr>\n",
              "    <tr>\n",
              "      <th>4</th>\n",
              "      <td>0.215113</td>\n",
              "      <td>0.784887</td>\n",
              "    </tr>\n",
              "    <tr>\n",
              "      <th>...</th>\n",
              "      <td>...</td>\n",
              "      <td>...</td>\n",
              "    </tr>\n",
              "    <tr>\n",
              "      <th>53609</th>\n",
              "      <td>0.999984</td>\n",
              "      <td>0.000016</td>\n",
              "    </tr>\n",
              "    <tr>\n",
              "      <th>53610</th>\n",
              "      <td>0.215113</td>\n",
              "      <td>0.784887</td>\n",
              "    </tr>\n",
              "    <tr>\n",
              "      <th>53611</th>\n",
              "      <td>0.240112</td>\n",
              "      <td>0.759888</td>\n",
              "    </tr>\n",
              "    <tr>\n",
              "      <th>53612</th>\n",
              "      <td>0.999990</td>\n",
              "      <td>0.000010</td>\n",
              "    </tr>\n",
              "    <tr>\n",
              "      <th>53613</th>\n",
              "      <td>0.241248</td>\n",
              "      <td>0.758752</td>\n",
              "    </tr>\n",
              "  </tbody>\n",
              "</table>\n",
              "<p>53614 rows × 2 columns</p>\n",
              "</div>\n",
              "      <button class=\"colab-df-convert\" onclick=\"convertToInteractive('df-8ae49f5d-b407-4dc8-98e4-8e74f10349c3')\"\n",
              "              title=\"Convert this dataframe to an interactive table.\"\n",
              "              style=\"display:none;\">\n",
              "        \n",
              "  <svg xmlns=\"http://www.w3.org/2000/svg\" height=\"24px\"viewBox=\"0 0 24 24\"\n",
              "       width=\"24px\">\n",
              "    <path d=\"M0 0h24v24H0V0z\" fill=\"none\"/>\n",
              "    <path d=\"M18.56 5.44l.94 2.06.94-2.06 2.06-.94-2.06-.94-.94-2.06-.94 2.06-2.06.94zm-11 1L8.5 8.5l.94-2.06 2.06-.94-2.06-.94L8.5 2.5l-.94 2.06-2.06.94zm10 10l.94 2.06.94-2.06 2.06-.94-2.06-.94-.94-2.06-.94 2.06-2.06.94z\"/><path d=\"M17.41 7.96l-1.37-1.37c-.4-.4-.92-.59-1.43-.59-.52 0-1.04.2-1.43.59L10.3 9.45l-7.72 7.72c-.78.78-.78 2.05 0 2.83L4 21.41c.39.39.9.59 1.41.59.51 0 1.02-.2 1.41-.59l7.78-7.78 2.81-2.81c.8-.78.8-2.07 0-2.86zM5.41 20L4 18.59l7.72-7.72 1.47 1.35L5.41 20z\"/>\n",
              "  </svg>\n",
              "      </button>\n",
              "      \n",
              "  <style>\n",
              "    .colab-df-container {\n",
              "      display:flex;\n",
              "      flex-wrap:wrap;\n",
              "      gap: 12px;\n",
              "    }\n",
              "\n",
              "    .colab-df-convert {\n",
              "      background-color: #E8F0FE;\n",
              "      border: none;\n",
              "      border-radius: 50%;\n",
              "      cursor: pointer;\n",
              "      display: none;\n",
              "      fill: #1967D2;\n",
              "      height: 32px;\n",
              "      padding: 0 0 0 0;\n",
              "      width: 32px;\n",
              "    }\n",
              "\n",
              "    .colab-df-convert:hover {\n",
              "      background-color: #E2EBFA;\n",
              "      box-shadow: 0px 1px 2px rgba(60, 64, 67, 0.3), 0px 1px 3px 1px rgba(60, 64, 67, 0.15);\n",
              "      fill: #174EA6;\n",
              "    }\n",
              "\n",
              "    [theme=dark] .colab-df-convert {\n",
              "      background-color: #3B4455;\n",
              "      fill: #D2E3FC;\n",
              "    }\n",
              "\n",
              "    [theme=dark] .colab-df-convert:hover {\n",
              "      background-color: #434B5C;\n",
              "      box-shadow: 0px 1px 3px 1px rgba(0, 0, 0, 0.15);\n",
              "      filter: drop-shadow(0px 1px 2px rgba(0, 0, 0, 0.3));\n",
              "      fill: #FFFFFF;\n",
              "    }\n",
              "  </style>\n",
              "\n",
              "      <script>\n",
              "        const buttonEl =\n",
              "          document.querySelector('#df-8ae49f5d-b407-4dc8-98e4-8e74f10349c3 button.colab-df-convert');\n",
              "        buttonEl.style.display =\n",
              "          google.colab.kernel.accessAllowed ? 'block' : 'none';\n",
              "\n",
              "        async function convertToInteractive(key) {\n",
              "          const element = document.querySelector('#df-8ae49f5d-b407-4dc8-98e4-8e74f10349c3');\n",
              "          const dataTable =\n",
              "            await google.colab.kernel.invokeFunction('convertToInteractive',\n",
              "                                                     [key], {});\n",
              "          if (!dataTable) return;\n",
              "\n",
              "          const docLinkHtml = 'Like what you see? Visit the ' +\n",
              "            '<a target=\"_blank\" href=https://colab.research.google.com/notebooks/data_table.ipynb>data table notebook</a>'\n",
              "            + ' to learn more about interactive tables.';\n",
              "          element.innerHTML = '';\n",
              "          dataTable['output_type'] = 'display_data';\n",
              "          await google.colab.output.renderOutput(dataTable, element);\n",
              "          const docLink = document.createElement('div');\n",
              "          docLink.innerHTML = docLinkHtml;\n",
              "          element.appendChild(docLink);\n",
              "        }\n",
              "      </script>\n",
              "    </div>\n",
              "  </div>\n",
              "  "
            ]
          },
          "metadata": {},
          "execution_count": 59
        }
      ]
    },
    {
      "cell_type": "code",
      "source": [
        "# Thresholding = []\n",
        "# for i in range(len(proba)):\n",
        "#   if proba.iloc[i,0].astype(float) >= 0.2410:\n",
        "#     Thresholding.append(0)\n",
        "#   else:\n",
        "#     Thresholding.append(1)\n",
        "  \n",
        "# Thresh_holding = np.asarray(Thresholding)\n",
        "# len(Thresholding)\n",
        "# cm2 = ConfusionMatrix(y_test, Thresholding)\n",
        "# PLOT_ConfusionMatrix(cm2,\"LightGBM\")\n",
        "# model2_report = classification_report(y_test, Thresholding)\n",
        "# print(model2_report)"
      ],
      "metadata": {
        "colab": {
          "base_uri": "https://localhost:8080/",
          "height": 466
        },
        "id": "ZG_Dj0VMldYv",
        "outputId": "72f5005a-f30c-4927-fdd9-5d1d1ffb964d"
      },
      "execution_count": null,
      "outputs": [
        {
          "output_type": "display_data",
          "data": {
            "text/plain": [
              "<Figure size 432x288 with 2 Axes>"
            ],
            "image/png": "[encoded data removed]"
          },
          "metadata": {
            "needs_background": "light"
          }
        },
        {
          "output_type": "stream",
          "name": "stdout",
          "text": [
            "              precision    recall  f1-score   support\n",
            "\n",
            "           0       0.63      0.75      0.69     24152\n",
            "           1       0.76      0.64      0.69     29462\n",
            "\n",
            "    accuracy                           0.69     53614\n",
            "   macro avg       0.70      0.70      0.69     53614\n",
            "weighted avg       0.70      0.69      0.69     53614\n",
            "\n"
          ]
        }
      ]
    },
    {
      "cell_type": "markdown",
      "source": [
        "#<font color='#71fff1'>***Model Evaluation***</font>\n",
        "---"
      ],
      "metadata": {
        "id": "r5MQKLsxGbG7"
      }
    },
    {
      "cell_type": "markdown",
      "source": [
        "##<font color='#18A558'>***First Model: Random Forest Classifier***</font>\n",
        "---"
      ],
      "metadata": {
        "id": "oMeIsCSHH8ZV"
      }
    },
    {
      "cell_type": "code",
      "source": [
        "model1 = RandomForestClassifier(bootstrap = True, max_depth= 100, max_features= 3, min_samples_leaf= 3, min_samples_split= 8, n_estimators= 200)\n",
        "cv = RepeatedStratifiedKFold(n_splits=10, n_repeats=2, random_state=42)\n",
        "scoresRF = cross_val_score(model1, x_test, y_test, scoring='f1_macro', cv=cv)\n",
        "iterations = list(range(1, 21))\n",
        "Plot(iterations,scoresRF,\"StratifiedKFold : x_val\", \"#000979\", \"o\", 50, \"Iterations\", \"f1_macro\", \"Repeated Stratified K-Fold Random Forest\")\n",
        "plt.xticks(iterations)\n",
        "plt.show()\n",
        "\n",
        "model1 = RandomForestClassifier(bootstrap = True, max_depth= 100, max_features= 3, min_samples_leaf= 3, min_samples_split= 8, n_estimators= 200)\n",
        "model1.fit(x_test, y_test)\n",
        "y_pred_proba = model1.predict_proba(x_test)[::,1]\n",
        "fpr, tpr, _ = metrics.roc_curve(y_test,  y_pred_proba)\n",
        "auc = metrics.roc_auc_score(y_test, y_pred_proba)\n",
        "\n",
        "# create ROC curve\n",
        "plt.plot(fpr,tpr,label=\"AUC=\"+str(auc))\n",
        "plt.ylabel('True Positive Rate')\n",
        "plt.xlabel('False Positive Rate')\n",
        "plt.legend(loc=4)\n",
        "plt.show()"
      ],
      "metadata": {
        "colab": {
          "base_uri": "https://localhost:8080/",
          "height": 557
        },
        "id": "ZL3iQVycNlx8",
        "outputId": "6ea8ebba-51cf-4c6b-e390-aed63fa2dd2e"
      },
      "execution_count": null,
      "outputs": [
        {
          "output_type": "display_data",
          "data": {
            "text/plain": [
              "<Figure size 432x288 with 1 Axes>"
            ],
            "image/png": "[encoded data removed]"
          },
          "metadata": {
            "needs_background": "light"
          }
        },
        {
          "output_type": "display_data",
          "data": {
            "text/plain": [
              "<Figure size 432x288 with 1 Axes>"
            ],
            "image/png": "[encoded data removed]"
          },
          "metadata": {
            "needs_background": "light"
          }
        }
      ]
    },
    {
      "cell_type": "markdown",
      "source": [
        "##<font color='#18A558'>***Second Model: LightGbm***</font>\n",
        "---"
      ],
      "metadata": {
        "id": "oIH37uWjH100"
      }
    },
    {
      "cell_type": "code",
      "source": [
        "model2 = ltb.LGBMClassifier(boosting_type = \"gbdt\", colsample_bytree = 0.8, learning_rate= 1, n_estimators = 24, num_leaves = 16, objective = 'binary',\n",
        "                            reg_alpha= 1, reg_lambda = 1, seed = 42, subsample = 0.7)\n",
        "cv = RepeatedStratifiedKFold(n_splits=10, n_repeats=2, random_state=42)\n",
        "scoresLgb = cross_val_score(model2, x_test, y_test, scoring='f1_macro', cv=cv)\n",
        "iterations = list(range(1, 21))\n",
        "Plot(iterations,scoresLgb,\"StratifiedKFold : x_val\", \"#490079\", \"o\", 50, \"Iterations\", \"f1_macro\", \"Repeated Stratified K-Fold LightGbm\")\n",
        "plt.xticks(iterations)\n",
        "plt.show()\n",
        "\n",
        "model2 = ltb.LGBMClassifier(boosting_type = \"gbdt\", colsample_bytree = 0.8, learning_rate= 1, n_estimators = 24, num_leaves = 16, objective = 'binary',\n",
        "                            reg_alpha= 1, reg_lambda = 1, seed = 42, subsample = 0.7)\n",
        "model2.fit(x_test, y_test)\n",
        "y_pred_proba2 = model2.predict_proba(x_test)[::,1]\n",
        "fpr, tpr, _ = metrics.roc_curve(y_test,  y_pred_proba2)\n",
        "auc = metrics.roc_auc_score(y_test, y_pred_proba2)\n",
        "\n",
        "# create ROC curve\n",
        "plt.plot(fpr,tpr,label=\"AUC=\"+str(auc))\n",
        "plt.ylabel('True Positive Rate')\n",
        "plt.xlabel('False Positive Rate')\n",
        "plt.legend(loc=4)\n",
        "plt.show()"
      ],
      "metadata": {
        "colab": {
          "base_uri": "https://localhost:8080/",
          "height": 557
        },
        "id": "SzExJJPnHeNg",
        "outputId": "88211e84-f753-4b39-a5c4-73474821c85b"
      },
      "execution_count": null,
      "outputs": [
        {
          "output_type": "display_data",
          "data": {
            "text/plain": [
              "<Figure size 432x288 with 1 Axes>"
            ],
            "image/png": "[encoded data removed]"
          },
          "metadata": {
            "needs_background": "light"
          }
        },
        {
          "output_type": "display_data",
          "data": {
            "text/plain": [
              "<Figure size 432x288 with 1 Axes>"
            ],
            "image/png": "[encoded data removed]"
          },
          "metadata": {
            "needs_background": "light"
          }
        }
      ]
    },
    {
      "cell_type": "markdown",
      "source": [
        "##<font color='#18A558'>***Save The Champion model (LightGBM)***</font>\n",
        "---"
      ],
      "metadata": {
        "id": "t06ym-iAbMsb"
      }
    },
    {
      "cell_type": "code",
      "source": [
        "import pickle\n",
        "\n",
        "model2 = ltb.LGBMClassifier(boosting_type = \"gbdt\", colsample_bytree = 0.8, learning_rate= 1, n_estimators = 24, num_leaves = 16, objective = 'binary',\n",
        "                            reg_alpha= 1, reg_lambda = 1, seed = 42, subsample = 0.7)\n",
        "model2 = model2.fit(x_train, y_train)\n",
        "\n",
        "filename = 'Champion_Model.pkl'\n",
        "pickle.dump(model2, open(filename, 'wb'))"
      ],
      "metadata": {
        "id": "oO1iOJwVaqxl"
      },
      "execution_count": null,
      "outputs": []
    }
  ]
}