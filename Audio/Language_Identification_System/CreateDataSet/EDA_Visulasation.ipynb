{
 "cells": [
  {
   "cell_type": "code",
   "execution_count": 2,
   "metadata": {},
   "outputs": [],
   "source": [
    "import pandas as pd\n",
    "from matplotlib import pyplot as plt\n",
    "import numpy as np"
   ]
  },
  {
   "cell_type": "markdown",
   "metadata": {},
   "source": []
  },
  {
   "cell_type": "code",
   "execution_count": 3,
   "metadata": {},
   "outputs": [],
   "source": [
    "Path_CSV = \"../../DataSets/FinalDataSet/FinalDataSet.csv\""
   ]
  },
  {
   "cell_type": "code",
   "execution_count": 4,
   "metadata": {},
   "outputs": [
    {
     "name": "stderr",
     "output_type": "stream",
     "text": [
      "C:\\Users\\mm\\AppData\\Local\\Temp\\ipykernel_8436\\1747609488.py:1: DtypeWarning: Columns (6) have mixed types. Specify dtype option on import or set low_memory=False.\n",
      "  df = pd.read_csv(Path_CSV)\n"
     ]
    }
   ],
   "source": [
    "df = pd.read_csv(Path_CSV)\n",
    "df.drop(\"Unnamed: 0\",axis=1,inplace =True)"
   ]
  },
  {
   "cell_type": "code",
   "execution_count": 5,
   "metadata": {},
   "outputs": [
    {
     "data": {
      "text/html": [
       "<div>\n",
       "<style scoped>\n",
       "    .dataframe tbody tr th:only-of-type {\n",
       "        vertical-align: middle;\n",
       "    }\n",
       "\n",
       "    .dataframe tbody tr th {\n",
       "        vertical-align: top;\n",
       "    }\n",
       "\n",
       "    .dataframe thead th {\n",
       "        text-align: right;\n",
       "    }\n",
       "</style>\n",
       "<table border=\"1\" class=\"dataframe\">\n",
       "  <thead>\n",
       "    <tr style=\"text-align: right;\">\n",
       "      <th></th>\n",
       "      <th>filename</th>\n",
       "      <th>speaker</th>\n",
       "      <th>language</th>\n",
       "      <th>length</th>\n",
       "      <th>gender</th>\n",
       "      <th>accent</th>\n",
       "      <th>datasetname</th>\n",
       "    </tr>\n",
       "  </thead>\n",
       "  <tbody>\n",
       "    <tr>\n",
       "      <th>0</th>\n",
       "      <td>ar-n-0-0-CV.wav</td>\n",
       "      <td>fc3b87e39142b5fced5eb2422f0f5277bdf471c8865e9a...</td>\n",
       "      <td>ar</td>\n",
       "      <td>3.060000</td>\n",
       "      <td>n</td>\n",
       "      <td>NaN</td>\n",
       "      <td>CV</td>\n",
       "    </tr>\n",
       "    <tr>\n",
       "      <th>1</th>\n",
       "      <td>ar-n-0-1-CV.wav</td>\n",
       "      <td>fc3b87e39142b5fced5eb2422f0f5277bdf471c8865e9a...</td>\n",
       "      <td>ar</td>\n",
       "      <td>4.176000</td>\n",
       "      <td>n</td>\n",
       "      <td>NaN</td>\n",
       "      <td>CV</td>\n",
       "    </tr>\n",
       "    <tr>\n",
       "      <th>2</th>\n",
       "      <td>ar-n-0-2-CV.wav</td>\n",
       "      <td>fc3b87e39142b5fced5eb2422f0f5277bdf471c8865e9a...</td>\n",
       "      <td>ar</td>\n",
       "      <td>2.628000</td>\n",
       "      <td>n</td>\n",
       "      <td>NaN</td>\n",
       "      <td>CV</td>\n",
       "    </tr>\n",
       "    <tr>\n",
       "      <th>3</th>\n",
       "      <td>ar-n-0-3-CV.wav</td>\n",
       "      <td>fc3b87e39142b5fced5eb2422f0f5277bdf471c8865e9a...</td>\n",
       "      <td>ar</td>\n",
       "      <td>3.168000</td>\n",
       "      <td>n</td>\n",
       "      <td>NaN</td>\n",
       "      <td>CV</td>\n",
       "    </tr>\n",
       "    <tr>\n",
       "      <th>4</th>\n",
       "      <td>ar-n-0-4-CV.wav</td>\n",
       "      <td>fc3b87e39142b5fced5eb2422f0f5277bdf471c8865e9a...</td>\n",
       "      <td>ar</td>\n",
       "      <td>4.716000</td>\n",
       "      <td>n</td>\n",
       "      <td>NaN</td>\n",
       "      <td>CV</td>\n",
       "    </tr>\n",
       "    <tr>\n",
       "      <th>...</th>\n",
       "      <td>...</td>\n",
       "      <td>...</td>\n",
       "      <td>...</td>\n",
       "      <td>...</td>\n",
       "      <td>...</td>\n",
       "      <td>...</td>\n",
       "      <td>...</td>\n",
       "    </tr>\n",
       "    <tr>\n",
       "      <th>249077</th>\n",
       "      <td>it-n-1057-5-VF.wav</td>\n",
       "      <td>zartocle-20080812</td>\n",
       "      <td>it</td>\n",
       "      <td>6.826688</td>\n",
       "      <td>n</td>\n",
       "      <td>NaN</td>\n",
       "      <td>VF</td>\n",
       "    </tr>\n",
       "    <tr>\n",
       "      <th>249078</th>\n",
       "      <td>it-n-1057-6-VF.wav</td>\n",
       "      <td>zartocle-20080812</td>\n",
       "      <td>it</td>\n",
       "      <td>6.570688</td>\n",
       "      <td>n</td>\n",
       "      <td>NaN</td>\n",
       "      <td>VF</td>\n",
       "    </tr>\n",
       "    <tr>\n",
       "      <th>249079</th>\n",
       "      <td>it-n-1057-7-VF.wav</td>\n",
       "      <td>zartocle-20080812</td>\n",
       "      <td>it</td>\n",
       "      <td>7.338687</td>\n",
       "      <td>n</td>\n",
       "      <td>NaN</td>\n",
       "      <td>VF</td>\n",
       "    </tr>\n",
       "    <tr>\n",
       "      <th>249080</th>\n",
       "      <td>it-n-1057-8-VF.wav</td>\n",
       "      <td>zartocle-20080812</td>\n",
       "      <td>it</td>\n",
       "      <td>7.253375</td>\n",
       "      <td>n</td>\n",
       "      <td>NaN</td>\n",
       "      <td>VF</td>\n",
       "    </tr>\n",
       "    <tr>\n",
       "      <th>249081</th>\n",
       "      <td>it-n-1057-9-VF.wav</td>\n",
       "      <td>zartocle-20080812</td>\n",
       "      <td>it</td>\n",
       "      <td>7.509375</td>\n",
       "      <td>n</td>\n",
       "      <td>NaN</td>\n",
       "      <td>VF</td>\n",
       "    </tr>\n",
       "  </tbody>\n",
       "</table>\n",
       "<p>249082 rows × 7 columns</p>\n",
       "</div>"
      ],
      "text/plain": [
       "                  filename                                            speaker  \\\n",
       "0          ar-n-0-0-CV.wav  fc3b87e39142b5fced5eb2422f0f5277bdf471c8865e9a...   \n",
       "1          ar-n-0-1-CV.wav  fc3b87e39142b5fced5eb2422f0f5277bdf471c8865e9a...   \n",
       "2          ar-n-0-2-CV.wav  fc3b87e39142b5fced5eb2422f0f5277bdf471c8865e9a...   \n",
       "3          ar-n-0-3-CV.wav  fc3b87e39142b5fced5eb2422f0f5277bdf471c8865e9a...   \n",
       "4          ar-n-0-4-CV.wav  fc3b87e39142b5fced5eb2422f0f5277bdf471c8865e9a...   \n",
       "...                    ...                                                ...   \n",
       "249077  it-n-1057-5-VF.wav                                  zartocle-20080812   \n",
       "249078  it-n-1057-6-VF.wav                                  zartocle-20080812   \n",
       "249079  it-n-1057-7-VF.wav                                  zartocle-20080812   \n",
       "249080  it-n-1057-8-VF.wav                                  zartocle-20080812   \n",
       "249081  it-n-1057-9-VF.wav                                  zartocle-20080812   \n",
       "\n",
       "       language    length gender accent datasetname  \n",
       "0            ar  3.060000      n    NaN          CV  \n",
       "1            ar  4.176000      n    NaN          CV  \n",
       "2            ar  2.628000      n    NaN          CV  \n",
       "3            ar  3.168000      n    NaN          CV  \n",
       "4            ar  4.716000      n    NaN          CV  \n",
       "...         ...       ...    ...    ...         ...  \n",
       "249077       it  6.826688      n    NaN          VF  \n",
       "249078       it  6.570688      n    NaN          VF  \n",
       "249079       it  7.338687      n    NaN          VF  \n",
       "249080       it  7.253375      n    NaN          VF  \n",
       "249081       it  7.509375      n    NaN          VF  \n",
       "\n",
       "[249082 rows x 7 columns]"
      ]
     },
     "execution_count": 5,
     "metadata": {},
     "output_type": "execute_result"
    }
   ],
   "source": [
    "df"
   ]
  },
  {
   "cell_type": "code",
   "execution_count": 6,
   "metadata": {},
   "outputs": [
    {
     "data": {
      "text/plain": [
       "language\n",
       "ar    48867\n",
       "de    24100\n",
       "en    84945\n",
       "es    23478\n",
       "fr    22430\n",
       "it    10554\n",
       "pt    34708\n",
       "Name: language, dtype: int64"
      ]
     },
     "execution_count": 6,
     "metadata": {},
     "output_type": "execute_result"
    }
   ],
   "source": [
    "# Each language audio file count\n",
    "df.groupby(\"language\")[\"language\"].agg(\"count\")"
   ]
  },
  {
   "cell_type": "code",
   "execution_count": 7,
   "metadata": {},
   "outputs": [
    {
     "data": {
      "text/plain": [
       "<AxesSubplot:title={'center':'language audio file count'}, xlabel='language', ylabel='audio file Count'>"
      ]
     },
     "execution_count": 7,
     "metadata": {},
     "output_type": "execute_result"
    },
    {
     "data": {
      "image/png": "[encoded data removed]",
      "text/plain": [
       "<Figure size 576x576 with 1 Axes>"
      ]
     },
     "metadata": {
      "needs_background": "light"
     },
     "output_type": "display_data"
    }
   ],
   "source": [
    "plt.figure(figsize=(8,8))\n",
    "plt.ylabel(\"audio file Count\")\n",
    "plt.title(\"language audio file count\")\n",
    "df.groupby(\"language\")[\"language\"].agg(\"count\").plot(kind=\"bar\")\n"
   ]
  },
  {
   "cell_type": "code",
   "execution_count": 8,
   "metadata": {},
   "outputs": [
    {
     "data": {
      "text/plain": [
       "language\n",
       "ar    205893.485061\n",
       "de    114185.410625\n",
       "en    423681.617313\n",
       "es    188725.292562\n",
       "fr    133862.543437\n",
       "it     71988.062000\n",
       "pt    149276.263510\n",
       "Name: length, dtype: float64"
      ]
     },
     "execution_count": 8,
     "metadata": {},
     "output_type": "execute_result"
    }
   ],
   "source": [
    "# Each Lanugage length\n",
    "df.groupby(\"language\")[\"length\"].agg(\"sum\")\n"
   ]
  },
  {
   "cell_type": "code",
   "execution_count": 21,
   "metadata": {},
   "outputs": [
    {
     "data": {
      "text/plain": [
       "<AxesSubplot:title={'center':'language length'}, xlabel='language', ylabel='Total length in sacends'>"
      ]
     },
     "execution_count": 21,
     "metadata": {},
     "output_type": "execute_result"
    },
    {
     "data": {
      "image/png": "[encoded data removed]",
      "text/plain": [
       "<Figure size 576x576 with 1 Axes>"
      ]
     },
     "metadata": {
      "needs_background": "light"
     },
     "output_type": "display_data"
    }
   ],
   "source": [
    "plt.figure(figsize=(8,8))\n",
    "plt.ylabel(\"Total length in sacends\")\n",
    "plt.title(\"language length\")\n",
    "\n",
    "df.groupby(\"language\")[\"length\"].agg(\"sum\").plot(kind=\"bar\")\n"
   ]
  },
  {
   "cell_type": "code",
   "execution_count": 10,
   "metadata": {},
   "outputs": [
    {
     "data": {
      "text/plain": [
       "5.169432855481226"
      ]
     },
     "execution_count": 10,
     "metadata": {},
     "output_type": "execute_result"
    }
   ],
   "source": [
    "df[\"length\"].mean()"
   ]
  },
  {
   "cell_type": "code",
   "execution_count": 40,
   "metadata": {},
   "outputs": [
    {
     "data": {
      "text/plain": [
       "filename                                      ar-n-6-5228-CV.wav\n",
       "speaker        973c0d4151a4527c13d6843525782f8d9badb8c30f166c...\n",
       "language                                                      ar\n",
       "length                                                     2.736\n",
       "gender                                                         n\n",
       "accent                                                       NaN\n",
       "datasetname                                                   CV\n",
       "Name: 5228, dtype: object"
      ]
     },
     "execution_count": 40,
     "metadata": {},
     "output_type": "execute_result"
    }
   ],
   "source": [
    "y=df.loc[df[\"language\"]==\"ar\",\"length\"].max()\n",
    "y.reset_index()\n",
    "y.iloc[5228]"
   ]
  },
  {
   "cell_type": "code",
   "execution_count": 42,
   "metadata": {},
   "outputs": [
    {
     "data": {
      "text/html": [
       "<div>\n",
       "<style scoped>\n",
       "    .dataframe tbody tr th:only-of-type {\n",
       "        vertical-align: middle;\n",
       "    }\n",
       "\n",
       "    .dataframe tbody tr th {\n",
       "        vertical-align: top;\n",
       "    }\n",
       "\n",
       "    .dataframe thead th {\n",
       "        text-align: right;\n",
       "    }\n",
       "</style>\n",
       "<table border=\"1\" class=\"dataframe\">\n",
       "  <thead>\n",
       "    <tr style=\"text-align: right;\">\n",
       "      <th></th>\n",
       "      <th>filename</th>\n",
       "      <th>speaker</th>\n",
       "      <th>language</th>\n",
       "      <th>length</th>\n",
       "      <th>gender</th>\n",
       "      <th>accent</th>\n",
       "      <th>datasetname</th>\n",
       "    </tr>\n",
       "  </thead>\n",
       "  <tbody>\n",
       "    <tr>\n",
       "      <th>26184</th>\n",
       "      <td>ar-n-21-26184-CV.wav</td>\n",
       "      <td>3b941765a02cc4e9bdf5d8a99c3e3cc3b1ce3413911116...</td>\n",
       "      <td>ar</td>\n",
       "      <td>22.068</td>\n",
       "      <td>n</td>\n",
       "      <td>NaN</td>\n",
       "      <td>CV</td>\n",
       "    </tr>\n",
       "  </tbody>\n",
       "</table>\n",
       "</div>"
      ],
      "text/plain": [
       "                   filename  \\\n",
       "26184  ar-n-21-26184-CV.wav   \n",
       "\n",
       "                                                 speaker language  length  \\\n",
       "26184  3b941765a02cc4e9bdf5d8a99c3e3cc3b1ce3413911116...       ar  22.068   \n",
       "\n",
       "      gender accent datasetname  \n",
       "26184      n    NaN          CV  "
      ]
     },
     "execution_count": 42,
     "metadata": {},
     "output_type": "execute_result"
    }
   ],
   "source": [
    "i = df.loc[df[\"language\"]==\"ar\",\"length\"].max()\n",
    "y[y[\"length\"]==i]"
   ]
  },
  {
   "cell_type": "code",
   "execution_count": 28,
   "metadata": {},
   "outputs": [
    {
     "data": {
      "text/plain": [
       "<AxesSubplot:title={'center':'language length distribution'}, ylabel='Frequency'>"
      ]
     },
     "execution_count": 28,
     "metadata": {},
     "output_type": "execute_result"
    },
    {
     "data": {
      "image/png": "[encoded data removed]",
      "text/plain": [
       "<Figure size 576x576 with 1 Axes>"
      ]
     },
     "metadata": {
      "needs_background": "light"
     },
     "output_type": "display_data"
    }
   ],
   "source": [
    "plt.figure(figsize=(8,8))\n",
    "plt.title(\"language length distribution\")\n",
    "df[\"length\"].plot.hist(bins=200, alpha=0.5)"
   ]
  },
  {
   "cell_type": "code",
   "execution_count": 23,
   "metadata": {},
   "outputs": [
    {
     "data": {
      "text/plain": [
       "<AxesSubplot:title={'center':'Arabic accents'}, xlabel='accent', ylabel='Count'>"
      ]
     },
     "execution_count": 23,
     "metadata": {},
     "output_type": "execute_result"
    },
    {
     "data": {
      "image/png": "[encoded data removed]",
      "text/plain": [
       "<Figure size 432x288 with 1 Axes>"
      ]
     },
     "metadata": {
      "needs_background": "light"
     },
     "output_type": "display_data"
    }
   ],
   "source": [
    "# arabic accents\n",
    "plt.ylabel(\"Count\")\n",
    "plt.title(\"Arabic accents\")\n",
    "df[df[\"language\"]==\"ar\"].groupby(\"accent\")[\"accent\"].agg(\"count\").plot(kind=\"bar\")\n"
   ]
  },
  {
   "cell_type": "code",
   "execution_count": null,
   "metadata": {},
   "outputs": [
    {
     "data": {
      "text/plain": [
       "accent\n",
       "Português do Brasil,Região Sul do Brasil                                                                                 1454\n",
       "neutro                                                                                                                    241\n",
       "Soa levemente cantado.                                                                                                    207\n",
       "Carioca                                                                                                                    98\n",
       "Pouco sotaque                                                                                                              91\n",
       "Paulista                                                                                                                   88\n",
       "Paulistano.                                                                                                                68\n",
       "Carioca,Brasileiro                                                                                                         57\n",
       "Gringo,Rio Grande do Sul,Gaucho,Brazilian Portuguese                                                                       50\n",
       "Mineiro                                                                                                                    44\n",
       "Meu sotaque é uma mistura do baiano com o do paraense, porém ambos pouco carregados.                                       43\n",
       "Mato Grosso                                                                                                                41\n",
       "Brasil, São Paulo                                                                                                          30\n",
       "Brasileiro                                                                                                                 30\n",
       "Interior Paulista                                                                                                          27\n",
       "native Brazillian Portuguese - city of Sao Paulo                                                                           24\n",
       "Brasil, interior de São Paulo                                                                                              22\n",
       "Meu sotaque é do sul do Brasil. A entonação é mais forte e algumas consoantes como o \"T\" e o \"E\" são ditas claramente      21\n",
       "Porto                                                                                                                      20\n",
       "Paulista,Paulistano,Brasileiro                                                                                             19\n",
       "Brazilian                                                                                                                  18\n",
       "Nordestino,Padrão                                                                                                          17\n",
       "southern brazil accent                                                                                                     17\n",
       "Nordestino                                                                                                                 15\n",
       "de crinança                                                                                                                13\n",
       "Paulista,Interior Paulista                                                                                                 10\n",
       "native                                                                                                                      9\n",
       "Carioca,Mineiro                                                                                                             9\n",
       "Paulista do interior                                                                                                        5\n",
       "Nativo                                                                                                                      5\n",
       "brasileiro baixada santista                                                                                                 5\n",
       "Madeirense                                                                                                                  4\n",
       "Brazillian                                                                                                                  4\n",
       "RMPOA,Região Metropolitana de Porto Alegre,Gaucho                                                                           4\n",
       "Nordestino,Forte                                                                                                            3\n",
       "Nordest                                                                                                                     3\n",
       "Lisboa                                                                                                                      3\n",
       "Caipira                                                                                                                     2\n",
       "Cearense,Nordestino                                                                                                         2\n",
       "Portugal,português de portugal,pt_PT                                                                                        2\n",
       "Portuguese from the north of Portugal                                                                                       1\n",
       "portugues de lisboa                                                                                                         1\n",
       "Norte,Matosinhos                                                                                                            1\n",
       "Name: accent, dtype: int64"
      ]
     },
     "execution_count": 47,
     "metadata": {},
     "output_type": "execute_result"
    }
   ],
   "source": [
    "# arabic accents\n",
    "df[df[\"language\"]==\"pt\"].groupby(\"accent\")[\"accent\"].agg(\"count\").sort_values(ascending=False)\n"
   ]
  },
  {
   "cell_type": "code",
   "execution_count": 25,
   "metadata": {},
   "outputs": [
    {
     "data": {
      "text/plain": [
       "<AxesSubplot:title={'center':'top 5 pt accents'}, xlabel='accent', ylabel='Count'>"
      ]
     },
     "execution_count": 25,
     "metadata": {},
     "output_type": "execute_result"
    },
    {
     "data": {
      "image/png": "[encoded data removed]",
      "text/plain": [
       "<Figure size 432x288 with 1 Axes>"
      ]
     },
     "metadata": {
      "needs_background": "light"
     },
     "output_type": "display_data"
    }
   ],
   "source": [
    "plt.ylabel(\"Count\")\n",
    "plt.title(\"top 5 pt accents\")\n",
    "\n",
    "df[df[\"language\"]==\"pt\"].groupby(\"accent\")[\"accent\"].agg(\"count\").sort_values(ascending=False).head(5).plot(kind=\"bar\")\n"
   ]
  },
  {
   "cell_type": "code",
   "execution_count": null,
   "metadata": {},
   "outputs": [
    {
     "data": {
      "text/plain": [
       "gender\n",
       "f     12978\n",
       "m     31449\n",
       "n    204655\n",
       "Name: gender, dtype: int64"
      ]
     },
     "execution_count": 51,
     "metadata": {},
     "output_type": "execute_result"
    }
   ],
   "source": [
    "# Gender count\n",
    "df.groupby(\"gender\")[\"gender\"].agg(\"count\")"
   ]
  },
  {
   "cell_type": "code",
   "execution_count": 26,
   "metadata": {},
   "outputs": [
    {
     "data": {
      "text/plain": [
       "<AxesSubplot:title={'center':'Gender'}, xlabel='gender', ylabel='Count'>"
      ]
     },
     "execution_count": 26,
     "metadata": {},
     "output_type": "execute_result"
    },
    {
     "data": {
      "image/png": "[encoded data removed]",
      "text/plain": [
       "<Figure size 432x288 with 1 Axes>"
      ]
     },
     "metadata": {
      "needs_background": "light"
     },
     "output_type": "display_data"
    }
   ],
   "source": [
    "plt.ylabel(\"Count\")\n",
    "plt.title(\"Gender\")\n",
    "df.groupby(\"gender\")[\"gender\"].agg(\"count\").plot(kind=\"bar\")\n"
   ]
  },
  {
   "cell_type": "code",
   "execution_count": null,
   "metadata": {},
   "outputs": [],
   "source": [
    "from IPython.display import Audio\n",
    "Audio(AUDIO_FILE)"
   ]
  }
 ],
 "metadata": {
  "kernelspec": {
   "display_name": "Python 3.9.12 ('base')",
   "language": "python",
   "name": "python3"
  },
  "language_info": {
   "codemirror_mode": {
    "name": "ipython",
    "version": 3
   },
   "file_extension": ".py",
   "mimetype": "text/x-python",
   "name": "python",
   "nbconvert_exporter": "python",
   "pygments_lexer": "ipython3",
   "version": "3.9.12"
  },
  "orig_nbformat": 4,
  "vscode": {
   "interpreter": {
    "hash": "dbce3ab015948f9d7a38d0a4c6629e1339f6d90306f3d65fd7273a0ce3b29204"
   }
  }
 },
 "nbformat": 4,
 "nbformat_minor": 2
}
