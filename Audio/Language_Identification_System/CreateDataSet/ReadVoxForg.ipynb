{
 "cells": [
  {
   "cell_type": "code",
   "execution_count": 2,
   "metadata": {},
   "outputs": [],
   "source": [
    "# import os\n",
    "\n",
    "\n",
    "# class uitiles:\n",
    "#     DataSet_DF_columns=[\"filename\",\"speaker\",\"language\",\"length\",\"gender\",\"accent\",\"datasetname\"]\n",
    "\n",
    "    \n",
    "#     def Generate_File_Name(Language :str, Gender:str, I_Speaker:int, I_Clip:int,datasetname: str,Extention: str):\n",
    "#         return Language + \"-\" + Gender + \"-\" + str(I_Speaker) + \"-\" + str(I_Clip) + \"-\" + datasetname + \".\" + Extention\n",
    "\n",
    "#     def Save_To_CSV(PathToDF, df):\n",
    "#         if os.path.exists(PathToDF):\n",
    "#             df.to_csv(PathToDF, mode='a', header=False)\n",
    "#         else :\n",
    "#             df.to_csv(PathToDF)\n"
   ]
  },
  {
   "cell_type": "code",
   "execution_count": 3,
   "metadata": {},
   "outputs": [],
   "source": [
    "import tarfile\n",
    "import pandas as pd \n",
    "import os\n",
    "import shutil\n",
    "import librosa\n",
    "from IPython.display import clear_output\n",
    "\n",
    "class ReadVoxForg:\n",
    "    \"\"\"This Class aims to read tgz and unzip this files in folders within same language\"\"\"\n",
    "\n",
    "    _Path =\"../../DataSets/InititalVoxForge\"\n",
    "\n",
    "    def GetPath(self,Path):\n",
    "        _path=Path\n",
    "\n",
    "    def ReadFileNames(self):\n",
    "        \"\"\"Read The text file contains files name and language\n",
    "        \n",
    "        Return: \n",
    "        DataFrame with FileNames and Languages\n",
    "        \"\"\"\n",
    "        files = pd.read_csv(self._Path+\"/voxforge_urls.txt\",index_col=False, header= None ,  names=[\"FileNames\"])\n",
    "        filesNames_Lang = files[\"FileNames\"].str.split('/', expand = True)[[2,7]]\n",
    "        filesNames_Lang.columns=[\"Language\",\"FileName\"]\n",
    "        filesNames_Lang=filesNames_Lang[filesNames_Lang[\"Language\"]!='ru'] #As ru is not within the desired languages\n",
    "        return filesNames_Lang\n",
    "\n",
    "    def ReadFiles(self):   \n",
    "        \"\"\"Extact files in sperated folders based on the language\"\"\" \n",
    "        files = self.ReadFileNames() \n",
    "        Languages=  files[\"Language\"].unique()\n",
    "        ExtractedFiles = 0\n",
    "        FailedFiles = 0\n",
    "        for Language in Languages:\n",
    "            for filename in files.loc[files[\"Language\"]==Language,\"FileName\"]:\n",
    "                try:\n",
    "                    tar = tarfile.open(f'{self._Path}/{filename}', \"r:*\")\n",
    "                    subdir_and_files = [\n",
    "                            tarinfo for tarinfo in tar.getmembers()\n",
    "                            if tarinfo.name.endswith(\".wav\")\n",
    "                        ]\n",
    "                    tar.extractall(members=subdir_and_files,path=f'../../DataSets/ExalVoxForge/{Language}')\n",
    "                    tar.close()\n",
    "                    ExtractedFiles=ExtractedFiles+1        \n",
    "                except:\n",
    "                    FailedFiles =FailedFiles+1\n",
    "                    continue\n",
    "        print(f\"Extracted Files : {ExtractedFiles}\")\n",
    "        print(f\"Field Files : {FailedFiles}\")\n",
    "    \n",
    "\n",
    "    def MoveToOneFile(self,LangFilesName,Path,PathToMove,DataSetName,SaveToDF,PathToDF):\n",
    "        \"\"\"\n",
    "        Move Specific langauges files in on folder\n",
    "\n",
    "        Args:\n",
    "            LangFilesName(list): list of folder names that contain the wav files\n",
    "\n",
    "            Path(str):Path to languages files\n",
    "\n",
    "            PathToMove(str):Path to Move\n",
    "\n",
    "            DataSetName(str): Name of Dataset To create new name for each file\n",
    "        \"\"\"\n",
    "        for  LangFile in LangFilesName:\n",
    "            FilesNames =os.listdir(f\"{Path}/{LangFile}\")\n",
    "            MovedFiles = []\n",
    "\n",
    "            for I_Speaker, FilesName in enumerate(FilesNames) :\n",
    "                \n",
    "                print(f\"File  : {I_Speaker} / {len(FilesNames)} - {LangFile}\")\n",
    "                splitedFilesName = FilesName.split('-')\n",
    "                Speaker_Name=\"\"\n",
    "                if len(splitedFilesName) >=2 :\n",
    "                   Speaker_Name= splitedFilesName[0] + \"-\" + splitedFilesName[1]\n",
    "                else:\n",
    "                    Speaker_Name= splitedFilesName[0] \n",
    "\n",
    "                lang = LangFile\n",
    "                gender = \"n\"\n",
    "                accent = \"\"\n",
    "                for index, WavFile in enumerate (os.listdir(f\"{Path}/{LangFile}/{FilesName}/wav\")):\n",
    "                    NewName= uitiles.Generate_File_Name(lang, gender, I_Speaker, index, DataSetName,\"wav\")  \n",
    "\n",
    "                    try :\n",
    "                        lenth =  librosa.get_duration(filename=f\"{Path}/{LangFile}/{FilesName}/wav/{WavFile}\")\n",
    "\n",
    "                        shutil.copy2(f\"{Path}/{LangFile}/{FilesName}/wav/{WavFile}\", f'{PathToMove}/{NewName}')\n",
    "\n",
    "                        MovedFiles.append([NewName,Speaker_Name,lang,lenth,gender,accent,DataSetName])\n",
    "                    except BaseException as e:\n",
    "                        print(f\"Error While copy file {FilesName} - {WavFile} - \")\n",
    "                        continue\n",
    "\n",
    "                clear_output(wait=True)\n",
    "        \n",
    "            NewDF = pd.DataFrame(MovedFiles,columns=uitiles.DataSet_DF_columns)           \n",
    "            if SaveToDF:\n",
    "                uitiles.Save_To_CSV(PathToDF,NewDF)\n",
    "\n",
    "            \n",
    "\n",
    "\n"
   ]
  },
  {
   "cell_type": "code",
   "execution_count": 4,
   "metadata": {},
   "outputs": [],
   "source": [
    "# s =ReadVoxForg()\n",
    "# a= s.ReadFileNames()\n",
    "# s.ReadFiles()"
   ]
  },
  {
   "cell_type": "code",
   "execution_count": 5,
   "metadata": {},
   "outputs": [
    {
     "name": "stdout",
     "output_type": "stream",
     "text": [
      "File  : 1057 / 1058 - it\n"
     ]
    }
   ],
   "source": [
    "u =ReadVoxForg()\n",
    "\n",
    "LangFilesName =  ['de', 'en', 'es','fr', 'it']\n",
    "u.MoveToOneFile(LangFilesName,\"../../DataSets/ExalVoxForge\",\"../../DataSets/FinalDataSet/clips\" ,\"VF\",True,\"../../DataSets/FinalDataSet/FinalDataSet.csv\" )"
   ]
  },
  {
   "cell_type": "code",
   "execution_count": 6,
   "metadata": {},
   "outputs": [
    {
     "data": {
      "text/plain": [
       "1"
      ]
     },
     "execution_count": 6,
     "metadata": {},
     "output_type": "execute_result"
    }
   ],
   "source": [
    "len(\"an4\".split(\"-\"))"
   ]
  },
  {
   "cell_type": "code",
   "execution_count": 7,
   "metadata": {},
   "outputs": [
    {
     "data": {
      "text/plain": [
       "False"
      ]
     },
     "execution_count": 7,
     "metadata": {},
     "output_type": "execute_result"
    }
   ],
   "source": [
    "1>=2"
   ]
  },
  {
   "cell_type": "code",
   "execution_count": 8,
   "metadata": {},
   "outputs": [
    {
     "name": "stderr",
     "output_type": "stream",
     "text": [
      "C:\\Users\\mm\\AppData\\Local\\Temp\\ipykernel_11172\\3034147273.py:1: DtypeWarning: Columns (6) have mixed types. Specify dtype option on import or set low_memory=False.\n",
      "  gg = pd.read_csv(\"../../DataSets/FinalDataSet/FinalDataSet.csv\")\n"
     ]
    }
   ],
   "source": [
    "gg = pd.read_csv(\"../../DataSets/FinalDataSet/FinalDataSet.csv\")"
   ]
  },
  {
   "cell_type": "code",
   "execution_count": 9,
   "metadata": {},
   "outputs": [
    {
     "data": {
      "text/html": [
       "<div>\n",
       "<style scoped>\n",
       "    .dataframe tbody tr th:only-of-type {\n",
       "        vertical-align: middle;\n",
       "    }\n",
       "\n",
       "    .dataframe tbody tr th {\n",
       "        vertical-align: top;\n",
       "    }\n",
       "\n",
       "    .dataframe thead th {\n",
       "        text-align: right;\n",
       "    }\n",
       "</style>\n",
       "<table border=\"1\" class=\"dataframe\">\n",
       "  <thead>\n",
       "    <tr style=\"text-align: right;\">\n",
       "      <th></th>\n",
       "      <th>Unnamed: 0</th>\n",
       "      <th>filename</th>\n",
       "      <th>speaker</th>\n",
       "      <th>language</th>\n",
       "      <th>length</th>\n",
       "      <th>gender</th>\n",
       "      <th>accent</th>\n",
       "      <th>datasetname</th>\n",
       "    </tr>\n",
       "  </thead>\n",
       "  <tbody>\n",
       "    <tr>\n",
       "      <th>0</th>\n",
       "      <td>0</td>\n",
       "      <td>ar-n-0-0-CV.wav</td>\n",
       "      <td>fc3b87e39142b5fced5eb2422f0f5277bdf471c8865e9a...</td>\n",
       "      <td>ar</td>\n",
       "      <td>3.060000</td>\n",
       "      <td>n</td>\n",
       "      <td>NaN</td>\n",
       "      <td>CV</td>\n",
       "    </tr>\n",
       "    <tr>\n",
       "      <th>1</th>\n",
       "      <td>1</td>\n",
       "      <td>ar-n-0-1-CV.wav</td>\n",
       "      <td>fc3b87e39142b5fced5eb2422f0f5277bdf471c8865e9a...</td>\n",
       "      <td>ar</td>\n",
       "      <td>4.176000</td>\n",
       "      <td>n</td>\n",
       "      <td>NaN</td>\n",
       "      <td>CV</td>\n",
       "    </tr>\n",
       "    <tr>\n",
       "      <th>2</th>\n",
       "      <td>2</td>\n",
       "      <td>ar-n-0-2-CV.wav</td>\n",
       "      <td>fc3b87e39142b5fced5eb2422f0f5277bdf471c8865e9a...</td>\n",
       "      <td>ar</td>\n",
       "      <td>2.628000</td>\n",
       "      <td>n</td>\n",
       "      <td>NaN</td>\n",
       "      <td>CV</td>\n",
       "    </tr>\n",
       "    <tr>\n",
       "      <th>3</th>\n",
       "      <td>3</td>\n",
       "      <td>ar-n-0-3-CV.wav</td>\n",
       "      <td>fc3b87e39142b5fced5eb2422f0f5277bdf471c8865e9a...</td>\n",
       "      <td>ar</td>\n",
       "      <td>3.168000</td>\n",
       "      <td>n</td>\n",
       "      <td>NaN</td>\n",
       "      <td>CV</td>\n",
       "    </tr>\n",
       "    <tr>\n",
       "      <th>4</th>\n",
       "      <td>4</td>\n",
       "      <td>ar-n-0-4-CV.wav</td>\n",
       "      <td>fc3b87e39142b5fced5eb2422f0f5277bdf471c8865e9a...</td>\n",
       "      <td>ar</td>\n",
       "      <td>4.716000</td>\n",
       "      <td>n</td>\n",
       "      <td>NaN</td>\n",
       "      <td>CV</td>\n",
       "    </tr>\n",
       "    <tr>\n",
       "      <th>...</th>\n",
       "      <td>...</td>\n",
       "      <td>...</td>\n",
       "      <td>...</td>\n",
       "      <td>...</td>\n",
       "      <td>...</td>\n",
       "      <td>...</td>\n",
       "      <td>...</td>\n",
       "      <td>...</td>\n",
       "    </tr>\n",
       "    <tr>\n",
       "      <th>249077</th>\n",
       "      <td>10549</td>\n",
       "      <td>it-n-1057-5-VF.wav</td>\n",
       "      <td>zartocle-20080812</td>\n",
       "      <td>it</td>\n",
       "      <td>6.826688</td>\n",
       "      <td>n</td>\n",
       "      <td>NaN</td>\n",
       "      <td>VF</td>\n",
       "    </tr>\n",
       "    <tr>\n",
       "      <th>249078</th>\n",
       "      <td>10550</td>\n",
       "      <td>it-n-1057-6-VF.wav</td>\n",
       "      <td>zartocle-20080812</td>\n",
       "      <td>it</td>\n",
       "      <td>6.570688</td>\n",
       "      <td>n</td>\n",
       "      <td>NaN</td>\n",
       "      <td>VF</td>\n",
       "    </tr>\n",
       "    <tr>\n",
       "      <th>249079</th>\n",
       "      <td>10551</td>\n",
       "      <td>it-n-1057-7-VF.wav</td>\n",
       "      <td>zartocle-20080812</td>\n",
       "      <td>it</td>\n",
       "      <td>7.338687</td>\n",
       "      <td>n</td>\n",
       "      <td>NaN</td>\n",
       "      <td>VF</td>\n",
       "    </tr>\n",
       "    <tr>\n",
       "      <th>249080</th>\n",
       "      <td>10552</td>\n",
       "      <td>it-n-1057-8-VF.wav</td>\n",
       "      <td>zartocle-20080812</td>\n",
       "      <td>it</td>\n",
       "      <td>7.253375</td>\n",
       "      <td>n</td>\n",
       "      <td>NaN</td>\n",
       "      <td>VF</td>\n",
       "    </tr>\n",
       "    <tr>\n",
       "      <th>249081</th>\n",
       "      <td>10553</td>\n",
       "      <td>it-n-1057-9-VF.wav</td>\n",
       "      <td>zartocle-20080812</td>\n",
       "      <td>it</td>\n",
       "      <td>7.509375</td>\n",
       "      <td>n</td>\n",
       "      <td>NaN</td>\n",
       "      <td>VF</td>\n",
       "    </tr>\n",
       "  </tbody>\n",
       "</table>\n",
       "<p>249082 rows × 8 columns</p>\n",
       "</div>"
      ],
      "text/plain": [
       "        Unnamed: 0            filename  \\\n",
       "0                0     ar-n-0-0-CV.wav   \n",
       "1                1     ar-n-0-1-CV.wav   \n",
       "2                2     ar-n-0-2-CV.wav   \n",
       "3                3     ar-n-0-3-CV.wav   \n",
       "4                4     ar-n-0-4-CV.wav   \n",
       "...            ...                 ...   \n",
       "249077       10549  it-n-1057-5-VF.wav   \n",
       "249078       10550  it-n-1057-6-VF.wav   \n",
       "249079       10551  it-n-1057-7-VF.wav   \n",
       "249080       10552  it-n-1057-8-VF.wav   \n",
       "249081       10553  it-n-1057-9-VF.wav   \n",
       "\n",
       "                                                  speaker language    length  \\\n",
       "0       fc3b87e39142b5fced5eb2422f0f5277bdf471c8865e9a...       ar  3.060000   \n",
       "1       fc3b87e39142b5fced5eb2422f0f5277bdf471c8865e9a...       ar  4.176000   \n",
       "2       fc3b87e39142b5fced5eb2422f0f5277bdf471c8865e9a...       ar  2.628000   \n",
       "3       fc3b87e39142b5fced5eb2422f0f5277bdf471c8865e9a...       ar  3.168000   \n",
       "4       fc3b87e39142b5fced5eb2422f0f5277bdf471c8865e9a...       ar  4.716000   \n",
       "...                                                   ...      ...       ...   \n",
       "249077                                  zartocle-20080812       it  6.826688   \n",
       "249078                                  zartocle-20080812       it  6.570688   \n",
       "249079                                  zartocle-20080812       it  7.338687   \n",
       "249080                                  zartocle-20080812       it  7.253375   \n",
       "249081                                  zartocle-20080812       it  7.509375   \n",
       "\n",
       "       gender accent datasetname  \n",
       "0           n    NaN          CV  \n",
       "1           n    NaN          CV  \n",
       "2           n    NaN          CV  \n",
       "3           n    NaN          CV  \n",
       "4           n    NaN          CV  \n",
       "...       ...    ...         ...  \n",
       "249077      n    NaN          VF  \n",
       "249078      n    NaN          VF  \n",
       "249079      n    NaN          VF  \n",
       "249080      n    NaN          VF  \n",
       "249081      n    NaN          VF  \n",
       "\n",
       "[249082 rows x 8 columns]"
      ]
     },
     "execution_count": 9,
     "metadata": {},
     "output_type": "execute_result"
    }
   ],
   "source": [
    "gg"
   ]
  },
  {
   "cell_type": "code",
   "execution_count": 22,
   "metadata": {},
   "outputs": [
    {
     "data": {
      "text/plain": [
       "array(['ar', 'pt', 'de', 'en', 'es', 'fr', 'it'], dtype=object)"
      ]
     },
     "execution_count": 22,
     "metadata": {},
     "output_type": "execute_result"
    }
   ],
   "source": [
    "gg.loc[:,\"language\" ].unique()"
   ]
  },
  {
   "cell_type": "code",
   "execution_count": null,
   "metadata": {},
   "outputs": [],
   "source": []
  }
 ],
 "metadata": {
  "kernelspec": {
   "display_name": "Python 3.9.13 ('gb')",
   "language": "python",
   "name": "python3"
  },
  "language_info": {
   "codemirror_mode": {
    "name": "ipython",
    "version": 3
   },
   "file_extension": ".py",
   "mimetype": "text/x-python",
   "name": "python",
   "nbconvert_exporter": "python",
   "pygments_lexer": "ipython3",
   "version": "3.9.13"
  },
  "orig_nbformat": 4,
  "vscode": {
   "interpreter": {
    "hash": "04dacb1b08ab6982c559b14f2c401ac7f4c9a8ca4308f48eb77a7ab724398300"
   }
  }
 },
 "nbformat": 4,
 "nbformat_minor": 2
}
