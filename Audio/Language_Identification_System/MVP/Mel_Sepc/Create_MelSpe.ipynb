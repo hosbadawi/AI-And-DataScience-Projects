{
 "cells": [
  {
   "cell_type": "code",
   "execution_count": 1,
   "metadata": {},
   "outputs": [
    {
     "data": {
      "text/plain": [
       "<Figure size 1440x1440 with 0 Axes>"
      ]
     },
     "metadata": {},
     "output_type": "display_data"
    }
   ],
   "source": [
    "import librosa\n",
    "import librosa.display\n",
    "import numpy as np\n",
    "import os, sys\n",
    "import matplotlib.pyplot as plt\n",
    "plt.figure(figsize=(20, 20))\n",
    "import pandas as pd\n",
    "sys.path.insert(1, '../../SampleDataSet')\n",
    "\n",
    "from SampleDataSet import SampleDataSet\n",
    "import skimage"
   ]
  },
  {
   "cell_type": "code",
   "execution_count": 10,
   "metadata": {},
   "outputs": [],
   "source": [
    "# DataPath = \"../../../../DataSets/FinalDataSet/clips/\"\n",
    "DataPath = \"D:/GP/YouTube/AllClips/\""
   ]
  },
  {
   "cell_type": "code",
   "execution_count": 26,
   "metadata": {},
   "outputs": [
    {
     "name": "stdout",
     "output_type": "stream",
     "text": [
      "en\n",
      "it\n",
      "de\n",
      "ar\n",
      "pt\n",
      "es\n",
      "fr\n"
     ]
    }
   ],
   "source": [
    "# Dataset100 = SampleDataSet().SampleDataBase(\"../../DataSetCSV/FinalDataSet.csv\", 200* 60 *7, 8, 0, FileORTime=\"seconds\",Random_State=42, ISMax=True) "
   ]
  },
  {
   "cell_type": "code",
   "execution_count": 27,
   "metadata": {},
   "outputs": [],
   "source": [
    "# Dataset100.to_csv(\"Mel128_200_M_P.csv\")"
   ]
  },
  {
   "cell_type": "code",
   "execution_count": 3,
   "metadata": {},
   "outputs": [],
   "source": [
    "Dataset100 = pd.read_csv(\"D:/GP/YouTube/YTData.csv\")"
   ]
  },
  {
   "cell_type": "code",
   "execution_count": 12,
   "metadata": {},
   "outputs": [
    {
     "name": "stderr",
     "output_type": "stream",
     "text": [
      "c:\\Users\\mm\\anaconda3\\lib\\site-packages\\librosa\\util\\decorators.py:88: UserWarning: Empty filters detected in mel frequency basis. Some channels will produce empty responses. Try increasing your sampling rate (and fmax) or reducing n_mels.\n",
      "  return f(*args, **kwargs)\n"
     ]
    }
   ],
   "source": [
    "os.mkdir(f\"Images/Mel128_YT_{len(Dataset100)}\")\n",
    "for lang in Dataset100[\"language\"].unique():\n",
    "   \n",
    "    os.mkdir(f\"Images/Mel128_YT_{len(Dataset100)}/{lang}\")\n",
    "\n",
    "    for File in Dataset100.loc[Dataset100[\"language\"]==lang, \"filename\"].values:\n",
    "\n",
    "        y, sr = librosa.load(DataPath + File,duration = 8, sr=16000)\n",
    "        y = librosa.util.fix_length(y, size=8*16000)\n",
    "        \n",
    "        # y, sr = librosa.load(DataPath + File, sr=16000)\n",
    "        \n",
    "        \n",
    "\n",
    "        S = librosa.feature.melspectrogram(y=y, sr=sr, n_mels=128, fmax=sr, fmin=20)\n",
    "\n",
    "        img = librosa.display.specshow(librosa.power_to_db(S, ref=np.max),\n",
    "                                    x_axis='time', y_axis='mel', fmax=sr )\n",
    "        plt.axis(\"off\")\n",
    "        plt.savefig(f\"Images/Mel128_YT_{len(Dataset100)}/{lang}/{File.split('.')[0]}.jpg\",bbox_inches='tight')\n",
    "        plt.close()\n",
    "    "
   ]
  },
  {
   "cell_type": "code",
   "execution_count": null,
   "metadata": {},
   "outputs": [],
   "source": []
  },
  {
   "cell_type": "code",
   "execution_count": 29,
   "metadata": {},
   "outputs": [
    {
     "data": {
      "text/plain": [
       "12088"
      ]
     },
     "execution_count": 29,
     "metadata": {},
     "output_type": "execute_result"
    }
   ],
   "source": [
    "len(Dataset100)"
   ]
  },
  {
   "cell_type": "code",
   "execution_count": null,
   "metadata": {},
   "outputs": [],
   "source": []
  }
 ],
 "metadata": {
  "kernelspec": {
   "display_name": "Python 3.9.12 ('base')",
   "language": "python",
   "name": "python3"
  },
  "language_info": {
   "codemirror_mode": {
    "name": "ipython",
    "version": 3
   },
   "file_extension": ".py",
   "mimetype": "text/x-python",
   "name": "python",
   "nbconvert_exporter": "python",
   "pygments_lexer": "ipython3",
   "version": "3.9.12"
  },
  "orig_nbformat": 4,
  "vscode": {
   "interpreter": {
    "hash": "dbce3ab015948f9d7a38d0a4c6629e1339f6d90306f3d65fd7273a0ce3b29204"
   }
  }
 },
 "nbformat": 4,
 "nbformat_minor": 2
}
