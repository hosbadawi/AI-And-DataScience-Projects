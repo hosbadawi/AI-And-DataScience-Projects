{
 "cells": [
  {
   "cell_type": "code",
   "execution_count": 1,
   "metadata": {},
   "outputs": [
    {
     "data": {
      "text/plain": [
       "<Figure size 1440x1440 with 0 Axes>"
      ]
     },
     "metadata": {},
     "output_type": "display_data"
    }
   ],
   "source": [
    "import librosa\n",
    "import librosa.display\n",
    "import numpy as np\n",
    "import os, sys\n",
    "import matplotlib.pyplot as plt\n",
    "plt.figure(figsize=(20, 20))\n",
    "import pandas as pd\n",
    "sys.path.insert(1, '../../SampleDataSet')\n",
    "\n",
    "from SampleDataSet import SampleDataSet\n",
    "import skimage"
   ]
  },
  {
   "cell_type": "code",
   "execution_count": 2,
   "metadata": {},
   "outputs": [],
   "source": [
    "DataPath = \"../../../../DataSets/FinalDataSet/clips/\""
   ]
  },
  {
   "cell_type": "code",
   "execution_count": 3,
   "metadata": {},
   "outputs": [
    {
     "name": "stdout",
     "output_type": "stream",
     "text": [
      "en\n",
      "ar\n",
      "pt\n",
      "de\n",
      "fr\n",
      "es\n",
      "it\n"
     ]
    }
   ],
   "source": [
    "Dataset100 = SampleDataSet().SampleDataBase(\"../../DataSetCSV/FinalDataSet.csv\", 300* 60 *7, 10, 0, FileORTime=\"seconds\",Random_State=42, ISMax=True) "
   ]
  },
  {
   "cell_type": "code",
   "execution_count": 4,
   "metadata": {},
   "outputs": [],
   "source": [
    "# Dataset100.to_csv(\"ImagesCSV/MFCC_300_M_P.csv\")"
   ]
  },
  {
   "cell_type": "code",
   "execution_count": 3,
   "metadata": {},
   "outputs": [],
   "source": [
    "Dataset100 = pd.read_csv(\"ImagesCSV/MFCC_300_M_P.csv\")"
   ]
  },
  {
   "cell_type": "code",
   "execution_count": 4,
   "metadata": {},
   "outputs": [],
   "source": [
    "os.mkdir(f\"Images/MFCC_300_M_NOP{len(Dataset100)}\")\n",
    "for lang in Dataset100[\"language\"].unique():\n",
    "   \n",
    "    os.mkdir(f\"Images/MFCC_300_M_NOP{len(Dataset100)}/{lang}\")\n",
    "\n",
    "    for File in Dataset100.loc[Dataset100[\"language\"]==lang, \"filename\"].values:\n",
    "\n",
    "        y, sr = librosa.load(DataPath + File,duration = 8, sr=16000)\n",
    "        # y = librosa.util.fix_length(y, size=8*16000)\n",
    "        \n",
    "        # y, sr = librosa.load(DataPath + File, sr=16000)\n",
    "        \n",
    "        \n",
    "\n",
    "        mfccs = librosa.feature.mfcc(y=y, sr=sr, n_mfcc=8)\n",
    "\n",
    "        img = librosa.display.specshow(mfccs,fmax=sr )\n",
    "        plt.axis(\"off\")\n",
    "        plt.savefig(f\"Images/MFCC_300_M_NOP{len(Dataset100)}/{lang}/{File.split('.')[0]}.jpg\",bbox_inches='tight')\n",
    "        plt.close()\n",
    "        \n",
    "    "
   ]
  },
  {
   "cell_type": "code",
   "execution_count": 12,
   "metadata": {},
   "outputs": [
    {
     "data": {
      "text/plain": [
       "language\n",
       "ar    2064\n",
       "de    1869\n",
       "en    1606\n",
       "es    1594\n",
       "fr    1629\n",
       "it    1619\n",
       "pt    1704\n",
       "Name: language, dtype: int64"
      ]
     },
     "execution_count": 12,
     "metadata": {},
     "output_type": "execute_result"
    }
   ],
   "source": [
    "# Dataset100.groupby(\"language\")[\"language\"].count()"
   ]
  },
  {
   "cell_type": "code",
   "execution_count": 29,
   "metadata": {},
   "outputs": [
    {
     "data": {
      "text/plain": [
       "12088"
      ]
     },
     "execution_count": 29,
     "metadata": {},
     "output_type": "execute_result"
    }
   ],
   "source": [
    "len(Dataset100)"
   ]
  },
  {
   "cell_type": "code",
   "execution_count": null,
   "metadata": {},
   "outputs": [],
   "source": []
  }
 ],
 "metadata": {
  "kernelspec": {
   "display_name": "Python 3.9.12 ('base')",
   "language": "python",
   "name": "python3"
  },
  "language_info": {
   "codemirror_mode": {
    "name": "ipython",
    "version": 3
   },
   "file_extension": ".py",
   "mimetype": "text/x-python",
   "name": "python",
   "nbconvert_exporter": "python",
   "pygments_lexer": "ipython3",
   "version": "3.9.12"
  },
  "orig_nbformat": 4,
  "vscode": {
   "interpreter": {
    "hash": "dbce3ab015948f9d7a38d0a4c6629e1339f6d90306f3d65fd7273a0ce3b29204"
   }
  }
 },
 "nbformat": 4,
 "nbformat_minor": 2
}
