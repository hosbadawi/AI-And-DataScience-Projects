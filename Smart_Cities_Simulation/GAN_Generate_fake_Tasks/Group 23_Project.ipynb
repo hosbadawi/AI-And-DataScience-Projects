{
 "cells": [
  {
   "cell_type": "markdown",
   "metadata": {
    "pycharm": {
     "name": "#%% md\n"
    }
   },
   "source": [
    "Import Important  Libraries\n"
   ]
  },
  {
   "cell_type": "code",
   "execution_count": 7,
   "metadata": {
    "pycharm": {
     "name": "#%%\n"
    }
   },
   "outputs": [],
   "source": [
    "import subprocess\n",
    "import self as self\n",
    "import sns as sns\n",
    "import  tensorflow as tf\n",
    "import numpy as np\n",
    "import matplotlib.pyplot as plt\n",
    "import pandas as pd\n",
    "import seaborn as sns\n",
    "import voting as voting\n",
    "from sklearn.model_selection import train_test_split\n",
    "from sklearn.ensemble import AdaBoostClassifier, RandomForestClassifier, VotingClassifier\n",
    "from sklearn.naive_bayes import GaussianNB\n",
    "from sklearn.metrics import classification_report, accuracy_score, confusion_matrix\n",
    "from imblearn.over_sampling import RandomOverSampler"
   ]
  },
  {
   "cell_type": "code",
   "execution_count": 8,
   "metadata": {
    "pycharm": {
     "name": "#%%\n"
    }
   },
   "outputs": [
    {
     "data": {
      "text/plain": "   ID   Latitude  Longitude  Day  Hour  Minute  Duration  RemainingTime  \\\n0   1  45.442142 -75.303369    1     4      13        40             40   \n1   1  45.442154 -75.304366    1     4      23        40             30   \n2   1  45.442104 -75.303963    1     4      33        40             20   \n3   1  45.441868 -75.303577    1     4      43        40             10   \n4   2  45.447727 -75.147722    2    15      49        30             30   \n\n   Resources  Coverage  OnPeakHours  GridNumber  Ligitimacy  \n0          9        91            0      131380           1  \n1          9        91            0      131380           1  \n2          9        91            0      121996           1  \n3          9        91            0      121996           1  \n4          5        47            0      140784           1  ",
      "text/html": "<div>\n<style scoped>\n    .dataframe tbody tr th:only-of-type {\n        vertical-align: middle;\n    }\n\n    .dataframe tbody tr th {\n        vertical-align: top;\n    }\n\n    .dataframe thead th {\n        text-align: right;\n    }\n</style>\n<table border=\"1\" class=\"dataframe\">\n  <thead>\n    <tr style=\"text-align: right;\">\n      <th></th>\n      <th>ID</th>\n      <th>Latitude</th>\n      <th>Longitude</th>\n      <th>Day</th>\n      <th>Hour</th>\n      <th>Minute</th>\n      <th>Duration</th>\n      <th>RemainingTime</th>\n      <th>Resources</th>\n      <th>Coverage</th>\n      <th>OnPeakHours</th>\n      <th>GridNumber</th>\n      <th>Ligitimacy</th>\n    </tr>\n  </thead>\n  <tbody>\n    <tr>\n      <th>0</th>\n      <td>1</td>\n      <td>45.442142</td>\n      <td>-75.303369</td>\n      <td>1</td>\n      <td>4</td>\n      <td>13</td>\n      <td>40</td>\n      <td>40</td>\n      <td>9</td>\n      <td>91</td>\n      <td>0</td>\n      <td>131380</td>\n      <td>1</td>\n    </tr>\n    <tr>\n      <th>1</th>\n      <td>1</td>\n      <td>45.442154</td>\n      <td>-75.304366</td>\n      <td>1</td>\n      <td>4</td>\n      <td>23</td>\n      <td>40</td>\n      <td>30</td>\n      <td>9</td>\n      <td>91</td>\n      <td>0</td>\n      <td>131380</td>\n      <td>1</td>\n    </tr>\n    <tr>\n      <th>2</th>\n      <td>1</td>\n      <td>45.442104</td>\n      <td>-75.303963</td>\n      <td>1</td>\n      <td>4</td>\n      <td>33</td>\n      <td>40</td>\n      <td>20</td>\n      <td>9</td>\n      <td>91</td>\n      <td>0</td>\n      <td>121996</td>\n      <td>1</td>\n    </tr>\n    <tr>\n      <th>3</th>\n      <td>1</td>\n      <td>45.441868</td>\n      <td>-75.303577</td>\n      <td>1</td>\n      <td>4</td>\n      <td>43</td>\n      <td>40</td>\n      <td>10</td>\n      <td>9</td>\n      <td>91</td>\n      <td>0</td>\n      <td>121996</td>\n      <td>1</td>\n    </tr>\n    <tr>\n      <th>4</th>\n      <td>2</td>\n      <td>45.447727</td>\n      <td>-75.147722</td>\n      <td>2</td>\n      <td>15</td>\n      <td>49</td>\n      <td>30</td>\n      <td>30</td>\n      <td>5</td>\n      <td>47</td>\n      <td>0</td>\n      <td>140784</td>\n      <td>1</td>\n    </tr>\n  </tbody>\n</table>\n</div>"
     },
     "execution_count": 8,
     "metadata": {},
     "output_type": "execute_result"
    }
   ],
   "source": [
    "df = pd.read_csv (r'D:\\uottawa\\smart cities\\final project\\MCSDatasetNEXTCONLab.csv')\n",
    "df.head()"
   ]
  },
  {
   "cell_type": "code",
   "execution_count": 9,
   "metadata": {
    "pycharm": {
     "name": "#%%\n"
    }
   },
   "outputs": [],
   "source": [
    "x = df.iloc[:, 0:12]\n",
    "y = df.iloc[:, 12]"
   ]
  },
  {
   "cell_type": "code",
   "execution_count": 10,
   "metadata": {
    "pycharm": {
     "name": "#%%\n"
    }
   },
   "outputs": [],
   "source": [
    "x_train, x_test, y_train, y_test = train_test_split(\n",
    "    x, y, test_size=0.2, random_state=42)"
   ]
  },
  {
   "cell_type": "code",
   "execution_count": 11,
   "metadata": {
    "pycharm": {
     "name": "#%%\n"
    }
   },
   "outputs": [],
   "source": [
    "from sklearn.preprocessing import MinMaxScaler\n",
    "scaler = MinMaxScaler(feature_range=(-1, 1))\n",
    "x_train = scaler.fit_transform(x_train)\n",
    "x_test = scaler.transform(x_test)"
   ]
  },
  {
   "cell_type": "markdown",
   "metadata": {
    "pycharm": {
     "name": "#%% md\n"
    }
   },
   "source": []
  },
  {
   "cell_type": "code",
   "execution_count": 88,
   "metadata": {
    "pycharm": {
     "name": "#%%\n"
    }
   },
   "outputs": [],
   "source": [
    "##Implement  classic classifier Adaboot and RD"
   ]
  },
  {
   "cell_type": "code",
   "execution_count": 12,
   "metadata": {
    "pycharm": {
     "name": "#%%\n"
    }
   },
   "outputs": [],
   "source": [
    "def models(model, x, y):\n",
    "    x_train, x_test, y_train, y_test = train_test_split(x, y, test_size=0.2, random_state=42)\n",
    "    model = model.fit(x_train, y_train)\n",
    "    y_train_pred = model.predict(x_train)\n",
    "    y_test_pred = model.predict(x_test)\n",
    "    accuracy_train = accuracy_score(y_train, y_train_pred)\n",
    "    accuracy_test = accuracy_score(y_test, y_test_pred)\n",
    "    report_test = classification_report(y_test, y_test_pred)\n",
    "    return (model, y_train_pred, y_test_pred, accuracy_train, accuracy_test, report_test)"
   ]
  },
  {
   "cell_type": "code",
   "execution_count": 13,
   "metadata": {
    "pycharm": {
     "name": "#%%\n"
    }
   },
   "outputs": [],
   "source": [
    "RF, AB = RandomForestClassifier(), AdaBoostClassifier()\n",
    "#Rf\n",
    "model_RF, y_train_pred_RF, y_test_pred_RF, accuracy_train_RF, accuracy_test_RF, report_RF = models(RF, x, y)\n",
    "#AB\n",
    "model_AB, y_train_pred_AB, y_test_pred_AB, accuracy_train_AB, accuracy_test_AB, report_AB = models(AB, x, y)"
   ]
  },
  {
   "cell_type": "code",
   "execution_count": 14,
   "metadata": {
    "pycharm": {
     "name": "#%%\n"
    }
   },
   "outputs": [
    {
     "name": "stdout",
     "output_type": "stream",
     "text": [
      "              precision    recall  f1-score   support\n",
      "\n",
      "           0       1.00      0.97      0.98       354\n",
      "           1       1.00      1.00      1.00      2543\n",
      "\n",
      "    accuracy                           1.00      2897\n",
      "   macro avg       1.00      0.98      0.99      2897\n",
      "weighted avg       1.00      1.00      1.00      2897\n",
      "\n"
     ]
    }
   ],
   "source": [
    "print(report_RF)"
   ]
  },
  {
   "cell_type": "code",
   "execution_count": 15,
   "outputs": [
    {
     "data": {
      "text/plain": "0.9958577839143942"
     },
     "execution_count": 15,
     "metadata": {},
     "output_type": "execute_result"
    }
   ],
   "source": [
    "accuracy_test_RF"
   ],
   "metadata": {
    "collapsed": false,
    "pycharm": {
     "name": "#%%\n"
    }
   }
  },
  {
   "cell_type": "code",
   "execution_count": 16,
   "metadata": {
    "pycharm": {
     "name": "#%%\n"
    }
   },
   "outputs": [
    {
     "name": "stdout",
     "output_type": "stream",
     "text": [
      "              precision    recall  f1-score   support\n",
      "\n",
      "           0       0.87      0.74      0.80       354\n",
      "           1       0.96      0.98      0.97      2543\n",
      "\n",
      "    accuracy                           0.95      2897\n",
      "   macro avg       0.92      0.86      0.89      2897\n",
      "weighted avg       0.95      0.95      0.95      2897\n",
      "\n"
     ]
    }
   ],
   "source": [
    "print(report_AB)"
   ]
  },
  {
   "cell_type": "code",
   "execution_count": 17,
   "outputs": [
    {
     "data": {
      "text/plain": "0.9540904383845358"
     },
     "execution_count": 17,
     "metadata": {},
     "output_type": "execute_result"
    }
   ],
   "source": [
    "accuracy_test_AB"
   ],
   "metadata": {
    "collapsed": false,
    "pycharm": {
     "name": "#%%\n"
    }
   }
  },
  {
   "cell_type": "markdown",
   "metadata": {
    "pycharm": {
     "name": "#%% md\n"
    }
   },
   "source": [
    "## Bar Chart for RF and AB"
   ]
  },
  {
   "cell_type": "code",
   "execution_count": 93,
   "metadata": {
    "pycharm": {
     "name": "#%%\n"
    }
   },
   "outputs": [],
   "source": [
    "from sklearn.ensemble import VotingClassifier"
   ]
  },
  {
   "cell_type": "code",
   "execution_count": 18,
   "metadata": {
    "pycharm": {
     "name": "#%%\n"
    }
   },
   "outputs": [],
   "source": [
    "df_2 = pd.DataFrame({'Model':['Random Forest', 'AdaBoost'],\n",
    "'Accuracy on Training Data':[accuracy_train_RF, accuracy_train_AB,\n",
    "                             ],\n",
    "'Accuracy on Testing Data':[accuracy_test_RF, accuracy_test_AB,\n",
    "                            ] ,\n",
    "})"
   ]
  },
  {
   "cell_type": "code",
   "execution_count": 19,
   "metadata": {
    "pycharm": {
     "name": "#%%\n"
    }
   },
   "outputs": [],
   "source": [
    "import seaborn as sns"
   ]
  },
  {
   "cell_type": "code",
   "execution_count": 20,
   "metadata": {
    "pycharm": {
     "name": "#%%\n"
    }
   },
   "outputs": [
    {
     "data": {
      "text/plain": "(0.0, 1.0)"
     },
     "execution_count": 20,
     "metadata": {},
     "output_type": "execute_result"
    },
    {
     "data": {
      "text/plain": "<Figure size 432x288 with 1 Axes>",
      "image/png": "[encoded data removed]"
     },
     "metadata": {
      "needs_background": "light"
     },
     "output_type": "display_data"
    }
   ],
   "source": [
    "#for testing data\n",
    "bar_plot_test = sns.barplot(data = df_2, x = 'Model', y = 'Accuracy on Testing Data')\n",
    "bar_plot_test.set_ylim(0, 1)\n"
   ]
  },
  {
   "cell_type": "markdown",
   "source": [
    "Constants and hyperparameters"
   ],
   "metadata": {
    "collapsed": false,
    "pycharm": {
     "name": "#%% md\n"
    }
   }
  },
  {
   "cell_type": "code",
   "execution_count": 22,
   "metadata": {
    "pycharm": {
     "name": "#%%\n"
    }
   },
   "outputs": [],
   "source": [
    "batch_size = 128\n",
    "num_classes =2\n",
    "latent_dim = 128\n"
   ]
  },
  {
   "cell_type": "code",
   "execution_count": 23,
   "outputs": [],
   "source": [
    "from tensorflow import keras\n",
    "from keras import layers\n",
    "import tensorflow as tf"
   ],
   "metadata": {
    "collapsed": false,
    "pycharm": {
     "name": "#%%\n"
    }
   }
  },
  {
   "cell_type": "code",
   "execution_count": 24,
   "outputs": [
    {
     "name": "stdout",
     "output_type": "stream",
     "text": [
      "Shape of training Tasks: (11587, 12)\n",
      "Shape of training labels: (11587, 2)\n"
     ]
    }
   ],
   "source": [
    "\n",
    "all_labels = keras.utils.to_categorical(y_train,2)\n",
    "x_train=x_train.astype(np.float32)\n",
    "# Create tf.data.Dataset.\n",
    "dataset = tf.data.Dataset.from_tensor_slices((x_train, all_labels))\n",
    "dataset = dataset.shuffle(buffer_size=1024).batch(batch_size)\n",
    "\n",
    "print(f\"Shape of training Tasks: {x_train.shape}\")\n",
    "print(f\"Shape of training labels: {all_labels.shape}\")"
   ],
   "metadata": {
    "collapsed": false,
    "pycharm": {
     "name": "#%%\n"
    }
   }
  },
  {
   "cell_type": "markdown",
   "source": [
    "Calculating the number of input channel for the generator and discriminator"
   ],
   "metadata": {
    "collapsed": false,
    "pycharm": {
     "name": "#%% md\n"
    }
   }
  },
  {
   "cell_type": "code",
   "execution_count": 25,
   "outputs": [
    {
     "name": "stdout",
     "output_type": "stream",
     "text": [
      "130 14\n"
     ]
    }
   ],
   "source": [
    "generator_in_channels = latent_dim + num_classes\n",
    "discriminator_in_channels = 12 + num_classes\n",
    "print(generator_in_channels, discriminator_in_channels)"
   ],
   "metadata": {
    "collapsed": false,
    "pycharm": {
     "name": "#%%\n"
    }
   }
  },
  {
   "cell_type": "markdown",
   "source": [
    "Create Discriminator"
   ],
   "metadata": {
    "collapsed": false,
    "pycharm": {
     "name": "#%% md\n"
    }
   }
  },
  {
   "cell_type": "code",
   "execution_count": 26,
   "outputs": [
    {
     "name": "stdout",
     "output_type": "stream",
     "text": [
      "Model: \"discriminator\"\n",
      "_________________________________________________________________\n",
      " Layer (type)                Output Shape              Param #   \n",
      "=================================================================\n",
      " conv1d (Conv1D)             (None, 7, 64)             256       \n",
      "                                                                 \n",
      " leaky_re_lu (LeakyReLU)     (None, 7, 64)             0         \n",
      "                                                                 \n",
      " conv1d_1 (Conv1D)           (None, 4, 128)            24704     \n",
      "                                                                 \n",
      " leaky_re_lu_1 (LeakyReLU)   (None, 4, 128)            0         \n",
      "                                                                 \n",
      " global_max_pooling1d (Globa  (None, 128)              0         \n",
      " lMaxPooling1D)                                                  \n",
      "                                                                 \n",
      " dense (Dense)               (None, 1)                 129       \n",
      "                                                                 \n",
      "=================================================================\n",
      "Total params: 25,089\n",
      "Trainable params: 25,089\n",
      "Non-trainable params: 0\n",
      "_________________________________________________________________\n"
     ]
    }
   ],
   "source": [
    "discriminator = keras.Sequential(\n",
    "    [\n",
    "        keras.layers.Input(shape=(discriminator_in_channels,1)),\n",
    "        layers.Conv1D(64, 3, strides=2, padding=\"same\",),\n",
    "        layers.LeakyReLU(alpha=0.2),\n",
    "        layers.Conv1D(128, 3, strides=2, padding=\"same\"),\n",
    "        layers.LeakyReLU(alpha=0.2),\n",
    "        layers.GlobalMaxPooling1D(),\n",
    "        layers.Dense(1,activation='sigmoid'),\n",
    "    ],\n",
    "    name=\"discriminator\",\n",
    ")\n",
    "discriminator.summary()"
   ],
   "metadata": {
    "collapsed": false,
    "pycharm": {
     "name": "#%%\n"
    }
   }
  },
  {
   "cell_type": "markdown",
   "source": [
    "Create Generator"
   ],
   "metadata": {
    "collapsed": false,
    "pycharm": {
     "name": "#%% md\n"
    }
   }
  },
  {
   "cell_type": "code",
   "execution_count": 27,
   "outputs": [
    {
     "name": "stdout",
     "output_type": "stream",
     "text": [
      "Model: \"generator\"\n",
      "_________________________________________________________________\n",
      " Layer (type)                Output Shape              Param #   \n",
      "=================================================================\n",
      " dense_1 (Dense)             (None, 256)               33536     \n",
      "                                                                 \n",
      " leaky_re_lu_2 (LeakyReLU)   (None, 256)               0         \n",
      "                                                                 \n",
      " dense_2 (Dense)             (None, 128)               32896     \n",
      "                                                                 \n",
      " leaky_re_lu_3 (LeakyReLU)   (None, 128)               0         \n",
      "                                                                 \n",
      " dense_3 (Dense)             (None, 128)               16512     \n",
      "                                                                 \n",
      " leaky_re_lu_4 (LeakyReLU)   (None, 128)               0         \n",
      "                                                                 \n",
      " dense_4 (Dense)             (None, 12)                1548      \n",
      "                                                                 \n",
      "=================================================================\n",
      "Total params: 84,492\n",
      "Trainable params: 84,492\n",
      "Non-trainable params: 0\n",
      "_________________________________________________________________\n"
     ]
    }
   ],
   "source": [
    "generator = keras.Sequential(\n",
    "    [\n",
    "        keras.layers.InputLayer((generator_in_channels,)),\n",
    "        layers.Dense(256),\n",
    "        layers.LeakyReLU(alpha=0.2),\n",
    "        layers.Dense(128),\n",
    "        layers.LeakyReLU(alpha=0.2),\n",
    "        layers.Dense(128,),\n",
    "        layers.LeakyReLU(alpha=0.2),\n",
    "        layers.Dense(12,),\n",
    "    ],\n",
    "    name=\"generator\",\n",
    ")\n",
    "generator.summary()"
   ],
   "metadata": {
    "collapsed": false,
    "pycharm": {
     "name": "#%%\n"
    }
   }
  },
  {
   "cell_type": "markdown",
   "source": [
    "CGAN Model"
   ],
   "metadata": {
    "collapsed": false,
    "pycharm": {
     "name": "#%% md\n"
    }
   }
  },
  {
   "cell_type": "code",
   "execution_count": 28,
   "outputs": [
    {
     "name": "stdout",
     "output_type": "stream",
     "text": [
      "Epoch 1/20\n",
      "91/91 [==============================] - 3s 7ms/step - g_loss: 0.6856 - d_loss: 0.7140\n",
      "Epoch 2/20\n",
      "91/91 [==============================] - 1s 7ms/step - g_loss: 1.3587 - d_loss: 0.6018\n",
      "Epoch 3/20\n",
      "91/91 [==============================] - 1s 7ms/step - g_loss: 0.7307 - d_loss: 0.7155\n",
      "Epoch 4/20\n",
      "91/91 [==============================] - 1s 7ms/step - g_loss: 0.6387 - d_loss: 0.7181\n",
      "Epoch 5/20\n",
      "91/91 [==============================] - 1s 7ms/step - g_loss: 0.6570 - d_loss: 0.7017\n",
      "Epoch 6/20\n",
      "91/91 [==============================] - 1s 7ms/step - g_loss: 0.7005 - d_loss: 0.6785\n",
      "Epoch 7/20\n",
      "91/91 [==============================] - 1s 7ms/step - g_loss: 0.7003 - d_loss: 0.6905\n",
      "Epoch 8/20\n",
      "91/91 [==============================] - 1s 7ms/step - g_loss: 0.7260 - d_loss: 0.6935\n",
      "Epoch 9/20\n",
      "91/91 [==============================] - 1s 7ms/step - g_loss: 0.7219 - d_loss: 0.6866\n",
      "Epoch 10/20\n",
      "91/91 [==============================] - 1s 7ms/step - g_loss: 0.6796 - d_loss: 0.6844\n",
      "Epoch 11/20\n",
      "91/91 [==============================] - 1s 7ms/step - g_loss: 0.7134 - d_loss: 0.6855\n",
      "Epoch 12/20\n",
      "91/91 [==============================] - 1s 7ms/step - g_loss: 0.7139 - d_loss: 0.7057\n",
      "Epoch 13/20\n",
      "91/91 [==============================] - 1s 7ms/step - g_loss: 0.6870 - d_loss: 0.6953\n",
      "Epoch 14/20\n",
      "91/91 [==============================] - 1s 7ms/step - g_loss: 0.7040 - d_loss: 0.6679\n",
      "Epoch 15/20\n",
      "91/91 [==============================] - 1s 7ms/step - g_loss: 0.7123 - d_loss: 0.7084\n",
      "Epoch 16/20\n",
      "91/91 [==============================] - 1s 7ms/step - g_loss: 0.6663 - d_loss: 0.6967\n",
      "Epoch 17/20\n",
      "91/91 [==============================] - 1s 7ms/step - g_loss: 0.7391 - d_loss: 0.6898\n",
      "Epoch 18/20\n",
      "91/91 [==============================] - 1s 7ms/step - g_loss: 0.6981 - d_loss: 0.6944\n",
      "Epoch 19/20\n",
      "91/91 [==============================] - 1s 7ms/step - g_loss: 0.6997 - d_loss: 0.6815\n",
      "Epoch 20/20\n",
      "91/91 [==============================] - 1s 7ms/step - g_loss: 0.7133 - d_loss: 0.6847\n"
     ]
    },
    {
     "data": {
      "text/plain": "<keras.callbacks.History at 0x1cb55e0ba90>"
     },
     "execution_count": 28,
     "metadata": {},
     "output_type": "execute_result"
    }
   ],
   "source": [
    "class ConditionalGAN(keras.Model):\n",
    "    def __init__(self, discriminator,generator, latent_dim):\n",
    "        super(ConditionalGAN, self).__init__()\n",
    "        self.discriminator = discriminator\n",
    "        self.generator = generator\n",
    "        self.latent_dim = latent_dim\n",
    "        self.gen_loss_tracker = keras.metrics.Mean(name=\"generator_loss\")\n",
    "        self.disc_loss_tracker = keras.metrics.Mean(name=\"discriminator_loss\")\n",
    "\n",
    "    @property\n",
    "    def metrics(self):\n",
    "        return [self.gen_loss_tracker, self.disc_loss_tracker]\n",
    "\n",
    "    def compile(self, d_optimizer, g_optimizer, loss_fn):\n",
    "        super(ConditionalGAN, self).compile()\n",
    "        self.d_optimizer = d_optimizer\n",
    "        self.g_optimizer = g_optimizer\n",
    "        self.loss_fn = loss_fn\n",
    "\n",
    "    def train_step(self, data):\n",
    "        # Unpack the data.\n",
    "        real_Tasks, one_hot_labels = data\n",
    "\n",
    "\n",
    "\n",
    "        # Sample random points in the latent space and concatenate the labels.\n",
    "        # This is for the generator.\n",
    "        batch_size = tf.shape(real_Tasks)[0]\n",
    "        random_latent_vectors = tf.random.normal(shape=(batch_size, self.latent_dim))\n",
    "        random_vector_labels = tf.concat(\n",
    "            [random_latent_vectors, one_hot_labels], axis=1\n",
    "        )\n",
    "\n",
    "        # Decode the noise (guided by labels) to fake Tasks.\n",
    "        generated_Tasks = self.generator(random_vector_labels)\n",
    "\n",
    "        # Combine them with real TASKS . Note that we are concatenating the labels\n",
    "        # with these tasks here.\n",
    "        fake_tasks_and_labels = tf.concat([generated_Tasks, one_hot_labels],axis=1)\n",
    "        real_task_with_labels=tf.concat([real_Tasks,one_hot_labels],axis=1)\n",
    "\n",
    "        combined_tasks = tf.concat(\n",
    "            [fake_tasks_and_labels, real_task_with_labels], axis=0\n",
    "        )\n",
    "\n",
    "        # Assemble labels discriminating real from fake tasks.\n",
    "        labels = tf.concat(\n",
    "            [tf.zeros((batch_size, 1)), tf.ones((batch_size, 1))], axis=0\n",
    "        )\n",
    "\n",
    "        # Train the discriminator.\n",
    "        with tf.GradientTape() as tape:\n",
    "            predictions = self.discriminator(combined_tasks)\n",
    "            d_loss = self.loss_fn(labels, predictions)\n",
    "        grads = tape.gradient(d_loss, self.discriminator.trainable_weights)\n",
    "        self.d_optimizer.apply_gradients(\n",
    "            zip(grads, self.discriminator.trainable_weights)\n",
    "        )\n",
    "\n",
    "        # Sample random points in the latent space.\n",
    "        random_latent_vectors = tf.random.normal(shape=(batch_size, self.latent_dim))\n",
    "        random_vector_labels = tf.concat(\n",
    "            [random_latent_vectors, one_hot_labels], axis=1\n",
    "        )\n",
    "\n",
    "        # Assemble labels that say \"all real images\".\n",
    "        misleading_labels = tf.ones((batch_size, 1))\n",
    "\n",
    "        # Train the generator (note that we should *not* update the weights\n",
    "        # of the discriminator)!\n",
    "        with tf.GradientTape() as tape:\n",
    "            fake_tasks = self.generator(random_vector_labels)\n",
    "            fake_tasks_and_labels = tf.concat([fake_tasks, one_hot_labels], -1)\n",
    "            predictions = self.discriminator(fake_tasks_and_labels)\n",
    "            g_loss = self.loss_fn(misleading_labels, predictions)\n",
    "        grads = tape.gradient(g_loss, self.generator.trainable_weights)\n",
    "        self.g_optimizer.apply_gradients(zip(grads, self.generator.trainable_weights))\n",
    "\n",
    "        # Monitor loss.\n",
    "        self.gen_loss_tracker.update_state(g_loss)\n",
    "        self.disc_loss_tracker.update_state(d_loss)\n",
    "        return {\n",
    "            \"g_loss\": self.gen_loss_tracker.result(),\n",
    "            \"d_loss\": self.disc_loss_tracker.result(),\n",
    "        }\n",
    "cond_gan = ConditionalGAN(\n",
    "    discriminator=discriminator, generator=generator, latent_dim=latent_dim\n",
    ")\n",
    "cond_gan.compile(\n",
    "    d_optimizer=keras.optimizers.Adam(learning_rate=0.0003),\n",
    "    g_optimizer=keras.optimizers.Adam(learning_rate=0.0003),\n",
    "    loss_fn=keras.losses.BinaryCrossentropy(),\n",
    ")\n",
    "\n",
    "cond_gan.fit(dataset, epochs=20)"
   ],
   "metadata": {
    "collapsed": false,
    "pycharm": {
     "name": "#%%\n"
    }
   }
  },
  {
   "cell_type": "code",
   "execution_count": 29,
   "outputs": [
    {
     "name": "stdout",
     "output_type": "stream",
     "text": [
      "32/32 [==============================] - 0s 1ms/step\n"
     ]
    },
    {
     "data": {
      "text/plain": "              ID   Latitude  Longitude       Day       Hour     Minute  \\\n0    2164.191406  45.525280 -75.250420  3.234113  18.733908  50.271618   \n1    2654.715088  45.537876 -75.252861  3.193758  17.586891  52.816406   \n2    2793.319336  45.535858 -75.268608  3.711390  18.019270  55.651287   \n3    2447.290527  45.540722 -75.238930  3.147765  16.152683  48.160370   \n4    2616.924805  45.517120 -75.252983  3.229619  16.571630  48.567574   \n..           ...        ...        ...       ...        ...        ...   \n995  2911.718506  45.538204 -75.299927  3.202884  18.344418  50.038589   \n996  2764.692871  45.559906 -75.267921  3.102384  19.564892  55.206802   \n997  2550.270508  45.557354 -75.249130  3.172266  18.796974  52.730751   \n998  2510.116699  45.521545 -75.302826  3.221419  16.367828  50.451279   \n999  2575.687988  45.577679 -75.281128  3.347672  19.825811  56.224461   \n\n      Duration  RemainingTime  Resources   Coverage  OnPeakHours  \\\n0    33.131824      37.222622   9.351373  65.270920     0.065401   \n1    31.906689      37.692921   9.807094  55.841099     0.035596   \n2    35.540157      42.264355   9.724212  67.410965     0.011787   \n3    38.465481      44.436760   9.722855  63.353432     0.207019   \n4    38.402740      44.091831   9.684939  57.219501     0.086321   \n..         ...            ...        ...        ...          ...   \n995  36.223682      41.391911  11.232533  56.283077    -0.140102   \n996  29.392933      41.252239  10.644953  50.007210    -0.176534   \n997  35.779236      39.912083  11.910395  51.306702     0.006625   \n998  36.394600      48.959949  11.149899  49.521553    -0.040699   \n999  36.419006      41.402393  10.801638  55.103027    -0.129262   \n\n        GridNumber  \n0    196024.218750  \n1    183793.390625  \n2    189091.484375  \n3    203018.296875  \n4    200958.437500  \n..             ...  \n995  220041.046875  \n996  219416.609375  \n997  217897.140625  \n998  188033.609375  \n999  214103.500000  \n\n[1000 rows x 12 columns]",
      "text/html": "<div>\n<style scoped>\n    .dataframe tbody tr th:only-of-type {\n        vertical-align: middle;\n    }\n\n    .dataframe tbody tr th {\n        vertical-align: top;\n    }\n\n    .dataframe thead th {\n        text-align: right;\n    }\n</style>\n<table border=\"1\" class=\"dataframe\">\n  <thead>\n    <tr style=\"text-align: right;\">\n      <th></th>\n      <th>ID</th>\n      <th>Latitude</th>\n      <th>Longitude</th>\n      <th>Day</th>\n      <th>Hour</th>\n      <th>Minute</th>\n      <th>Duration</th>\n      <th>RemainingTime</th>\n      <th>Resources</th>\n      <th>Coverage</th>\n      <th>OnPeakHours</th>\n      <th>GridNumber</th>\n    </tr>\n  </thead>\n  <tbody>\n    <tr>\n      <th>0</th>\n      <td>2164.191406</td>\n      <td>45.525280</td>\n      <td>-75.250420</td>\n      <td>3.234113</td>\n      <td>18.733908</td>\n      <td>50.271618</td>\n      <td>33.131824</td>\n      <td>37.222622</td>\n      <td>9.351373</td>\n      <td>65.270920</td>\n      <td>0.065401</td>\n      <td>196024.218750</td>\n    </tr>\n    <tr>\n      <th>1</th>\n      <td>2654.715088</td>\n      <td>45.537876</td>\n      <td>-75.252861</td>\n      <td>3.193758</td>\n      <td>17.586891</td>\n      <td>52.816406</td>\n      <td>31.906689</td>\n      <td>37.692921</td>\n      <td>9.807094</td>\n      <td>55.841099</td>\n      <td>0.035596</td>\n      <td>183793.390625</td>\n    </tr>\n    <tr>\n      <th>2</th>\n      <td>2793.319336</td>\n      <td>45.535858</td>\n      <td>-75.268608</td>\n      <td>3.711390</td>\n      <td>18.019270</td>\n      <td>55.651287</td>\n      <td>35.540157</td>\n      <td>42.264355</td>\n      <td>9.724212</td>\n      <td>67.410965</td>\n      <td>0.011787</td>\n      <td>189091.484375</td>\n    </tr>\n    <tr>\n      <th>3</th>\n      <td>2447.290527</td>\n      <td>45.540722</td>\n      <td>-75.238930</td>\n      <td>3.147765</td>\n      <td>16.152683</td>\n      <td>48.160370</td>\n      <td>38.465481</td>\n      <td>44.436760</td>\n      <td>9.722855</td>\n      <td>63.353432</td>\n      <td>0.207019</td>\n      <td>203018.296875</td>\n    </tr>\n    <tr>\n      <th>4</th>\n      <td>2616.924805</td>\n      <td>45.517120</td>\n      <td>-75.252983</td>\n      <td>3.229619</td>\n      <td>16.571630</td>\n      <td>48.567574</td>\n      <td>38.402740</td>\n      <td>44.091831</td>\n      <td>9.684939</td>\n      <td>57.219501</td>\n      <td>0.086321</td>\n      <td>200958.437500</td>\n    </tr>\n    <tr>\n      <th>...</th>\n      <td>...</td>\n      <td>...</td>\n      <td>...</td>\n      <td>...</td>\n      <td>...</td>\n      <td>...</td>\n      <td>...</td>\n      <td>...</td>\n      <td>...</td>\n      <td>...</td>\n      <td>...</td>\n      <td>...</td>\n    </tr>\n    <tr>\n      <th>995</th>\n      <td>2911.718506</td>\n      <td>45.538204</td>\n      <td>-75.299927</td>\n      <td>3.202884</td>\n      <td>18.344418</td>\n      <td>50.038589</td>\n      <td>36.223682</td>\n      <td>41.391911</td>\n      <td>11.232533</td>\n      <td>56.283077</td>\n      <td>-0.140102</td>\n      <td>220041.046875</td>\n    </tr>\n    <tr>\n      <th>996</th>\n      <td>2764.692871</td>\n      <td>45.559906</td>\n      <td>-75.267921</td>\n      <td>3.102384</td>\n      <td>19.564892</td>\n      <td>55.206802</td>\n      <td>29.392933</td>\n      <td>41.252239</td>\n      <td>10.644953</td>\n      <td>50.007210</td>\n      <td>-0.176534</td>\n      <td>219416.609375</td>\n    </tr>\n    <tr>\n      <th>997</th>\n      <td>2550.270508</td>\n      <td>45.557354</td>\n      <td>-75.249130</td>\n      <td>3.172266</td>\n      <td>18.796974</td>\n      <td>52.730751</td>\n      <td>35.779236</td>\n      <td>39.912083</td>\n      <td>11.910395</td>\n      <td>51.306702</td>\n      <td>0.006625</td>\n      <td>217897.140625</td>\n    </tr>\n    <tr>\n      <th>998</th>\n      <td>2510.116699</td>\n      <td>45.521545</td>\n      <td>-75.302826</td>\n      <td>3.221419</td>\n      <td>16.367828</td>\n      <td>50.451279</td>\n      <td>36.394600</td>\n      <td>48.959949</td>\n      <td>11.149899</td>\n      <td>49.521553</td>\n      <td>-0.040699</td>\n      <td>188033.609375</td>\n    </tr>\n    <tr>\n      <th>999</th>\n      <td>2575.687988</td>\n      <td>45.577679</td>\n      <td>-75.281128</td>\n      <td>3.347672</td>\n      <td>19.825811</td>\n      <td>56.224461</td>\n      <td>36.419006</td>\n      <td>41.402393</td>\n      <td>10.801638</td>\n      <td>55.103027</td>\n      <td>-0.129262</td>\n      <td>214103.500000</td>\n    </tr>\n  </tbody>\n</table>\n<p>1000 rows × 12 columns</p>\n</div>"
     },
     "execution_count": 29,
     "metadata": {},
     "output_type": "execute_result"
    }
   ],
   "source": [
    "#We first extract the trained generator from our Conditiona GAN.\n",
    "trained_gen = cond_gan.generator\n",
    "\n",
    "# Choose the number of intermediate Tasks that would be generated in\n",
    "# between the interpolation + 2 (start and last TASKS).\n",
    "num_tasks = 1000  # @param {type:\"integer\"}\n",
    "\n",
    "# Sample noise for the interpolation.\n",
    "noise = tf.random.normal(shape=(num_tasks, latent_dim))\n",
    "noise_with_label=tf.concat([noise,keras.utils.to_categorical([0]*num_tasks,2)],1)\n",
    "\n",
    "fake_tasks=trained_gen.predict(noise_with_label)\n",
    "fake_tasks=pd.DataFrame(scaler.inverse_transform(fake_tasks),columns=df.columns[0:12])\n",
    "fake_tasks"
   ],
   "metadata": {
    "collapsed": false,
    "pycharm": {
     "name": "#%%\n"
    }
   }
  },
  {
   "cell_type": "markdown",
   "source": [
    "Step 10 using mixed data set"
   ],
   "metadata": {
    "collapsed": false,
    "pycharm": {
     "name": "#%% md\n"
    }
   }
  },
  {
   "cell_type": "markdown",
   "source": [
    "New dataset with fake tasks"
   ],
   "metadata": {
    "collapsed": false,
    "pycharm": {
     "name": "#%% md\n"
    }
   }
  },
  {
   "cell_type": "markdown",
   "source": [
    "Without Discriminator"
   ],
   "metadata": {
    "collapsed": false,
    "pycharm": {
     "name": "#%% md\n"
    }
   }
  },
  {
   "cell_type": "code",
   "execution_count": 30,
   "outputs": [
    {
     "data": {
      "text/plain": "array([[ 2.16419141e+03,  4.55252800e+01, -7.52504196e+01, ...,\n         6.52709198e+01,  6.54008389e-02,  1.96024219e+05],\n       [ 2.65471509e+03,  4.55378761e+01, -7.52528610e+01, ...,\n         5.58410988e+01,  3.55958343e-02,  1.83793391e+05],\n       [ 2.79331934e+03,  4.55358582e+01, -7.52686081e+01, ...,\n         6.74109650e+01,  1.17872655e-02,  1.89091484e+05],\n       ...,\n       [-9.77744436e-02,  7.10110181e-01, -5.07246183e-01, ...,\n        -1.71428571e-01, -1.00000000e+00,  7.07218435e-01],\n       [-4.60365091e-01, -9.47784415e-01, -2.26452261e-01, ...,\n        -2.85714286e-02, -1.00000000e+00, -9.51267183e-01],\n       [-5.81395349e-01, -8.04883341e-01, -2.39396997e-01, ...,\n         7.71428571e-01, -1.00000000e+00, -8.04928382e-01]])"
     },
     "execution_count": 30,
     "metadata": {},
     "output_type": "execute_result"
    }
   ],
   "source": [
    "New_x_Test = np.concatenate((fake_tasks,x_test) , axis = 0)\n",
    "New_y_Test =  np.concatenate((y_test.values,np.zeros(num_tasks)), axis = 0).astype(\"int\")\n",
    "New_x_Test"
   ],
   "metadata": {
    "collapsed": false,
    "pycharm": {
     "name": "#%%\n"
    }
   }
  },
  {
   "cell_type": "code",
   "execution_count": 31,
   "outputs": [],
   "source": [
    "def models(model, x, y):\n",
    "    y_test_pred_mix = model.predict(x)\n",
    "    accuracy_test = accuracy_score(y, y_test_pred_mix)\n",
    "    report_test = classification_report(y,y_test_pred_mix)\n",
    "    return y_test_pred_mix, accuracy_test, report_test"
   ],
   "metadata": {
    "collapsed": false,
    "pycharm": {
     "name": "#%%\n"
    }
   }
  },
  {
   "cell_type": "code",
   "execution_count": 32,
   "outputs": [
    {
     "name": "stderr",
     "output_type": "stream",
     "text": [
      "C:\\Users\\nadai\\AppData\\Local\\Programs\\Python\\Python39\\lib\\site-packages\\sklearn\\base.py:450: UserWarning: X does not have valid feature names, but RandomForestClassifier was fitted with feature names\n",
      "  warnings.warn(\n",
      "C:\\Users\\nadai\\AppData\\Local\\Programs\\Python\\Python39\\lib\\site-packages\\sklearn\\metrics\\_classification.py:1327: UndefinedMetricWarning: Precision and F-score are ill-defined and being set to 0.0 in labels with no predicted samples. Use `zero_division` parameter to control this behavior.\n",
      "  _warn_prf(average, modifier, msg_start, len(result))\n",
      "C:\\Users\\nadai\\AppData\\Local\\Programs\\Python\\Python39\\lib\\site-packages\\sklearn\\metrics\\_classification.py:1327: UndefinedMetricWarning: Precision and F-score are ill-defined and being set to 0.0 in labels with no predicted samples. Use `zero_division` parameter to control this behavior.\n",
      "  _warn_prf(average, modifier, msg_start, len(result))\n",
      "C:\\Users\\nadai\\AppData\\Local\\Programs\\Python\\Python39\\lib\\site-packages\\sklearn\\metrics\\_classification.py:1327: UndefinedMetricWarning: Precision and F-score are ill-defined and being set to 0.0 in labels with no predicted samples. Use `zero_division` parameter to control this behavior.\n",
      "  _warn_prf(average, modifier, msg_start, len(result))\n",
      "C:\\Users\\nadai\\AppData\\Local\\Programs\\Python\\Python39\\lib\\site-packages\\sklearn\\base.py:450: UserWarning: X does not have valid feature names, but AdaBoostClassifier was fitted with feature names\n",
      "  warnings.warn(\n"
     ]
    }
   ],
   "source": [
    "\n",
    "#Rf\n",
    "y_test_pred_RF_mix, accuracy_test_RF_mix, report_RF_mix = models(model_RF, New_x_Test, New_y_Test)\n",
    "#AB\n",
    "y_test_pred_AB_mix, accuracy_test_AB_mix, report_AB_mix = models(model_AB,New_x_Test, New_y_Test)"
   ],
   "metadata": {
    "collapsed": false,
    "pycharm": {
     "name": "#%%\n"
    }
   }
  },
  {
   "cell_type": "code",
   "execution_count": 33,
   "outputs": [
    {
     "name": "stdout",
     "output_type": "stream",
     "text": [
      "              precision    recall  f1-score   support\n",
      "\n",
      "           0       0.00      0.00      0.00      1354\n",
      "           1       0.65      1.00      0.79      2543\n",
      "\n",
      "    accuracy                           0.65      3897\n",
      "   macro avg       0.33      0.50      0.39      3897\n",
      "weighted avg       0.43      0.65      0.52      3897\n",
      "\n"
     ]
    }
   ],
   "source": [
    "print(report_RF_mix)"
   ],
   "metadata": {
    "collapsed": false,
    "pycharm": {
     "name": "#%%\n"
    }
   }
  },
  {
   "cell_type": "code",
   "execution_count": 34,
   "outputs": [
    {
     "data": {
      "text/plain": "0.6525532460867334"
     },
     "execution_count": 34,
     "metadata": {},
     "output_type": "execute_result"
    }
   ],
   "source": [
    "accuracy_test_RF_mix"
   ],
   "metadata": {
    "collapsed": false,
    "pycharm": {
     "name": "#%%\n"
    }
   }
  },
  {
   "cell_type": "code",
   "execution_count": 35,
   "outputs": [
    {
     "name": "stdout",
     "output_type": "stream",
     "text": [
      "              precision    recall  f1-score   support\n",
      "\n",
      "           0       0.08      0.00      0.00      1354\n",
      "           1       0.65      1.00      0.79      2543\n",
      "\n",
      "    accuracy                           0.65      3897\n",
      "   macro avg       0.36      0.50      0.39      3897\n",
      "weighted avg       0.45      0.65      0.51      3897\n",
      "\n"
     ]
    }
   ],
   "source": [
    "print(report_AB_mix)"
   ],
   "metadata": {
    "collapsed": false,
    "pycharm": {
     "name": "#%%\n"
    }
   }
  },
  {
   "cell_type": "code",
   "execution_count": 36,
   "outputs": [
    {
     "data": {
      "text/plain": "0.6497305619707467"
     },
     "execution_count": 36,
     "metadata": {},
     "output_type": "execute_result"
    }
   ],
   "source": [
    "accuracy_test_AB_mix"
   ],
   "metadata": {
    "collapsed": false,
    "pycharm": {
     "name": "#%%\n"
    }
   }
  },
  {
   "cell_type": "markdown",
   "source": [
    "Bar Chart"
   ],
   "metadata": {
    "collapsed": false,
    "pycharm": {
     "name": "#%% md\n"
    }
   }
  },
  {
   "cell_type": "code",
   "execution_count": 37,
   "outputs": [],
   "source": [
    "df_new = pd.DataFrame({'Model':['Random Forest', 'AdaBoost',],\n",
    "'Accuracy on Testing Data':[accuracy_test_RF_mix, accuracy_test_AB_mix,\n",
    "                           ] ,\n",
    "})"
   ],
   "metadata": {
    "collapsed": false,
    "pycharm": {
     "name": "#%%\n"
    }
   }
  },
  {
   "cell_type": "code",
   "execution_count": 38,
   "outputs": [
    {
     "data": {
      "text/plain": "(0.0, 1.0)"
     },
     "execution_count": 38,
     "metadata": {},
     "output_type": "execute_result"
    },
    {
     "data": {
      "text/plain": "<Figure size 432x288 with 1 Axes>",
      "image/png": "[encoded data removed]"
     },
     "metadata": {
      "needs_background": "light"
     },
     "output_type": "display_data"
    }
   ],
   "source": [
    "#for testing data\n",
    "bar_plot_test = sns.barplot(data = df_new, x = 'Model', y = 'Accuracy on Testing Data')\n",
    "bar_plot_test.set_ylim(0,1)"
   ],
   "metadata": {
    "collapsed": false,
    "pycharm": {
     "name": "#%%\n"
    }
   }
  },
  {
   "cell_type": "markdown",
   "source": [
    "After we create mixed test data set with fake tasks  fitted it with RandomForest and Adaboost  and give it lower accuracy than the original test data set"
   ],
   "metadata": {
    "collapsed": false,
    "pycharm": {
     "name": "#%% md\n"
    }
   }
  },
  {
   "cell_type": "markdown",
   "source": [
    "With Discriminator/ cascade framework"
   ],
   "metadata": {
    "collapsed": false,
    "pycharm": {
     "name": "#%% md\n"
    }
   }
  },
  {
   "cell_type": "code",
   "execution_count": 39,
   "outputs": [
    {
     "name": "stdout",
     "output_type": "stream",
     "text": [
      "122/122 [==============================] - 0s 1ms/step\n"
     ]
    },
    {
     "data": {
      "text/plain": "      0\n0     0\n1     0\n2     0\n3     0\n4     0\n...  ..\n3892  1\n3893  1\n3894  1\n3895  1\n3896  1\n\n[3897 rows x 1 columns]",
      "text/html": "<div>\n<style scoped>\n    .dataframe tbody tr th:only-of-type {\n        vertical-align: middle;\n    }\n\n    .dataframe tbody tr th {\n        vertical-align: top;\n    }\n\n    .dataframe thead th {\n        text-align: right;\n    }\n</style>\n<table border=\"1\" class=\"dataframe\">\n  <thead>\n    <tr style=\"text-align: right;\">\n      <th></th>\n      <th>0</th>\n    </tr>\n  </thead>\n  <tbody>\n    <tr>\n      <th>0</th>\n      <td>0</td>\n    </tr>\n    <tr>\n      <th>1</th>\n      <td>0</td>\n    </tr>\n    <tr>\n      <th>2</th>\n      <td>0</td>\n    </tr>\n    <tr>\n      <th>3</th>\n      <td>0</td>\n    </tr>\n    <tr>\n      <th>4</th>\n      <td>0</td>\n    </tr>\n    <tr>\n      <th>...</th>\n      <td>...</td>\n    </tr>\n    <tr>\n      <th>3892</th>\n      <td>1</td>\n    </tr>\n    <tr>\n      <th>3893</th>\n      <td>1</td>\n    </tr>\n    <tr>\n      <th>3894</th>\n      <td>1</td>\n    </tr>\n    <tr>\n      <th>3895</th>\n      <td>1</td>\n    </tr>\n    <tr>\n      <th>3896</th>\n      <td>1</td>\n    </tr>\n  </tbody>\n</table>\n<p>3897 rows × 1 columns</p>\n</div>"
     },
     "execution_count": 39,
     "metadata": {},
     "output_type": "execute_result"
    }
   ],
   "source": [
    "trained_desc=cond_gan.discriminator\n",
    "new_labels=keras.utils.to_categorical(New_y_Test,2)\n",
    "New_x_Test_with_labels=tf.concat([New_x_Test,new_labels],axis=1)\n",
    "y_pred_new=trained_desc.predict(New_x_Test_with_labels)\n",
    "y_pred_new=np.apply_along_axis(lambda x:1 if x >0.5 else 0 ,axis=1,arr=y_pred_new)\n",
    "y_pred_new_df=pd.DataFrame(y_pred_new)\n",
    "y_pred_new_df"
   ],
   "metadata": {
    "collapsed": false,
    "pycharm": {
     "name": "#%%\n"
    }
   }
  },
  {
   "cell_type": "code",
   "execution_count": 40,
   "outputs": [
    {
     "data": {
      "text/plain": "      0\n1000  1\n1001  1\n1002  1\n1005  1\n1006  1\n...  ..\n3892  1\n3893  1\n3894  1\n3895  1\n3896  1\n\n[2417 rows x 1 columns]",
      "text/html": "<div>\n<style scoped>\n    .dataframe tbody tr th:only-of-type {\n        vertical-align: middle;\n    }\n\n    .dataframe tbody tr th {\n        vertical-align: top;\n    }\n\n    .dataframe thead th {\n        text-align: right;\n    }\n</style>\n<table border=\"1\" class=\"dataframe\">\n  <thead>\n    <tr style=\"text-align: right;\">\n      <th></th>\n      <th>0</th>\n    </tr>\n  </thead>\n  <tbody>\n    <tr>\n      <th>1000</th>\n      <td>1</td>\n    </tr>\n    <tr>\n      <th>1001</th>\n      <td>1</td>\n    </tr>\n    <tr>\n      <th>1002</th>\n      <td>1</td>\n    </tr>\n    <tr>\n      <th>1005</th>\n      <td>1</td>\n    </tr>\n    <tr>\n      <th>1006</th>\n      <td>1</td>\n    </tr>\n    <tr>\n      <th>...</th>\n      <td>...</td>\n    </tr>\n    <tr>\n      <th>3892</th>\n      <td>1</td>\n    </tr>\n    <tr>\n      <th>3893</th>\n      <td>1</td>\n    </tr>\n    <tr>\n      <th>3894</th>\n      <td>1</td>\n    </tr>\n    <tr>\n      <th>3895</th>\n      <td>1</td>\n    </tr>\n    <tr>\n      <th>3896</th>\n      <td>1</td>\n    </tr>\n  </tbody>\n</table>\n<p>2417 rows × 1 columns</p>\n</div>"
     },
     "execution_count": 40,
     "metadata": {},
     "output_type": "execute_result"
    }
   ],
   "source": [
    "Real_tasks=y_pred_new_df[y_pred_new_df[0]==1]\n",
    "Real_tasks"
   ],
   "metadata": {
    "collapsed": false,
    "pycharm": {
     "name": "#%%\n"
    }
   }
  },
  {
   "cell_type": "code",
   "execution_count": 41,
   "outputs": [
    {
     "data": {
      "text/plain": "               0          1          2         3          4          5   \\\n0     2164.191406  45.525280 -75.250420  3.234113  18.733908  50.271618   \n1     2654.715088  45.537876 -75.252861  3.193758  17.586891  52.816406   \n2     2793.319336  45.535858 -75.268608  3.711390  18.019270  55.651287   \n3     2447.290527  45.540722 -75.238930  3.147765  16.152683  48.160370   \n4     2616.924805  45.517120 -75.252983  3.229619  16.571630  48.567574   \n...           ...        ...        ...       ...        ...        ...   \n3892     0.978995   0.443606  -0.620495  0.000000   0.130435   1.000000   \n3893     0.440860  -0.619198   0.462170 -0.333333  -0.739130   0.762712   \n3894    -0.097774   0.710110  -0.507246 -1.000000   0.739130  -0.966102   \n3895    -0.460365  -0.947784  -0.226452  0.000000   1.000000  -1.000000   \n3896    -0.581395  -0.804883  -0.239397  0.333333  -1.000000  -0.593220   \n\n             6          7         8          9         10             11  \n0     33.131824  37.222622  9.351373  65.270920  0.065401  196024.218750  \n1     31.906689  37.692921  9.807094  55.841099  0.035596  183793.390625  \n2     35.540157  42.264355  9.724212  67.410965  0.011787  189091.484375  \n3     38.465481  44.436760  9.722855  63.353432  0.207019  203018.296875  \n4     38.402740  44.091831  9.684939  57.219501  0.086321  200958.437500  \n...         ...        ...       ...        ...       ...            ...  \n3892   1.000000   1.000000  0.777778   0.800000 -1.000000       0.463310  \n3893   0.600000  -0.600000 -0.555556  -0.542857 -1.000000      -0.609753  \n3894   0.200000  -0.600000  0.555556  -0.171429 -1.000000       0.707218  \n3895   0.200000   0.200000  0.777778  -0.028571 -1.000000      -0.951267  \n3896   0.600000  -0.200000  0.555556   0.771429 -1.000000      -0.804928  \n\n[3897 rows x 12 columns]",
      "text/html": "<div>\n<style scoped>\n    .dataframe tbody tr th:only-of-type {\n        vertical-align: middle;\n    }\n\n    .dataframe tbody tr th {\n        vertical-align: top;\n    }\n\n    .dataframe thead th {\n        text-align: right;\n    }\n</style>\n<table border=\"1\" class=\"dataframe\">\n  <thead>\n    <tr style=\"text-align: right;\">\n      <th></th>\n      <th>0</th>\n      <th>1</th>\n      <th>2</th>\n      <th>3</th>\n      <th>4</th>\n      <th>5</th>\n      <th>6</th>\n      <th>7</th>\n      <th>8</th>\n      <th>9</th>\n      <th>10</th>\n      <th>11</th>\n    </tr>\n  </thead>\n  <tbody>\n    <tr>\n      <th>0</th>\n      <td>2164.191406</td>\n      <td>45.525280</td>\n      <td>-75.250420</td>\n      <td>3.234113</td>\n      <td>18.733908</td>\n      <td>50.271618</td>\n      <td>33.131824</td>\n      <td>37.222622</td>\n      <td>9.351373</td>\n      <td>65.270920</td>\n      <td>0.065401</td>\n      <td>196024.218750</td>\n    </tr>\n    <tr>\n      <th>1</th>\n      <td>2654.715088</td>\n      <td>45.537876</td>\n      <td>-75.252861</td>\n      <td>3.193758</td>\n      <td>17.586891</td>\n      <td>52.816406</td>\n      <td>31.906689</td>\n      <td>37.692921</td>\n      <td>9.807094</td>\n      <td>55.841099</td>\n      <td>0.035596</td>\n      <td>183793.390625</td>\n    </tr>\n    <tr>\n      <th>2</th>\n      <td>2793.319336</td>\n      <td>45.535858</td>\n      <td>-75.268608</td>\n      <td>3.711390</td>\n      <td>18.019270</td>\n      <td>55.651287</td>\n      <td>35.540157</td>\n      <td>42.264355</td>\n      <td>9.724212</td>\n      <td>67.410965</td>\n      <td>0.011787</td>\n      <td>189091.484375</td>\n    </tr>\n    <tr>\n      <th>3</th>\n      <td>2447.290527</td>\n      <td>45.540722</td>\n      <td>-75.238930</td>\n      <td>3.147765</td>\n      <td>16.152683</td>\n      <td>48.160370</td>\n      <td>38.465481</td>\n      <td>44.436760</td>\n      <td>9.722855</td>\n      <td>63.353432</td>\n      <td>0.207019</td>\n      <td>203018.296875</td>\n    </tr>\n    <tr>\n      <th>4</th>\n      <td>2616.924805</td>\n      <td>45.517120</td>\n      <td>-75.252983</td>\n      <td>3.229619</td>\n      <td>16.571630</td>\n      <td>48.567574</td>\n      <td>38.402740</td>\n      <td>44.091831</td>\n      <td>9.684939</td>\n      <td>57.219501</td>\n      <td>0.086321</td>\n      <td>200958.437500</td>\n    </tr>\n    <tr>\n      <th>...</th>\n      <td>...</td>\n      <td>...</td>\n      <td>...</td>\n      <td>...</td>\n      <td>...</td>\n      <td>...</td>\n      <td>...</td>\n      <td>...</td>\n      <td>...</td>\n      <td>...</td>\n      <td>...</td>\n      <td>...</td>\n    </tr>\n    <tr>\n      <th>3892</th>\n      <td>0.978995</td>\n      <td>0.443606</td>\n      <td>-0.620495</td>\n      <td>0.000000</td>\n      <td>0.130435</td>\n      <td>1.000000</td>\n      <td>1.000000</td>\n      <td>1.000000</td>\n      <td>0.777778</td>\n      <td>0.800000</td>\n      <td>-1.000000</td>\n      <td>0.463310</td>\n    </tr>\n    <tr>\n      <th>3893</th>\n      <td>0.440860</td>\n      <td>-0.619198</td>\n      <td>0.462170</td>\n      <td>-0.333333</td>\n      <td>-0.739130</td>\n      <td>0.762712</td>\n      <td>0.600000</td>\n      <td>-0.600000</td>\n      <td>-0.555556</td>\n      <td>-0.542857</td>\n      <td>-1.000000</td>\n      <td>-0.609753</td>\n    </tr>\n    <tr>\n      <th>3894</th>\n      <td>-0.097774</td>\n      <td>0.710110</td>\n      <td>-0.507246</td>\n      <td>-1.000000</td>\n      <td>0.739130</td>\n      <td>-0.966102</td>\n      <td>0.200000</td>\n      <td>-0.600000</td>\n      <td>0.555556</td>\n      <td>-0.171429</td>\n      <td>-1.000000</td>\n      <td>0.707218</td>\n    </tr>\n    <tr>\n      <th>3895</th>\n      <td>-0.460365</td>\n      <td>-0.947784</td>\n      <td>-0.226452</td>\n      <td>0.000000</td>\n      <td>1.000000</td>\n      <td>-1.000000</td>\n      <td>0.200000</td>\n      <td>0.200000</td>\n      <td>0.777778</td>\n      <td>-0.028571</td>\n      <td>-1.000000</td>\n      <td>-0.951267</td>\n    </tr>\n    <tr>\n      <th>3896</th>\n      <td>-0.581395</td>\n      <td>-0.804883</td>\n      <td>-0.239397</td>\n      <td>0.333333</td>\n      <td>-1.000000</td>\n      <td>-0.593220</td>\n      <td>0.600000</td>\n      <td>-0.200000</td>\n      <td>0.555556</td>\n      <td>0.771429</td>\n      <td>-1.000000</td>\n      <td>-0.804928</td>\n    </tr>\n  </tbody>\n</table>\n<p>3897 rows × 12 columns</p>\n</div>"
     },
     "execution_count": 41,
     "metadata": {},
     "output_type": "execute_result"
    }
   ],
   "source": [
    "New_x_Test_df=pd.DataFrame(New_x_Test)\n",
    "New_x_Test_df"
   ],
   "metadata": {
    "collapsed": false,
    "pycharm": {
     "name": "#%%\n"
    }
   }
  },
  {
   "cell_type": "code",
   "execution_count": 43,
   "outputs": [
    {
     "data": {
      "text/plain": "            0         1         2         3         4         5    6    7   \\\n1000  0.993998  0.732562  0.299011  0.666667 -0.913043  0.355932 -0.6 -1.0   \n1001  0.295324  0.602653 -0.480717 -1.000000  0.565217 -0.830508  0.2 -0.6   \n1002 -0.679420  0.497367 -0.598442 -1.000000  0.652174  0.050847  0.6  0.2   \n1005 -0.723431  0.853849 -0.753141  0.000000  0.913043 -0.016949  0.2  0.2   \n1006 -0.272318  0.654998  0.384789 -0.333333  0.043478 -0.186441 -1.0 -1.0   \n...        ...       ...       ...       ...       ...       ...  ...  ...   \n3892  0.978995  0.443606 -0.620495  0.000000  0.130435  1.000000  1.0  1.0   \n3893  0.440860 -0.619198  0.462170 -0.333333 -0.739130  0.762712  0.6 -0.6   \n3894 -0.097774  0.710110 -0.507246 -1.000000  0.739130 -0.966102  0.2 -0.6   \n3895 -0.460365 -0.947784 -0.226452  0.000000  1.000000 -1.000000  0.2  0.2   \n3896 -0.581395 -0.804883 -0.239397  0.333333 -1.000000 -0.593220  0.6 -0.2   \n\n            8         9    10        11  \n1000 -0.777778 -1.000000 -1.0  0.707281  \n1001 -0.333333  0.542857 -1.0  0.609659  \n1002 -0.333333 -0.085714 -1.0  0.512090  \n1005  0.555556 -0.400000 -1.0  0.853536  \n1006  0.111111 -0.742857 -1.0  0.658512  \n...        ...       ...  ...       ...  \n3892  0.777778  0.800000 -1.0  0.463310  \n3893 -0.555556 -0.542857 -1.0 -0.609753  \n3894  0.555556 -0.171429 -1.0  0.707218  \n3895  0.777778 -0.028571 -1.0 -0.951267  \n3896  0.555556  0.771429 -1.0 -0.804928  \n\n[2417 rows x 12 columns]",
      "text/html": "<div>\n<style scoped>\n    .dataframe tbody tr th:only-of-type {\n        vertical-align: middle;\n    }\n\n    .dataframe tbody tr th {\n        vertical-align: top;\n    }\n\n    .dataframe thead th {\n        text-align: right;\n    }\n</style>\n<table border=\"1\" class=\"dataframe\">\n  <thead>\n    <tr style=\"text-align: right;\">\n      <th></th>\n      <th>0</th>\n      <th>1</th>\n      <th>2</th>\n      <th>3</th>\n      <th>4</th>\n      <th>5</th>\n      <th>6</th>\n      <th>7</th>\n      <th>8</th>\n      <th>9</th>\n      <th>10</th>\n      <th>11</th>\n    </tr>\n  </thead>\n  <tbody>\n    <tr>\n      <th>1000</th>\n      <td>0.993998</td>\n      <td>0.732562</td>\n      <td>0.299011</td>\n      <td>0.666667</td>\n      <td>-0.913043</td>\n      <td>0.355932</td>\n      <td>-0.6</td>\n      <td>-1.0</td>\n      <td>-0.777778</td>\n      <td>-1.000000</td>\n      <td>-1.0</td>\n      <td>0.707281</td>\n    </tr>\n    <tr>\n      <th>1001</th>\n      <td>0.295324</td>\n      <td>0.602653</td>\n      <td>-0.480717</td>\n      <td>-1.000000</td>\n      <td>0.565217</td>\n      <td>-0.830508</td>\n      <td>0.2</td>\n      <td>-0.6</td>\n      <td>-0.333333</td>\n      <td>0.542857</td>\n      <td>-1.0</td>\n      <td>0.609659</td>\n    </tr>\n    <tr>\n      <th>1002</th>\n      <td>-0.679420</td>\n      <td>0.497367</td>\n      <td>-0.598442</td>\n      <td>-1.000000</td>\n      <td>0.652174</td>\n      <td>0.050847</td>\n      <td>0.6</td>\n      <td>0.2</td>\n      <td>-0.333333</td>\n      <td>-0.085714</td>\n      <td>-1.0</td>\n      <td>0.512090</td>\n    </tr>\n    <tr>\n      <th>1005</th>\n      <td>-0.723431</td>\n      <td>0.853849</td>\n      <td>-0.753141</td>\n      <td>0.000000</td>\n      <td>0.913043</td>\n      <td>-0.016949</td>\n      <td>0.2</td>\n      <td>0.2</td>\n      <td>0.555556</td>\n      <td>-0.400000</td>\n      <td>-1.0</td>\n      <td>0.853536</td>\n    </tr>\n    <tr>\n      <th>1006</th>\n      <td>-0.272318</td>\n      <td>0.654998</td>\n      <td>0.384789</td>\n      <td>-0.333333</td>\n      <td>0.043478</td>\n      <td>-0.186441</td>\n      <td>-1.0</td>\n      <td>-1.0</td>\n      <td>0.111111</td>\n      <td>-0.742857</td>\n      <td>-1.0</td>\n      <td>0.658512</td>\n    </tr>\n    <tr>\n      <th>...</th>\n      <td>...</td>\n      <td>...</td>\n      <td>...</td>\n      <td>...</td>\n      <td>...</td>\n      <td>...</td>\n      <td>...</td>\n      <td>...</td>\n      <td>...</td>\n      <td>...</td>\n      <td>...</td>\n      <td>...</td>\n    </tr>\n    <tr>\n      <th>3892</th>\n      <td>0.978995</td>\n      <td>0.443606</td>\n      <td>-0.620495</td>\n      <td>0.000000</td>\n      <td>0.130435</td>\n      <td>1.000000</td>\n      <td>1.0</td>\n      <td>1.0</td>\n      <td>0.777778</td>\n      <td>0.800000</td>\n      <td>-1.0</td>\n      <td>0.463310</td>\n    </tr>\n    <tr>\n      <th>3893</th>\n      <td>0.440860</td>\n      <td>-0.619198</td>\n      <td>0.462170</td>\n      <td>-0.333333</td>\n      <td>-0.739130</td>\n      <td>0.762712</td>\n      <td>0.6</td>\n      <td>-0.6</td>\n      <td>-0.555556</td>\n      <td>-0.542857</td>\n      <td>-1.0</td>\n      <td>-0.609753</td>\n    </tr>\n    <tr>\n      <th>3894</th>\n      <td>-0.097774</td>\n      <td>0.710110</td>\n      <td>-0.507246</td>\n      <td>-1.000000</td>\n      <td>0.739130</td>\n      <td>-0.966102</td>\n      <td>0.2</td>\n      <td>-0.6</td>\n      <td>0.555556</td>\n      <td>-0.171429</td>\n      <td>-1.0</td>\n      <td>0.707218</td>\n    </tr>\n    <tr>\n      <th>3895</th>\n      <td>-0.460365</td>\n      <td>-0.947784</td>\n      <td>-0.226452</td>\n      <td>0.000000</td>\n      <td>1.000000</td>\n      <td>-1.000000</td>\n      <td>0.2</td>\n      <td>0.2</td>\n      <td>0.777778</td>\n      <td>-0.028571</td>\n      <td>-1.0</td>\n      <td>-0.951267</td>\n    </tr>\n    <tr>\n      <th>3896</th>\n      <td>-0.581395</td>\n      <td>-0.804883</td>\n      <td>-0.239397</td>\n      <td>0.333333</td>\n      <td>-1.000000</td>\n      <td>-0.593220</td>\n      <td>0.6</td>\n      <td>-0.2</td>\n      <td>0.555556</td>\n      <td>0.771429</td>\n      <td>-1.0</td>\n      <td>-0.804928</td>\n    </tr>\n  </tbody>\n</table>\n<p>2417 rows × 12 columns</p>\n</div>"
     },
     "execution_count": 43,
     "metadata": {},
     "output_type": "execute_result"
    }
   ],
   "source": [
    "Real_Features=New_x_Test_df.iloc[Real_tasks.index,:]\n",
    "Real_Features"
   ],
   "metadata": {
    "collapsed": false,
    "pycharm": {
     "name": "#%%\n"
    }
   }
  },
  {
   "cell_type": "code",
   "execution_count": 48,
   "outputs": [
    {
     "name": "stderr",
     "output_type": "stream",
     "text": [
      "C:\\Users\\nadai\\AppData\\Local\\Programs\\Python\\Python39\\lib\\site-packages\\sklearn\\base.py:450: UserWarning: X does not have valid feature names, but RandomForestClassifier was fitted with feature names\n",
      "  warnings.warn(\n"
     ]
    }
   ],
   "source": [
    "Cascade_RF=model_RF.score(Real_Features,Real_tasks)"
   ],
   "metadata": {
    "collapsed": false,
    "pycharm": {
     "name": "#%%\n"
    }
   }
  },
  {
   "cell_type": "code",
   "execution_count": 49,
   "outputs": [
    {
     "name": "stderr",
     "output_type": "stream",
     "text": [
      "C:\\Users\\nadai\\AppData\\Local\\Programs\\Python\\Python39\\lib\\site-packages\\sklearn\\base.py:450: UserWarning: X does not have valid feature names, but AdaBoostClassifier was fitted with feature names\n",
      "  warnings.warn(\n"
     ]
    }
   ],
   "source": [
    "Cascade_AB=model_AB.score(Real_Features,Real_tasks)"
   ],
   "metadata": {
    "collapsed": false,
    "pycharm": {
     "name": "#%%\n"
    }
   }
  },
  {
   "cell_type": "code",
   "execution_count": 46,
   "outputs": [
    {
     "data": {
      "text/plain": "<AxesSubplot:>"
     },
     "execution_count": 46,
     "metadata": {},
     "output_type": "execute_result"
    },
    {
     "data": {
      "text/plain": "<Figure size 432x288 with 1 Axes>",
      "image/png": "[encoded data removed]"
     },
     "metadata": {
      "needs_background": "light"
     },
     "output_type": "display_data"
    }
   ],
   "source": [
    "sns.barplot(x=[\"RF\",\"AB\"],y=[Cascade_RF,Cascade_AB])"
   ],
   "metadata": {
    "collapsed": false,
    "pycharm": {
     "name": "#%%\n"
    }
   }
  },
  {
   "cell_type": "markdown",
   "source": [
    "Discriminator able to remove fake tasks and this help two classifier model (Rf and AB) to classify correctly with high accuracy"
   ],
   "metadata": {
    "collapsed": false,
    "pycharm": {
     "name": "#%% md\n"
    }
   }
  }
 ],
 "metadata": {
  "kernelspec": {
   "display_name": "Python 3 (ipykernel)",
   "language": "python",
   "name": "python3"
  },
  "language_info": {
   "codemirror_mode": {
    "name": "ipython",
    "version": 3
   },
   "file_extension": ".py",
   "mimetype": "text/x-python",
   "name": "python",
   "nbconvert_exporter": "python",
   "pygments_lexer": "ipython3",
   "version": "3.9.0"
  }
 },
 "nbformat": 4,
 "nbformat_minor": 1
}